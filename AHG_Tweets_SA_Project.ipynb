{
 "cells": [
  {
   "cell_type": "markdown",
   "metadata": {},
   "source": [
    "# Importing Packages "
   ]
  },
  {
   "cell_type": "code",
   "execution_count": 1,
   "metadata": {},
   "outputs": [],
   "source": [
    "# Import pandas\n",
    "import pandas as pd\n",
    "# Import Natural Language Toolkit\n",
    "import nltk\n",
    "# Import numpy\n",
    "import numpy as np\n",
    "# Import seaborn\n",
    "import seaborn as sns\n",
    "# Import pyplot\n",
    "import matplotlib.pyplot as plt\n",
    "# Import GridSearchCV\n",
    "from sklearn.model_selection import GridSearchCV"
   ]
  },
  {
   "cell_type": "markdown",
   "metadata": {},
   "source": [
    "## Importing data set "
   ]
  },
  {
   "cell_type": "code",
   "execution_count": 2,
   "metadata": {},
   "outputs": [
    {
     "data": {
      "text/html": [
       "<div>\n",
       "<style scoped>\n",
       "    .dataframe tbody tr th:only-of-type {\n",
       "        vertical-align: middle;\n",
       "    }\n",
       "\n",
       "    .dataframe tbody tr th {\n",
       "        vertical-align: top;\n",
       "    }\n",
       "\n",
       "    .dataframe thead th {\n",
       "        text-align: right;\n",
       "    }\n",
       "</style>\n",
       "<table border=\"1\" class=\"dataframe\">\n",
       "  <thead>\n",
       "    <tr style=\"text-align: right;\">\n",
       "      <th></th>\n",
       "      <th>tweet_id</th>\n",
       "      <th>airline_sentiment</th>\n",
       "      <th>airline_sentiment_confidence</th>\n",
       "      <th>negativereason</th>\n",
       "      <th>negativereason_confidence</th>\n",
       "      <th>airline</th>\n",
       "      <th>airline_sentiment_gold</th>\n",
       "      <th>name</th>\n",
       "      <th>negativereason_gold</th>\n",
       "      <th>retweet_count</th>\n",
       "      <th>text</th>\n",
       "      <th>tweet_coord</th>\n",
       "      <th>tweet_created</th>\n",
       "      <th>tweet_location</th>\n",
       "      <th>user_timezone</th>\n",
       "    </tr>\n",
       "  </thead>\n",
       "  <tbody>\n",
       "    <tr>\n",
       "      <td>0</td>\n",
       "      <td>570306133677760513</td>\n",
       "      <td>neutral</td>\n",
       "      <td>1.0000</td>\n",
       "      <td>NaN</td>\n",
       "      <td>NaN</td>\n",
       "      <td>Virgin America</td>\n",
       "      <td>NaN</td>\n",
       "      <td>cairdin</td>\n",
       "      <td>NaN</td>\n",
       "      <td>0</td>\n",
       "      <td>@VirginAmerica What @dhepburn said.</td>\n",
       "      <td>NaN</td>\n",
       "      <td>2015-02-24 11:35:52 -0800</td>\n",
       "      <td>NaN</td>\n",
       "      <td>Eastern Time (US &amp; Canada)</td>\n",
       "    </tr>\n",
       "    <tr>\n",
       "      <td>1</td>\n",
       "      <td>570301130888122368</td>\n",
       "      <td>positive</td>\n",
       "      <td>0.3486</td>\n",
       "      <td>NaN</td>\n",
       "      <td>0.0000</td>\n",
       "      <td>Virgin America</td>\n",
       "      <td>NaN</td>\n",
       "      <td>jnardino</td>\n",
       "      <td>NaN</td>\n",
       "      <td>0</td>\n",
       "      <td>@VirginAmerica plus you've added commercials t...</td>\n",
       "      <td>NaN</td>\n",
       "      <td>2015-02-24 11:15:59 -0800</td>\n",
       "      <td>NaN</td>\n",
       "      <td>Pacific Time (US &amp; Canada)</td>\n",
       "    </tr>\n",
       "    <tr>\n",
       "      <td>2</td>\n",
       "      <td>570301083672813571</td>\n",
       "      <td>neutral</td>\n",
       "      <td>0.6837</td>\n",
       "      <td>NaN</td>\n",
       "      <td>NaN</td>\n",
       "      <td>Virgin America</td>\n",
       "      <td>NaN</td>\n",
       "      <td>yvonnalynn</td>\n",
       "      <td>NaN</td>\n",
       "      <td>0</td>\n",
       "      <td>@VirginAmerica I didn't today... Must mean I n...</td>\n",
       "      <td>NaN</td>\n",
       "      <td>2015-02-24 11:15:48 -0800</td>\n",
       "      <td>Lets Play</td>\n",
       "      <td>Central Time (US &amp; Canada)</td>\n",
       "    </tr>\n",
       "    <tr>\n",
       "      <td>3</td>\n",
       "      <td>570301031407624196</td>\n",
       "      <td>negative</td>\n",
       "      <td>1.0000</td>\n",
       "      <td>Bad Flight</td>\n",
       "      <td>0.7033</td>\n",
       "      <td>Virgin America</td>\n",
       "      <td>NaN</td>\n",
       "      <td>jnardino</td>\n",
       "      <td>NaN</td>\n",
       "      <td>0</td>\n",
       "      <td>@VirginAmerica it's really aggressive to blast...</td>\n",
       "      <td>NaN</td>\n",
       "      <td>2015-02-24 11:15:36 -0800</td>\n",
       "      <td>NaN</td>\n",
       "      <td>Pacific Time (US &amp; Canada)</td>\n",
       "    </tr>\n",
       "    <tr>\n",
       "      <td>4</td>\n",
       "      <td>570300817074462722</td>\n",
       "      <td>negative</td>\n",
       "      <td>1.0000</td>\n",
       "      <td>Can't Tell</td>\n",
       "      <td>1.0000</td>\n",
       "      <td>Virgin America</td>\n",
       "      <td>NaN</td>\n",
       "      <td>jnardino</td>\n",
       "      <td>NaN</td>\n",
       "      <td>0</td>\n",
       "      <td>@VirginAmerica and it's a really big bad thing...</td>\n",
       "      <td>NaN</td>\n",
       "      <td>2015-02-24 11:14:45 -0800</td>\n",
       "      <td>NaN</td>\n",
       "      <td>Pacific Time (US &amp; Canada)</td>\n",
       "    </tr>\n",
       "    <tr>\n",
       "      <td>5</td>\n",
       "      <td>570300767074181121</td>\n",
       "      <td>negative</td>\n",
       "      <td>1.0000</td>\n",
       "      <td>Can't Tell</td>\n",
       "      <td>0.6842</td>\n",
       "      <td>Virgin America</td>\n",
       "      <td>NaN</td>\n",
       "      <td>jnardino</td>\n",
       "      <td>NaN</td>\n",
       "      <td>0</td>\n",
       "      <td>@VirginAmerica seriously would pay $30 a fligh...</td>\n",
       "      <td>NaN</td>\n",
       "      <td>2015-02-24 11:14:33 -0800</td>\n",
       "      <td>NaN</td>\n",
       "      <td>Pacific Time (US &amp; Canada)</td>\n",
       "    </tr>\n",
       "    <tr>\n",
       "      <td>6</td>\n",
       "      <td>570300616901320704</td>\n",
       "      <td>positive</td>\n",
       "      <td>0.6745</td>\n",
       "      <td>NaN</td>\n",
       "      <td>0.0000</td>\n",
       "      <td>Virgin America</td>\n",
       "      <td>NaN</td>\n",
       "      <td>cjmcginnis</td>\n",
       "      <td>NaN</td>\n",
       "      <td>0</td>\n",
       "      <td>@VirginAmerica yes, nearly every time I fly VX...</td>\n",
       "      <td>NaN</td>\n",
       "      <td>2015-02-24 11:13:57 -0800</td>\n",
       "      <td>San Francisco CA</td>\n",
       "      <td>Pacific Time (US &amp; Canada)</td>\n",
       "    </tr>\n",
       "    <tr>\n",
       "      <td>7</td>\n",
       "      <td>570300248553349120</td>\n",
       "      <td>neutral</td>\n",
       "      <td>0.6340</td>\n",
       "      <td>NaN</td>\n",
       "      <td>NaN</td>\n",
       "      <td>Virgin America</td>\n",
       "      <td>NaN</td>\n",
       "      <td>pilot</td>\n",
       "      <td>NaN</td>\n",
       "      <td>0</td>\n",
       "      <td>@VirginAmerica Really missed a prime opportuni...</td>\n",
       "      <td>NaN</td>\n",
       "      <td>2015-02-24 11:12:29 -0800</td>\n",
       "      <td>Los Angeles</td>\n",
       "      <td>Pacific Time (US &amp; Canada)</td>\n",
       "    </tr>\n",
       "    <tr>\n",
       "      <td>8</td>\n",
       "      <td>570299953286942721</td>\n",
       "      <td>positive</td>\n",
       "      <td>0.6559</td>\n",
       "      <td>NaN</td>\n",
       "      <td>NaN</td>\n",
       "      <td>Virgin America</td>\n",
       "      <td>NaN</td>\n",
       "      <td>dhepburn</td>\n",
       "      <td>NaN</td>\n",
       "      <td>0</td>\n",
       "      <td>@virginamerica Well, I didn't…but NOW I DO! :-D</td>\n",
       "      <td>NaN</td>\n",
       "      <td>2015-02-24 11:11:19 -0800</td>\n",
       "      <td>San Diego</td>\n",
       "      <td>Pacific Time (US &amp; Canada)</td>\n",
       "    </tr>\n",
       "    <tr>\n",
       "      <td>9</td>\n",
       "      <td>570295459631263746</td>\n",
       "      <td>positive</td>\n",
       "      <td>1.0000</td>\n",
       "      <td>NaN</td>\n",
       "      <td>NaN</td>\n",
       "      <td>Virgin America</td>\n",
       "      <td>NaN</td>\n",
       "      <td>YupitsTate</td>\n",
       "      <td>NaN</td>\n",
       "      <td>0</td>\n",
       "      <td>@VirginAmerica it was amazing, and arrived an ...</td>\n",
       "      <td>NaN</td>\n",
       "      <td>2015-02-24 10:53:27 -0800</td>\n",
       "      <td>Los Angeles</td>\n",
       "      <td>Eastern Time (US &amp; Canada)</td>\n",
       "    </tr>\n",
       "  </tbody>\n",
       "</table>\n",
       "</div>"
      ],
      "text/plain": [
       "             tweet_id airline_sentiment  airline_sentiment_confidence  \\\n",
       "0  570306133677760513           neutral                        1.0000   \n",
       "1  570301130888122368          positive                        0.3486   \n",
       "2  570301083672813571           neutral                        0.6837   \n",
       "3  570301031407624196          negative                        1.0000   \n",
       "4  570300817074462722          negative                        1.0000   \n",
       "5  570300767074181121          negative                        1.0000   \n",
       "6  570300616901320704          positive                        0.6745   \n",
       "7  570300248553349120           neutral                        0.6340   \n",
       "8  570299953286942721          positive                        0.6559   \n",
       "9  570295459631263746          positive                        1.0000   \n",
       "\n",
       "  negativereason  negativereason_confidence         airline  \\\n",
       "0            NaN                        NaN  Virgin America   \n",
       "1            NaN                     0.0000  Virgin America   \n",
       "2            NaN                        NaN  Virgin America   \n",
       "3     Bad Flight                     0.7033  Virgin America   \n",
       "4     Can't Tell                     1.0000  Virgin America   \n",
       "5     Can't Tell                     0.6842  Virgin America   \n",
       "6            NaN                     0.0000  Virgin America   \n",
       "7            NaN                        NaN  Virgin America   \n",
       "8            NaN                        NaN  Virgin America   \n",
       "9            NaN                        NaN  Virgin America   \n",
       "\n",
       "  airline_sentiment_gold        name negativereason_gold  retweet_count  \\\n",
       "0                    NaN     cairdin                 NaN              0   \n",
       "1                    NaN    jnardino                 NaN              0   \n",
       "2                    NaN  yvonnalynn                 NaN              0   \n",
       "3                    NaN    jnardino                 NaN              0   \n",
       "4                    NaN    jnardino                 NaN              0   \n",
       "5                    NaN    jnardino                 NaN              0   \n",
       "6                    NaN  cjmcginnis                 NaN              0   \n",
       "7                    NaN       pilot                 NaN              0   \n",
       "8                    NaN    dhepburn                 NaN              0   \n",
       "9                    NaN  YupitsTate                 NaN              0   \n",
       "\n",
       "                                                text tweet_coord  \\\n",
       "0                @VirginAmerica What @dhepburn said.         NaN   \n",
       "1  @VirginAmerica plus you've added commercials t...         NaN   \n",
       "2  @VirginAmerica I didn't today... Must mean I n...         NaN   \n",
       "3  @VirginAmerica it's really aggressive to blast...         NaN   \n",
       "4  @VirginAmerica and it's a really big bad thing...         NaN   \n",
       "5  @VirginAmerica seriously would pay $30 a fligh...         NaN   \n",
       "6  @VirginAmerica yes, nearly every time I fly VX...         NaN   \n",
       "7  @VirginAmerica Really missed a prime opportuni...         NaN   \n",
       "8    @virginamerica Well, I didn't…but NOW I DO! :-D         NaN   \n",
       "9  @VirginAmerica it was amazing, and arrived an ...         NaN   \n",
       "\n",
       "               tweet_created    tweet_location               user_timezone  \n",
       "0  2015-02-24 11:35:52 -0800               NaN  Eastern Time (US & Canada)  \n",
       "1  2015-02-24 11:15:59 -0800               NaN  Pacific Time (US & Canada)  \n",
       "2  2015-02-24 11:15:48 -0800         Lets Play  Central Time (US & Canada)  \n",
       "3  2015-02-24 11:15:36 -0800               NaN  Pacific Time (US & Canada)  \n",
       "4  2015-02-24 11:14:45 -0800               NaN  Pacific Time (US & Canada)  \n",
       "5  2015-02-24 11:14:33 -0800               NaN  Pacific Time (US & Canada)  \n",
       "6  2015-02-24 11:13:57 -0800  San Francisco CA  Pacific Time (US & Canada)  \n",
       "7  2015-02-24 11:12:29 -0800       Los Angeles  Pacific Time (US & Canada)  \n",
       "8  2015-02-24 11:11:19 -0800         San Diego  Pacific Time (US & Canada)  \n",
       "9  2015-02-24 10:53:27 -0800       Los Angeles  Eastern Time (US & Canada)  "
      ]
     },
     "execution_count": 2,
     "metadata": {},
     "output_type": "execute_result"
    }
   ],
   "source": [
    "# Import tweets data set \n",
    "\n",
    "path = './data/'\n",
    "filename = 'tweets.csv'\n",
    "\n",
    "try:\n",
    "    df = pd.read_csv(path+filename)\n",
    "except FileNotFoundError:\n",
    "    # If data is not found, download it from GitHub\n",
    "    import os\n",
    "    os.system(f'git clone --single-branch --depth=1 https://github.com/DeltaAnalytics/machine_learning_for_good_data {path}')\n",
    "    df = pd.read_csv(path+filename)\n",
    "    \n",
    "    \n",
    "df.head(10)\n"
   ]
  },
  {
   "cell_type": "markdown",
   "metadata": {},
   "source": [
    "## Removing the columns that are not needed"
   ]
  },
  {
   "cell_type": "code",
   "execution_count": 3,
   "metadata": {},
   "outputs": [
    {
     "data": {
      "text/plain": [
       "tweet_id                          int64\n",
       "airline_sentiment                object\n",
       "airline_sentiment_confidence    float64\n",
       "airline                          object\n",
       "retweet_count                     int64\n",
       "text                             object\n",
       "tweet_created                    object\n",
       "tweet_location                   object\n",
       "user_timezone                    object\n",
       "dtype: object"
      ]
     },
     "execution_count": 3,
     "metadata": {},
     "output_type": "execute_result"
    }
   ],
   "source": [
    "# Select out columns of interest into new data set 'tweets'\n",
    "\n",
    "tweet_corpus = pd.DataFrame(df[['airline_sentiment', 'text']]).copy()\n",
    "\n",
    "tweets = df[['tweet_id', 'airline_sentiment', 'airline_sentiment_confidence', 'airline', 'retweet_count', 'text', 'tweet_created', 'tweet_location', 'user_timezone']].copy()\n",
    "\n",
    "tweets.dtypes"
   ]
  },
  {
   "cell_type": "markdown",
   "metadata": {},
   "source": [
    "## Distribution of sentiments"
   ]
  },
  {
   "cell_type": "code",
   "execution_count": 4,
   "metadata": {},
   "outputs": [
    {
     "data": {
      "image/png": "[encoded data removed]",
      "text/plain": [
       "<Figure size 576x288 with 1 Axes>"
      ]
     },
     "metadata": {
      "needs_background": "light"
     },
     "output_type": "display_data"
    }
   ],
   "source": [
    "# Plot of the count of the different sentiments aligned to tweets in the dataset\n",
    "\n",
    "fig = plt.figure(figsize=(8,4))\n",
    "sns.barplot(x = tweets['airline_sentiment'].unique(), y=tweets['airline_sentiment'].value_counts())\n",
    "plt.show()\n",
    "\n",
    "\n"
   ]
  },
  {
   "cell_type": "code",
   "execution_count": 5,
   "metadata": {},
   "outputs": [
    {
     "data": {
      "text/plain": [
       "negative    9178\n",
       "neutral     3099\n",
       "positive    2363\n",
       "Name: airline_sentiment, dtype: int64"
      ]
     },
     "execution_count": 5,
     "metadata": {},
     "output_type": "execute_result"
    }
   ],
   "source": [
    "# Numeric count of the different sentiments aligned to tweets in the dataset\n",
    "\n",
    "tweets['airline_sentiment'].value_counts()"
   ]
  },
  {
   "cell_type": "markdown",
   "metadata": {},
   "source": [
    "## Counts of Tweets for the different airlines"
   ]
  },
  {
   "cell_type": "code",
   "execution_count": 6,
   "metadata": {},
   "outputs": [
    {
     "data": {
      "image/png": "[encoded data removed]",
      "text/plain": [
       "<Figure size 576x288 with 1 Axes>"
      ]
     },
     "metadata": {
      "needs_background": "light"
     },
     "output_type": "display_data"
    }
   ],
   "source": [
    "# Plot count of tweets from the different airlines\n",
    "\n",
    "fig = plt.figure(figsize=(8,4))\n",
    "sns.barplot(x = tweets['airline'].unique(), y=tweets['airline'].value_counts())\n",
    "plt.show()"
   ]
  },
  {
   "cell_type": "code",
   "execution_count": 7,
   "metadata": {},
   "outputs": [
    {
     "data": {
      "text/plain": [
       "United            3822\n",
       "US Airways        2913\n",
       "American          2759\n",
       "Southwest         2420\n",
       "Delta             2222\n",
       "Virgin America     504\n",
       "Name: airline, dtype: int64"
      ]
     },
     "execution_count": 7,
     "metadata": {},
     "output_type": "execute_result"
    }
   ],
   "source": [
    "# Numeric count of tweets from the different airlines\n",
    "\n",
    "tweets['airline'].value_counts()"
   ]
  },
  {
   "cell_type": "markdown",
   "metadata": {},
   "source": [
    "## Cleaning the text data"
   ]
  },
  {
   "cell_type": "code",
   "execution_count": 8,
   "metadata": {},
   "outputs": [],
   "source": [
    "import re\n",
    "import string\n",
    "\n",
    "# Create text cleaning function\n",
    "\n",
    "def cleaning_text(text):\n",
    "    #Make text lowercase .'''\n",
    "    text = text.lower()\n",
    "    # Remove punctuation\n",
    "    text = re.sub('[%s]' % re.escape(string.punctuation), '', text)\n",
    "    #remove words containing numbers\n",
    "    text = re.sub('\\w*\\d\\w*', '', text)\n",
    "    return text\n",
    "\n",
    "cleaning = lambda x: cleaning_text(x)"
   ]
  },
  {
   "cell_type": "code",
   "execution_count": 9,
   "metadata": {},
   "outputs": [
    {
     "data": {
      "text/html": [
       "<div>\n",
       "<style scoped>\n",
       "    .dataframe tbody tr th:only-of-type {\n",
       "        vertical-align: middle;\n",
       "    }\n",
       "\n",
       "    .dataframe tbody tr th {\n",
       "        vertical-align: top;\n",
       "    }\n",
       "\n",
       "    .dataframe thead th {\n",
       "        text-align: right;\n",
       "    }\n",
       "</style>\n",
       "<table border=\"1\" class=\"dataframe\">\n",
       "  <thead>\n",
       "    <tr style=\"text-align: right;\">\n",
       "      <th></th>\n",
       "      <th>text</th>\n",
       "    </tr>\n",
       "  </thead>\n",
       "  <tbody>\n",
       "    <tr>\n",
       "      <td>0</td>\n",
       "      <td>virginamerica what dhepburn said</td>\n",
       "    </tr>\n",
       "    <tr>\n",
       "      <td>1</td>\n",
       "      <td>virginamerica plus youve added commercials to ...</td>\n",
       "    </tr>\n",
       "    <tr>\n",
       "      <td>2</td>\n",
       "      <td>virginamerica i didnt today must mean i need t...</td>\n",
       "    </tr>\n",
       "    <tr>\n",
       "      <td>3</td>\n",
       "      <td>virginamerica its really aggressive to blast o...</td>\n",
       "    </tr>\n",
       "    <tr>\n",
       "      <td>4</td>\n",
       "      <td>virginamerica and its a really big bad thing a...</td>\n",
       "    </tr>\n",
       "    <tr>\n",
       "      <td>5</td>\n",
       "      <td>virginamerica seriously would pay  a flight fo...</td>\n",
       "    </tr>\n",
       "    <tr>\n",
       "      <td>6</td>\n",
       "      <td>virginamerica yes nearly every time i fly vx t...</td>\n",
       "    </tr>\n",
       "    <tr>\n",
       "      <td>7</td>\n",
       "      <td>virginamerica really missed a prime opportunit...</td>\n",
       "    </tr>\n",
       "    <tr>\n",
       "      <td>8</td>\n",
       "      <td>virginamerica well i didnt…but now i do d</td>\n",
       "    </tr>\n",
       "    <tr>\n",
       "      <td>9</td>\n",
       "      <td>virginamerica it was amazing and arrived an ho...</td>\n",
       "    </tr>\n",
       "  </tbody>\n",
       "</table>\n",
       "</div>"
      ],
      "text/plain": [
       "                                                text\n",
       "0                   virginamerica what dhepburn said\n",
       "1  virginamerica plus youve added commercials to ...\n",
       "2  virginamerica i didnt today must mean i need t...\n",
       "3  virginamerica its really aggressive to blast o...\n",
       "4  virginamerica and its a really big bad thing a...\n",
       "5  virginamerica seriously would pay  a flight fo...\n",
       "6  virginamerica yes nearly every time i fly vx t...\n",
       "7  virginamerica really missed a prime opportunit...\n",
       "8          virginamerica well i didnt…but now i do d\n",
       "9  virginamerica it was amazing and arrived an ho..."
      ]
     },
     "execution_count": 9,
     "metadata": {},
     "output_type": "execute_result"
    }
   ],
   "source": [
    "# Clean text\n",
    "\n",
    "tweet_clean = pd.DataFrame(tweet_corpus['text'].apply(cleaning))\n",
    "\n",
    "tweet_clean.head(10)"
   ]
  },
  {
   "cell_type": "markdown",
   "metadata": {},
   "source": [
    "\n",
    "\n",
    "\n",
    "\n",
    "lematization?\n",
    "\n",
    "\n",
    "look into word frequency chart\n",
    "\n",
    "\n",
    "\n",
    "\n",
    "\n"
   ]
  },
  {
   "cell_type": "markdown",
   "metadata": {},
   "source": [
    "## Wordcloud"
   ]
  },
  {
   "cell_type": "code",
   "execution_count": 10,
   "metadata": {},
   "outputs": [],
   "source": [
    "# Join all the text data together into one doc\n",
    "\n",
    "text = \" \".join(text for text in tweet_clean.text)\n"
   ]
  },
  {
   "cell_type": "code",
   "execution_count": 11,
   "metadata": {},
   "outputs": [
    {
     "data": {
      "text/plain": [
       "<matplotlib.image.AxesImage at 0x7fbd7113c290>"
      ]
     },
     "execution_count": 11,
     "metadata": {},
     "output_type": "execute_result"
    },
    {
     "data": {
      "image/png": "[encoded data removed]",
      "text/plain": [
       "<Figure size 1440x720 with 1 Axes>"
      ]
     },
     "metadata": {
      "needs_background": "light"
     },
     "output_type": "display_data"
    }
   ],
   "source": [
    "from wordcloud import WordCloud, STOPWORDS\n",
    "\n",
    "# Create list of stopwords\n",
    "my_stopwords = set(STOPWORDS)\n",
    "my_stopwords.update(['USAirway','United','AmericanAir', 'SouthwestAir', 'VirginAmerica', 'USAirways', \"JetBlue\"])\n",
    "\n",
    "# Create Wordcloud\n",
    "my_cloud = WordCloud(width=800, height=400, background_color='white', stopwords=my_stopwords).generate(text) \n",
    "\n",
    "# Plot Wordcloud\n",
    "\n",
    "plt.figure( figsize=(20,10) )\n",
    "plt.tight_layout(pad=0)\n",
    "plt.imshow(my_cloud, interpolation='bilinear')\n",
    "\n",
    "#plt.savefig(\"air_tweet.png\", format=\"png\")\n"
   ]
  },
  {
   "cell_type": "markdown",
   "metadata": {},
   "source": [
    "## Document Term Matrix"
   ]
  },
  {
   "cell_type": "code",
   "execution_count": 12,
   "metadata": {
    "scrolled": true
   },
   "outputs": [
    {
     "data": {
      "text/html": [
       "<div>\n",
       "<style scoped>\n",
       "    .dataframe tbody tr th:only-of-type {\n",
       "        vertical-align: middle;\n",
       "    }\n",
       "\n",
       "    .dataframe tbody tr th {\n",
       "        vertical-align: top;\n",
       "    }\n",
       "\n",
       "    .dataframe thead th {\n",
       "        text-align: right;\n",
       "    }\n",
       "</style>\n",
       "<table border=\"1\" class=\"dataframe\">\n",
       "  <thead>\n",
       "    <tr style=\"text-align: right;\">\n",
       "      <th></th>\n",
       "      <th>aa</th>\n",
       "      <th>aadvantage</th>\n",
       "      <th>aarp</th>\n",
       "      <th>aas</th>\n",
       "      <th>abc</th>\n",
       "      <th>ability</th>\n",
       "      <th>able</th>\n",
       "      <th>aboard</th>\n",
       "      <th>abq</th>\n",
       "      <th>absolute</th>\n",
       "      <th>...</th>\n",
       "      <th>yr</th>\n",
       "      <th>yrs</th>\n",
       "      <th>yuma</th>\n",
       "      <th>yup</th>\n",
       "      <th>yvr</th>\n",
       "      <th>yyz</th>\n",
       "      <th>zero</th>\n",
       "      <th>zkatcher</th>\n",
       "      <th>zone</th>\n",
       "      <th>zurich</th>\n",
       "    </tr>\n",
       "  </thead>\n",
       "  <tbody>\n",
       "    <tr>\n",
       "      <td>0</td>\n",
       "      <td>0</td>\n",
       "      <td>0</td>\n",
       "      <td>0</td>\n",
       "      <td>0</td>\n",
       "      <td>0</td>\n",
       "      <td>0</td>\n",
       "      <td>0</td>\n",
       "      <td>0</td>\n",
       "      <td>0</td>\n",
       "      <td>0</td>\n",
       "      <td>...</td>\n",
       "      <td>0</td>\n",
       "      <td>0</td>\n",
       "      <td>0</td>\n",
       "      <td>0</td>\n",
       "      <td>0</td>\n",
       "      <td>0</td>\n",
       "      <td>0</td>\n",
       "      <td>0</td>\n",
       "      <td>0</td>\n",
       "      <td>0</td>\n",
       "    </tr>\n",
       "    <tr>\n",
       "      <td>1</td>\n",
       "      <td>0</td>\n",
       "      <td>0</td>\n",
       "      <td>0</td>\n",
       "      <td>0</td>\n",
       "      <td>0</td>\n",
       "      <td>0</td>\n",
       "      <td>0</td>\n",
       "      <td>0</td>\n",
       "      <td>0</td>\n",
       "      <td>0</td>\n",
       "      <td>...</td>\n",
       "      <td>0</td>\n",
       "      <td>0</td>\n",
       "      <td>0</td>\n",
       "      <td>0</td>\n",
       "      <td>0</td>\n",
       "      <td>0</td>\n",
       "      <td>0</td>\n",
       "      <td>0</td>\n",
       "      <td>0</td>\n",
       "      <td>0</td>\n",
       "    </tr>\n",
       "    <tr>\n",
       "      <td>2</td>\n",
       "      <td>0</td>\n",
       "      <td>0</td>\n",
       "      <td>0</td>\n",
       "      <td>0</td>\n",
       "      <td>0</td>\n",
       "      <td>0</td>\n",
       "      <td>0</td>\n",
       "      <td>0</td>\n",
       "      <td>0</td>\n",
       "      <td>0</td>\n",
       "      <td>...</td>\n",
       "      <td>0</td>\n",
       "      <td>0</td>\n",
       "      <td>0</td>\n",
       "      <td>0</td>\n",
       "      <td>0</td>\n",
       "      <td>0</td>\n",
       "      <td>0</td>\n",
       "      <td>0</td>\n",
       "      <td>0</td>\n",
       "      <td>0</td>\n",
       "    </tr>\n",
       "    <tr>\n",
       "      <td>3</td>\n",
       "      <td>0</td>\n",
       "      <td>0</td>\n",
       "      <td>0</td>\n",
       "      <td>0</td>\n",
       "      <td>0</td>\n",
       "      <td>0</td>\n",
       "      <td>0</td>\n",
       "      <td>0</td>\n",
       "      <td>0</td>\n",
       "      <td>0</td>\n",
       "      <td>...</td>\n",
       "      <td>0</td>\n",
       "      <td>0</td>\n",
       "      <td>0</td>\n",
       "      <td>0</td>\n",
       "      <td>0</td>\n",
       "      <td>0</td>\n",
       "      <td>0</td>\n",
       "      <td>0</td>\n",
       "      <td>0</td>\n",
       "      <td>0</td>\n",
       "    </tr>\n",
       "    <tr>\n",
       "      <td>4</td>\n",
       "      <td>0</td>\n",
       "      <td>0</td>\n",
       "      <td>0</td>\n",
       "      <td>0</td>\n",
       "      <td>0</td>\n",
       "      <td>0</td>\n",
       "      <td>0</td>\n",
       "      <td>0</td>\n",
       "      <td>0</td>\n",
       "      <td>0</td>\n",
       "      <td>...</td>\n",
       "      <td>0</td>\n",
       "      <td>0</td>\n",
       "      <td>0</td>\n",
       "      <td>0</td>\n",
       "      <td>0</td>\n",
       "      <td>0</td>\n",
       "      <td>0</td>\n",
       "      <td>0</td>\n",
       "      <td>0</td>\n",
       "      <td>0</td>\n",
       "    </tr>\n",
       "    <tr>\n",
       "      <td>...</td>\n",
       "      <td>...</td>\n",
       "      <td>...</td>\n",
       "      <td>...</td>\n",
       "      <td>...</td>\n",
       "      <td>...</td>\n",
       "      <td>...</td>\n",
       "      <td>...</td>\n",
       "      <td>...</td>\n",
       "      <td>...</td>\n",
       "      <td>...</td>\n",
       "      <td>...</td>\n",
       "      <td>...</td>\n",
       "      <td>...</td>\n",
       "      <td>...</td>\n",
       "      <td>...</td>\n",
       "      <td>...</td>\n",
       "      <td>...</td>\n",
       "      <td>...</td>\n",
       "      <td>...</td>\n",
       "      <td>...</td>\n",
       "      <td>...</td>\n",
       "    </tr>\n",
       "    <tr>\n",
       "      <td>14635</td>\n",
       "      <td>0</td>\n",
       "      <td>0</td>\n",
       "      <td>0</td>\n",
       "      <td>0</td>\n",
       "      <td>0</td>\n",
       "      <td>0</td>\n",
       "      <td>0</td>\n",
       "      <td>0</td>\n",
       "      <td>0</td>\n",
       "      <td>0</td>\n",
       "      <td>...</td>\n",
       "      <td>0</td>\n",
       "      <td>0</td>\n",
       "      <td>0</td>\n",
       "      <td>0</td>\n",
       "      <td>0</td>\n",
       "      <td>0</td>\n",
       "      <td>0</td>\n",
       "      <td>0</td>\n",
       "      <td>0</td>\n",
       "      <td>0</td>\n",
       "    </tr>\n",
       "    <tr>\n",
       "      <td>14636</td>\n",
       "      <td>0</td>\n",
       "      <td>0</td>\n",
       "      <td>0</td>\n",
       "      <td>0</td>\n",
       "      <td>0</td>\n",
       "      <td>0</td>\n",
       "      <td>0</td>\n",
       "      <td>0</td>\n",
       "      <td>0</td>\n",
       "      <td>0</td>\n",
       "      <td>...</td>\n",
       "      <td>0</td>\n",
       "      <td>0</td>\n",
       "      <td>0</td>\n",
       "      <td>0</td>\n",
       "      <td>0</td>\n",
       "      <td>0</td>\n",
       "      <td>0</td>\n",
       "      <td>0</td>\n",
       "      <td>0</td>\n",
       "      <td>0</td>\n",
       "    </tr>\n",
       "    <tr>\n",
       "      <td>14637</td>\n",
       "      <td>0</td>\n",
       "      <td>0</td>\n",
       "      <td>0</td>\n",
       "      <td>0</td>\n",
       "      <td>0</td>\n",
       "      <td>0</td>\n",
       "      <td>0</td>\n",
       "      <td>0</td>\n",
       "      <td>0</td>\n",
       "      <td>0</td>\n",
       "      <td>...</td>\n",
       "      <td>0</td>\n",
       "      <td>0</td>\n",
       "      <td>0</td>\n",
       "      <td>0</td>\n",
       "      <td>0</td>\n",
       "      <td>0</td>\n",
       "      <td>0</td>\n",
       "      <td>0</td>\n",
       "      <td>0</td>\n",
       "      <td>0</td>\n",
       "    </tr>\n",
       "    <tr>\n",
       "      <td>14638</td>\n",
       "      <td>0</td>\n",
       "      <td>0</td>\n",
       "      <td>0</td>\n",
       "      <td>0</td>\n",
       "      <td>0</td>\n",
       "      <td>0</td>\n",
       "      <td>0</td>\n",
       "      <td>0</td>\n",
       "      <td>0</td>\n",
       "      <td>0</td>\n",
       "      <td>...</td>\n",
       "      <td>0</td>\n",
       "      <td>0</td>\n",
       "      <td>0</td>\n",
       "      <td>0</td>\n",
       "      <td>0</td>\n",
       "      <td>0</td>\n",
       "      <td>0</td>\n",
       "      <td>0</td>\n",
       "      <td>0</td>\n",
       "      <td>0</td>\n",
       "    </tr>\n",
       "    <tr>\n",
       "      <td>14639</td>\n",
       "      <td>0</td>\n",
       "      <td>0</td>\n",
       "      <td>0</td>\n",
       "      <td>0</td>\n",
       "      <td>0</td>\n",
       "      <td>0</td>\n",
       "      <td>0</td>\n",
       "      <td>0</td>\n",
       "      <td>0</td>\n",
       "      <td>0</td>\n",
       "      <td>...</td>\n",
       "      <td>0</td>\n",
       "      <td>0</td>\n",
       "      <td>0</td>\n",
       "      <td>0</td>\n",
       "      <td>0</td>\n",
       "      <td>0</td>\n",
       "      <td>0</td>\n",
       "      <td>0</td>\n",
       "      <td>0</td>\n",
       "      <td>0</td>\n",
       "    </tr>\n",
       "  </tbody>\n",
       "</table>\n",
       "<p>14640 rows × 3947 columns</p>\n",
       "</div>"
      ],
      "text/plain": [
       "       aa  aadvantage  aarp  aas  abc  ability  able  aboard  abq  absolute  \\\n",
       "0       0           0     0    0    0        0     0       0    0         0   \n",
       "1       0           0     0    0    0        0     0       0    0         0   \n",
       "2       0           0     0    0    0        0     0       0    0         0   \n",
       "3       0           0     0    0    0        0     0       0    0         0   \n",
       "4       0           0     0    0    0        0     0       0    0         0   \n",
       "...    ..         ...   ...  ...  ...      ...   ...     ...  ...       ...   \n",
       "14635   0           0     0    0    0        0     0       0    0         0   \n",
       "14636   0           0     0    0    0        0     0       0    0         0   \n",
       "14637   0           0     0    0    0        0     0       0    0         0   \n",
       "14638   0           0     0    0    0        0     0       0    0         0   \n",
       "14639   0           0     0    0    0        0     0       0    0         0   \n",
       "\n",
       "       ...  yr  yrs  yuma  yup  yvr  yyz  zero  zkatcher  zone  zurich  \n",
       "0      ...   0    0     0    0    0    0     0         0     0       0  \n",
       "1      ...   0    0     0    0    0    0     0         0     0       0  \n",
       "2      ...   0    0     0    0    0    0     0         0     0       0  \n",
       "3      ...   0    0     0    0    0    0     0         0     0       0  \n",
       "4      ...   0    0     0    0    0    0     0         0     0       0  \n",
       "...    ...  ..  ...   ...  ...  ...  ...   ...       ...   ...     ...  \n",
       "14635  ...   0    0     0    0    0    0     0         0     0       0  \n",
       "14636  ...   0    0     0    0    0    0     0         0     0       0  \n",
       "14637  ...   0    0     0    0    0    0     0         0     0       0  \n",
       "14638  ...   0    0     0    0    0    0     0         0     0       0  \n",
       "14639  ...   0    0     0    0    0    0     0         0     0       0  \n",
       "\n",
       "[14640 rows x 3947 columns]"
      ]
     },
     "execution_count": 12,
     "metadata": {},
     "output_type": "execute_result"
    }
   ],
   "source": [
    "from sklearn.feature_extraction.text import CountVectorizer, ENGLISH_STOP_WORDS\n",
    "\n",
    "\n",
    "# Create stop words list\n",
    "\n",
    "my_stop_words = ENGLISH_STOP_WORDS\n",
    "my_stopwords.update(['USAirway','United','AmericanAir', 'SouthwestAir', 'VirginAmerica', 'USAirways', \"JetBlue\"])\n",
    "\n",
    "# Use count vectorizer to create a document term matrix\n",
    "\n",
    "cv = CountVectorizer(stop_words= my_stop_words, min_df = 3)\n",
    "data_cv = cv.fit_transform(tweet_clean.text)\n",
    "doc_term_mat = pd.DataFrame(data_cv.toarray(), columns=cv.get_feature_names())\n",
    "doc_term_mat.index = tweet_clean.index\n",
    "doc_term_mat"
   ]
  },
  {
   "cell_type": "code",
   "execution_count": 13,
   "metadata": {},
   "outputs": [],
   "source": [
    "# Move the doc_term_mat into the data frame tweet_dtm\n",
    "\n",
    "tweet_dtm = pd.DataFrame(doc_term_mat)\n",
    "\n",
    "\n",
    "# Add dependent variable sentiment to the tweet_dtm data frame\n",
    "\n",
    "tweet_dtm['sentiment'] = tweet_corpus['airline_sentiment']\n"
   ]
  },
  {
   "cell_type": "markdown",
   "metadata": {},
   "source": [
    "## Dimension Reduction - SVD"
   ]
  },
  {
   "cell_type": "code",
   "execution_count": 14,
   "metadata": {},
   "outputs": [],
   "source": [
    "# Create list containing all features from the doc term matrix\n",
    "\n",
    "feature_cols = tweet_dtm.columns.values.tolist()\n",
    "\n",
    "feature_cols.remove('sentiment')\n",
    "\n",
    "# designate X and y\n",
    "\n",
    "X = tweet_dtm[feature_cols]\n",
    "y = tweet_dtm.sentiment\n"
   ]
  },
  {
   "cell_type": "code",
   "execution_count": 15,
   "metadata": {},
   "outputs": [
    {
     "data": {
      "text/html": [
       "<div>\n",
       "<style scoped>\n",
       "    .dataframe tbody tr th:only-of-type {\n",
       "        vertical-align: middle;\n",
       "    }\n",
       "\n",
       "    .dataframe tbody tr th {\n",
       "        vertical-align: top;\n",
       "    }\n",
       "\n",
       "    .dataframe thead th {\n",
       "        text-align: right;\n",
       "    }\n",
       "</style>\n",
       "<table border=\"1\" class=\"dataframe\">\n",
       "  <thead>\n",
       "    <tr style=\"text-align: right;\">\n",
       "      <th></th>\n",
       "      <th>SVD1</th>\n",
       "      <th>SVD2</th>\n",
       "      <th>SVD3</th>\n",
       "      <th>SVD4</th>\n",
       "      <th>SVD5</th>\n",
       "      <th>SVD6</th>\n",
       "      <th>SVD7</th>\n",
       "      <th>SVD8</th>\n",
       "      <th>SVD9</th>\n",
       "      <th>SVD10</th>\n",
       "      <th>...</th>\n",
       "      <th>SVD91</th>\n",
       "      <th>SVD92</th>\n",
       "      <th>SVD93</th>\n",
       "      <th>SVD94</th>\n",
       "      <th>SVD95</th>\n",
       "      <th>SVD96</th>\n",
       "      <th>SVD97</th>\n",
       "      <th>SVD98</th>\n",
       "      <th>SVD99</th>\n",
       "      <th>SVD100</th>\n",
       "    </tr>\n",
       "  </thead>\n",
       "  <tbody>\n",
       "    <tr>\n",
       "      <td>0</td>\n",
       "      <td>0.000373</td>\n",
       "      <td>-0.000084</td>\n",
       "      <td>0.000012</td>\n",
       "      <td>-0.000030</td>\n",
       "      <td>0.000242</td>\n",
       "      <td>0.000221</td>\n",
       "      <td>0.000138</td>\n",
       "      <td>0.000256</td>\n",
       "      <td>0.000364</td>\n",
       "      <td>-0.002443</td>\n",
       "      <td>...</td>\n",
       "      <td>0.009350</td>\n",
       "      <td>-0.012450</td>\n",
       "      <td>0.010678</td>\n",
       "      <td>0.009103</td>\n",
       "      <td>-0.000788</td>\n",
       "      <td>0.009517</td>\n",
       "      <td>-0.011591</td>\n",
       "      <td>-0.006634</td>\n",
       "      <td>0.011916</td>\n",
       "      <td>0.013491</td>\n",
       "    </tr>\n",
       "    <tr>\n",
       "      <td>1</td>\n",
       "      <td>0.000529</td>\n",
       "      <td>0.000042</td>\n",
       "      <td>0.000144</td>\n",
       "      <td>0.000031</td>\n",
       "      <td>0.000328</td>\n",
       "      <td>0.000399</td>\n",
       "      <td>0.000651</td>\n",
       "      <td>0.000194</td>\n",
       "      <td>0.000437</td>\n",
       "      <td>-0.002188</td>\n",
       "      <td>...</td>\n",
       "      <td>-0.005930</td>\n",
       "      <td>0.007459</td>\n",
       "      <td>-0.000739</td>\n",
       "      <td>-0.005583</td>\n",
       "      <td>0.004941</td>\n",
       "      <td>-0.005104</td>\n",
       "      <td>0.000208</td>\n",
       "      <td>-0.011076</td>\n",
       "      <td>0.017247</td>\n",
       "      <td>0.016225</td>\n",
       "    </tr>\n",
       "    <tr>\n",
       "      <td>2</td>\n",
       "      <td>0.001703</td>\n",
       "      <td>-0.000356</td>\n",
       "      <td>0.000659</td>\n",
       "      <td>-0.000480</td>\n",
       "      <td>0.001007</td>\n",
       "      <td>0.001785</td>\n",
       "      <td>-0.000781</td>\n",
       "      <td>-0.002002</td>\n",
       "      <td>-0.000713</td>\n",
       "      <td>-0.000222</td>\n",
       "      <td>...</td>\n",
       "      <td>0.018769</td>\n",
       "      <td>-0.013990</td>\n",
       "      <td>0.008113</td>\n",
       "      <td>0.008652</td>\n",
       "      <td>-0.015086</td>\n",
       "      <td>-0.030875</td>\n",
       "      <td>-0.009155</td>\n",
       "      <td>-0.003137</td>\n",
       "      <td>0.021117</td>\n",
       "      <td>-0.011823</td>\n",
       "    </tr>\n",
       "    <tr>\n",
       "      <td>3</td>\n",
       "      <td>0.001292</td>\n",
       "      <td>-0.000123</td>\n",
       "      <td>0.000605</td>\n",
       "      <td>-0.000093</td>\n",
       "      <td>0.001245</td>\n",
       "      <td>0.001355</td>\n",
       "      <td>-0.000137</td>\n",
       "      <td>-0.000651</td>\n",
       "      <td>-0.001551</td>\n",
       "      <td>-0.002835</td>\n",
       "      <td>...</td>\n",
       "      <td>0.000563</td>\n",
       "      <td>-0.004383</td>\n",
       "      <td>0.004080</td>\n",
       "      <td>-0.004882</td>\n",
       "      <td>-0.000547</td>\n",
       "      <td>0.001446</td>\n",
       "      <td>0.000893</td>\n",
       "      <td>0.002128</td>\n",
       "      <td>-0.005573</td>\n",
       "      <td>-0.005239</td>\n",
       "    </tr>\n",
       "    <tr>\n",
       "      <td>4</td>\n",
       "      <td>0.000748</td>\n",
       "      <td>-0.000003</td>\n",
       "      <td>0.000277</td>\n",
       "      <td>-0.000262</td>\n",
       "      <td>0.000804</td>\n",
       "      <td>0.000861</td>\n",
       "      <td>0.000448</td>\n",
       "      <td>0.000596</td>\n",
       "      <td>0.000486</td>\n",
       "      <td>-0.001867</td>\n",
       "      <td>...</td>\n",
       "      <td>0.001827</td>\n",
       "      <td>-0.002610</td>\n",
       "      <td>0.002095</td>\n",
       "      <td>0.005839</td>\n",
       "      <td>0.006428</td>\n",
       "      <td>-0.013486</td>\n",
       "      <td>-0.000264</td>\n",
       "      <td>0.004661</td>\n",
       "      <td>0.020387</td>\n",
       "      <td>-0.003095</td>\n",
       "    </tr>\n",
       "  </tbody>\n",
       "</table>\n",
       "<p>5 rows × 100 columns</p>\n",
       "</div>"
      ],
      "text/plain": [
       "       SVD1      SVD2      SVD3      SVD4      SVD5      SVD6      SVD7  \\\n",
       "0  0.000373 -0.000084  0.000012 -0.000030  0.000242  0.000221  0.000138   \n",
       "1  0.000529  0.000042  0.000144  0.000031  0.000328  0.000399  0.000651   \n",
       "2  0.001703 -0.000356  0.000659 -0.000480  0.001007  0.001785 -0.000781   \n",
       "3  0.001292 -0.000123  0.000605 -0.000093  0.001245  0.001355 -0.000137   \n",
       "4  0.000748 -0.000003  0.000277 -0.000262  0.000804  0.000861  0.000448   \n",
       "\n",
       "       SVD8      SVD9     SVD10  ...     SVD91     SVD92     SVD93     SVD94  \\\n",
       "0  0.000256  0.000364 -0.002443  ...  0.009350 -0.012450  0.010678  0.009103   \n",
       "1  0.000194  0.000437 -0.002188  ... -0.005930  0.007459 -0.000739 -0.005583   \n",
       "2 -0.002002 -0.000713 -0.000222  ...  0.018769 -0.013990  0.008113  0.008652   \n",
       "3 -0.000651 -0.001551 -0.002835  ...  0.000563 -0.004383  0.004080 -0.004882   \n",
       "4  0.000596  0.000486 -0.001867  ...  0.001827 -0.002610  0.002095  0.005839   \n",
       "\n",
       "      SVD95     SVD96     SVD97     SVD98     SVD99    SVD100  \n",
       "0 -0.000788  0.009517 -0.011591 -0.006634  0.011916  0.013491  \n",
       "1  0.004941 -0.005104  0.000208 -0.011076  0.017247  0.016225  \n",
       "2 -0.015086 -0.030875 -0.009155 -0.003137  0.021117 -0.011823  \n",
       "3 -0.000547  0.001446  0.000893  0.002128 -0.005573 -0.005239  \n",
       "4  0.006428 -0.013486 -0.000264  0.004661  0.020387 -0.003095  \n",
       "\n",
       "[5 rows x 100 columns]"
      ]
     },
     "execution_count": 15,
     "metadata": {},
     "output_type": "execute_result"
    }
   ],
   "source": [
    "from numpy import *\n",
    "import operator\n",
    "import matplotlib.pyplot as plt\n",
    "import pandas as pd\n",
    "\n",
    "\n",
    "#calculate SVD\n",
    "n = 100 # We will take two Singular Values\n",
    "U, s, V = linalg.svd( X )\n",
    "\n",
    "\n",
    "# eye() creates a matrix with ones on the diagonal and zeros elsewhere\n",
    "Sig = mat(eye(n)*s[:n])\n",
    "newdata = U[:,:n]\n",
    "newdata = pd.DataFrame(newdata)\n",
    "newdata.columns=['SVD1','SVD2','SVD3','SVD4','SVD5','SVD6','SVD7','SVD8','SVD9','SVD10',\n",
    "                'SVD11','SVD12','SVD13','SVD14','SVD15','SVD16','SVD17','SVD18','SVD19','SVD20',\n",
    "                'SVD21','SVD22','SVD23','SVD24','SVD25','SVD26','SVD27','SVD28','SVD29','SVD30',\n",
    "                'SVD31','SVD32','SVD33','SVD34','SVD35','SVD36','SVD37','SVD38','SVD39','SVD40',\n",
    "                'SVD41','SVD42','SVD43','SVD44','SVD45','SVD46','SVD47','SVD48','SVD49','SVD50',\n",
    "                'SVD51','SVD52','SVD53','SVD54','SVD55','SVD56','SVD57','SVD58','SVD59','SVD60',\n",
    "                'SVD61','SVD62','SVD63','SVD64','SVD65','SVD66','SVD67','SVD68','SVD69','SVD70',\n",
    "                'SVD71','SVD72','SVD73','SVD74','SVD75','SVD76','SVD77','SVD78','SVD79','SVD80',\n",
    "                'SVD81','SVD82','SVD83','SVD84','SVD85','SVD86','SVD87','SVD88','SVD89','SVD90',\n",
    "                'SVD91','SVD92','SVD93','SVD94','SVD95','SVD96','SVD97','SVD98','SVD99','SVD100']\n",
    "newdata.head()"
   ]
  },
  {
   "cell_type": "markdown",
   "metadata": {},
   "source": [
    "## Using Negative sentiment vs all other\n"
   ]
  },
  {
   "cell_type": "code",
   "execution_count": 36,
   "metadata": {},
   "outputs": [
    {
     "data": {
      "text/plain": [
       "0        not negative\n",
       "1        not negative\n",
       "2        not negative\n",
       "3            negative\n",
       "4            negative\n",
       "             ...     \n",
       "14635    not negative\n",
       "14636        negative\n",
       "14637    not negative\n",
       "14638        negative\n",
       "14639    not negative\n",
       "Name: binary_sentiment, Length: 14640, dtype: object"
      ]
     },
     "execution_count": 36,
     "metadata": {},
     "output_type": "execute_result"
    }
   ],
   "source": [
    "from pandas import DataFrame\n",
    "\n",
    "# Create list containing all features from the doc term matrix\n",
    "\n",
    "tweet_dtm.loc[tweet_dtm['sentiment'] == 'negative', 'binary_sentiment'] = 'negative' \n",
    "tweet_dtm.loc[tweet_dtm['sentiment'] == 'positive', 'binary_sentiment'] = 'not negative'\n",
    "tweet_dtm.loc[tweet_dtm['sentiment'] == 'neutral', 'binary_sentiment'] = 'not negative'\n",
    "\n",
    "# designate X and y\n",
    "\n",
    "Xbin = tweet_dtm[feature_cols]\n",
    "ybin = tweet_dtm.binary_sentiment\n",
    "\n",
    "ybin"
   ]
  },
  {
   "cell_type": "code",
   "execution_count": 37,
   "metadata": {},
   "outputs": [
    {
     "data": {
      "text/html": [
       "<div>\n",
       "<style scoped>\n",
       "    .dataframe tbody tr th:only-of-type {\n",
       "        vertical-align: middle;\n",
       "    }\n",
       "\n",
       "    .dataframe tbody tr th {\n",
       "        vertical-align: top;\n",
       "    }\n",
       "\n",
       "    .dataframe thead th {\n",
       "        text-align: right;\n",
       "    }\n",
       "</style>\n",
       "<table border=\"1\" class=\"dataframe\">\n",
       "  <thead>\n",
       "    <tr style=\"text-align: right;\">\n",
       "      <th></th>\n",
       "      <th>SVD1</th>\n",
       "      <th>SVD2</th>\n",
       "      <th>SVD3</th>\n",
       "      <th>SVD4</th>\n",
       "      <th>SVD5</th>\n",
       "      <th>SVD6</th>\n",
       "      <th>SVD7</th>\n",
       "      <th>SVD8</th>\n",
       "      <th>SVD9</th>\n",
       "      <th>SVD10</th>\n",
       "      <th>...</th>\n",
       "      <th>SVD91</th>\n",
       "      <th>SVD92</th>\n",
       "      <th>SVD93</th>\n",
       "      <th>SVD94</th>\n",
       "      <th>SVD95</th>\n",
       "      <th>SVD96</th>\n",
       "      <th>SVD97</th>\n",
       "      <th>SVD98</th>\n",
       "      <th>SVD99</th>\n",
       "      <th>SVD100</th>\n",
       "    </tr>\n",
       "  </thead>\n",
       "  <tbody>\n",
       "    <tr>\n",
       "      <td>0</td>\n",
       "      <td>0.000373</td>\n",
       "      <td>-0.000084</td>\n",
       "      <td>0.000012</td>\n",
       "      <td>-0.000030</td>\n",
       "      <td>0.000242</td>\n",
       "      <td>0.000221</td>\n",
       "      <td>0.000138</td>\n",
       "      <td>0.000256</td>\n",
       "      <td>0.000364</td>\n",
       "      <td>-0.002443</td>\n",
       "      <td>...</td>\n",
       "      <td>0.009350</td>\n",
       "      <td>-0.012450</td>\n",
       "      <td>0.010678</td>\n",
       "      <td>0.009103</td>\n",
       "      <td>-0.000788</td>\n",
       "      <td>0.009517</td>\n",
       "      <td>-0.011591</td>\n",
       "      <td>-0.006634</td>\n",
       "      <td>0.011916</td>\n",
       "      <td>0.013491</td>\n",
       "    </tr>\n",
       "    <tr>\n",
       "      <td>1</td>\n",
       "      <td>0.000529</td>\n",
       "      <td>0.000042</td>\n",
       "      <td>0.000144</td>\n",
       "      <td>0.000031</td>\n",
       "      <td>0.000328</td>\n",
       "      <td>0.000399</td>\n",
       "      <td>0.000651</td>\n",
       "      <td>0.000194</td>\n",
       "      <td>0.000437</td>\n",
       "      <td>-0.002188</td>\n",
       "      <td>...</td>\n",
       "      <td>-0.005930</td>\n",
       "      <td>0.007459</td>\n",
       "      <td>-0.000739</td>\n",
       "      <td>-0.005583</td>\n",
       "      <td>0.004941</td>\n",
       "      <td>-0.005104</td>\n",
       "      <td>0.000208</td>\n",
       "      <td>-0.011076</td>\n",
       "      <td>0.017247</td>\n",
       "      <td>0.016225</td>\n",
       "    </tr>\n",
       "    <tr>\n",
       "      <td>2</td>\n",
       "      <td>0.001703</td>\n",
       "      <td>-0.000356</td>\n",
       "      <td>0.000659</td>\n",
       "      <td>-0.000480</td>\n",
       "      <td>0.001007</td>\n",
       "      <td>0.001785</td>\n",
       "      <td>-0.000781</td>\n",
       "      <td>-0.002002</td>\n",
       "      <td>-0.000713</td>\n",
       "      <td>-0.000222</td>\n",
       "      <td>...</td>\n",
       "      <td>0.018769</td>\n",
       "      <td>-0.013990</td>\n",
       "      <td>0.008113</td>\n",
       "      <td>0.008652</td>\n",
       "      <td>-0.015086</td>\n",
       "      <td>-0.030875</td>\n",
       "      <td>-0.009155</td>\n",
       "      <td>-0.003137</td>\n",
       "      <td>0.021117</td>\n",
       "      <td>-0.011823</td>\n",
       "    </tr>\n",
       "    <tr>\n",
       "      <td>3</td>\n",
       "      <td>0.001292</td>\n",
       "      <td>-0.000123</td>\n",
       "      <td>0.000605</td>\n",
       "      <td>-0.000093</td>\n",
       "      <td>0.001245</td>\n",
       "      <td>0.001355</td>\n",
       "      <td>-0.000137</td>\n",
       "      <td>-0.000651</td>\n",
       "      <td>-0.001551</td>\n",
       "      <td>-0.002835</td>\n",
       "      <td>...</td>\n",
       "      <td>0.000563</td>\n",
       "      <td>-0.004383</td>\n",
       "      <td>0.004080</td>\n",
       "      <td>-0.004882</td>\n",
       "      <td>-0.000547</td>\n",
       "      <td>0.001446</td>\n",
       "      <td>0.000893</td>\n",
       "      <td>0.002128</td>\n",
       "      <td>-0.005573</td>\n",
       "      <td>-0.005239</td>\n",
       "    </tr>\n",
       "    <tr>\n",
       "      <td>4</td>\n",
       "      <td>0.000748</td>\n",
       "      <td>-0.000003</td>\n",
       "      <td>0.000277</td>\n",
       "      <td>-0.000262</td>\n",
       "      <td>0.000804</td>\n",
       "      <td>0.000861</td>\n",
       "      <td>0.000448</td>\n",
       "      <td>0.000596</td>\n",
       "      <td>0.000486</td>\n",
       "      <td>-0.001867</td>\n",
       "      <td>...</td>\n",
       "      <td>0.001827</td>\n",
       "      <td>-0.002610</td>\n",
       "      <td>0.002095</td>\n",
       "      <td>0.005839</td>\n",
       "      <td>0.006428</td>\n",
       "      <td>-0.013486</td>\n",
       "      <td>-0.000264</td>\n",
       "      <td>0.004661</td>\n",
       "      <td>0.020387</td>\n",
       "      <td>-0.003095</td>\n",
       "    </tr>\n",
       "  </tbody>\n",
       "</table>\n",
       "<p>5 rows × 100 columns</p>\n",
       "</div>"
      ],
      "text/plain": [
       "       SVD1      SVD2      SVD3      SVD4      SVD5      SVD6      SVD7  \\\n",
       "0  0.000373 -0.000084  0.000012 -0.000030  0.000242  0.000221  0.000138   \n",
       "1  0.000529  0.000042  0.000144  0.000031  0.000328  0.000399  0.000651   \n",
       "2  0.001703 -0.000356  0.000659 -0.000480  0.001007  0.001785 -0.000781   \n",
       "3  0.001292 -0.000123  0.000605 -0.000093  0.001245  0.001355 -0.000137   \n",
       "4  0.000748 -0.000003  0.000277 -0.000262  0.000804  0.000861  0.000448   \n",
       "\n",
       "       SVD8      SVD9     SVD10  ...     SVD91     SVD92     SVD93     SVD94  \\\n",
       "0  0.000256  0.000364 -0.002443  ...  0.009350 -0.012450  0.010678  0.009103   \n",
       "1  0.000194  0.000437 -0.002188  ... -0.005930  0.007459 -0.000739 -0.005583   \n",
       "2 -0.002002 -0.000713 -0.000222  ...  0.018769 -0.013990  0.008113  0.008652   \n",
       "3 -0.000651 -0.001551 -0.002835  ...  0.000563 -0.004383  0.004080 -0.004882   \n",
       "4  0.000596  0.000486 -0.001867  ...  0.001827 -0.002610  0.002095  0.005839   \n",
       "\n",
       "      SVD95     SVD96     SVD97     SVD98     SVD99    SVD100  \n",
       "0 -0.000788  0.009517 -0.011591 -0.006634  0.011916  0.013491  \n",
       "1  0.004941 -0.005104  0.000208 -0.011076  0.017247  0.016225  \n",
       "2 -0.015086 -0.030875 -0.009155 -0.003137  0.021117 -0.011823  \n",
       "3 -0.000547  0.001446  0.000893  0.002128 -0.005573 -0.005239  \n",
       "4  0.006428 -0.013486 -0.000264  0.004661  0.020387 -0.003095  \n",
       "\n",
       "[5 rows x 100 columns]"
      ]
     },
     "execution_count": 37,
     "metadata": {},
     "output_type": "execute_result"
    }
   ],
   "source": [
    "from numpy import *\n",
    "import operator\n",
    "import matplotlib.pyplot as plt\n",
    "import pandas as pd\n",
    "\n",
    "\n",
    "#calculate SVD\n",
    "n = 100 # We will take two Singular Values\n",
    "U, s, V = linalg.svd( Xbin )\n",
    "\n",
    "\n",
    "# eye() creates a matrix with ones on the diagonal and zeros elsewhere\n",
    "Sig = mat(eye(n)*s[:n])\n",
    "newdata2 = U[:,:n]\n",
    "newdata2 = pd.DataFrame(newdata)\n",
    "newdata2.columns=['SVD1','SVD2','SVD3','SVD4','SVD5','SVD6','SVD7','SVD8','SVD9','SVD10',\n",
    "                'SVD11','SVD12','SVD13','SVD14','SVD15','SVD16','SVD17','SVD18','SVD19','SVD20',\n",
    "                'SVD21','SVD22','SVD23','SVD24','SVD25','SVD26','SVD27','SVD28','SVD29','SVD30',\n",
    "                'SVD31','SVD32','SVD33','SVD34','SVD35','SVD36','SVD37','SVD38','SVD39','SVD40',\n",
    "                'SVD41','SVD42','SVD43','SVD44','SVD45','SVD46','SVD47','SVD48','SVD49','SVD50',\n",
    "                'SVD51','SVD52','SVD53','SVD54','SVD55','SVD56','SVD57','SVD58','SVD59','SVD60',\n",
    "                'SVD61','SVD62','SVD63','SVD64','SVD65','SVD66','SVD67','SVD68','SVD69','SVD70',\n",
    "                'SVD71','SVD72','SVD73','SVD74','SVD75','SVD76','SVD77','SVD78','SVD79','SVD80',\n",
    "                'SVD81','SVD82','SVD83','SVD84','SVD85','SVD86','SVD87','SVD88','SVD89','SVD90',\n",
    "                'SVD91','SVD92','SVD93','SVD94','SVD95','SVD96','SVD97','SVD98','SVD99','SVD100']\n",
    "newdata2.head()"
   ]
  },
  {
   "cell_type": "markdown",
   "metadata": {},
   "source": [
    "## Creating the Training and Test Data Sets for Regular Dependent Variable"
   ]
  },
  {
   "cell_type": "markdown",
   "metadata": {},
   "source": [
    "### No dimension Reduction"
   ]
  },
  {
   "cell_type": "code",
   "execution_count": 38,
   "metadata": {},
   "outputs": [],
   "source": [
    "from sklearn.model_selection import train_test_split\n",
    "\n",
    "\n",
    "\n",
    "# Set seed\n",
    "\n",
    "RSEED = 50\n",
    "\n",
    "# Split data set into train and test data sets\n",
    "\n",
    "X_train, X_test, y_train, y_test = train_test_split (X, y, random_state=0)\n",
    "\n",
    "# Split training data set into train and validation data sets\n",
    "\n",
    "X_train, X_val, y_train, y_val = train_test_split(X_train, y_train, test_size=0.2, random_state=1)"
   ]
  },
  {
   "cell_type": "markdown",
   "metadata": {},
   "source": [
    "### Dimension Reduction"
   ]
  },
  {
   "cell_type": "code",
   "execution_count": 39,
   "metadata": {},
   "outputs": [],
   "source": [
    "# Set seed\n",
    "\n",
    "RSEED = 50\n",
    "\n",
    "# Split data set into train and test data sets\n",
    "\n",
    "X_train_svd, X_test_svd, y_train_svd, y_test_svd = train_test_split (newdata, y, random_state=0)\n",
    "\n",
    "# Split training data set into train and validation data sets\n",
    "\n",
    "X_train_svd, X_val_svd, y_train_svd, y_val_svd = train_test_split(X_train_svd, y_train_svd, test_size=0.2, random_state=1)"
   ]
  },
  {
   "cell_type": "markdown",
   "metadata": {},
   "source": [
    "## Creating the Training and Test Data Sets For Binary Dependent Variables"
   ]
  },
  {
   "cell_type": "markdown",
   "metadata": {},
   "source": [
    "### No dimension Reduction"
   ]
  },
  {
   "cell_type": "code",
   "execution_count": 40,
   "metadata": {},
   "outputs": [],
   "source": [
    "\n",
    "# Set seed\n",
    "\n",
    "RSEED = 50\n",
    "\n",
    "# Split data set into train and test data sets\n",
    "\n",
    "X_train_bin, X_test_bin, y_train_bin, y_test_bin = train_test_split (Xbin, ybin, random_state=0)\n",
    "\n",
    "# Split training data set into train and validation data sets\n",
    "\n",
    "X_train_bin, X_val_bin, y_train_bin, y_val_bin = train_test_split(X_train_bin, y_train_bin, test_size=0.2, random_state=1)"
   ]
  },
  {
   "cell_type": "markdown",
   "metadata": {},
   "source": [
    "### Dimension Reduction"
   ]
  },
  {
   "cell_type": "code",
   "execution_count": 42,
   "metadata": {},
   "outputs": [],
   "source": [
    "# Set seed\n",
    "\n",
    "RSEED = 50\n",
    "\n",
    "# Split data set into train and test data sets\n",
    "\n",
    "X_train_svd_bin, X_test_svd_bin, y_train_svd_bin, y_test_svd_bin = train_test_split (newdata2, ybin, random_state=0)\n",
    "\n",
    "# Split training data set into train and validation data sets\n",
    "\n",
    "X_train_svd_bin, X_val_svd_bin, y_train_svd_bin, y_val_svd_bin = train_test_split(X_train_svd_bin, y_train_svd_bin, test_size=0.2, random_state=1)"
   ]
  },
  {
   "cell_type": "markdown",
   "metadata": {},
   "source": [
    "## Creating Function For Classifier Models"
   ]
  },
  {
   "cell_type": "code",
   "execution_count": 23,
   "metadata": {},
   "outputs": [],
   "source": [
    "from sklearn import metrics\n",
    "\n",
    "#\n",
    "\n",
    "def train_score_classifier(sklearn_classifier, X_train, y_train, X_val, y_val, model_parameters, print_oob_score=False):\n",
    "    \"\"\"A helper function that:\n",
    "        - Trains a regressor on training data\n",
    "        - Scores data on training and test data\n",
    "        - Returns a trained model\n",
    "    \"\"\"\n",
    "    # Initializing the sklearn regressor \n",
    "    \n",
    "    classifier = sklearn_classifier()\n",
    "    \n",
    "    # Define model parameters\n",
    "    \n",
    "    classifier.set_params(**model_parameters)\n",
    "\n",
    "\n",
    "    # Fit training data to the classifier\n",
    "    \n",
    "    classifier.fit(X_train,y_train)\n",
    "    \n",
    "    # Calculate the classifier's predictions for the training and validation data sets\n",
    "    \n",
    "    y_pred_train = classifier.predict(X_train)\n",
    "    \n",
    "    y_pred_val = classifier.predict(X_val)\n",
    "    \n",
    "    # Calculate the accuracy of the model predictions for the training data set\n",
    "    \n",
    "    train_acc = metrics.accuracy_score(y_train, y_pred_train)\n",
    "    \n",
    "    # Calculate the accuracy of the model predictions for the validation data set\n",
    "    \n",
    "    val_acc = metrics.accuracy_score(y_val, y_pred_val)\n",
    "    \n",
    "    # Calculate the confusion matrix for the model predictions for the validation data set\n",
    "    \n",
    "    val_cm = metrics.confusion_matrix(y_val, y_pred_val)\n",
    "   \n",
    "    class_rep = metrics.classification_report(y_val, y_pred_val, digits=3)\n",
    "\n",
    "    # Print results\n",
    " \n",
    "    print('\\nThe accuracy for the training data is:')\n",
    "    print(train_acc)\n",
    "    \n",
    "    \n",
    "    print('\\nThe accuracy for the validation data is:')\n",
    "    print(val_acc)\n",
    "    \n",
    "    print('\\nThe confusion matrix for the validation data is:')\n",
    "    print (val_cm)\n",
    "    \n",
    "    print('\\nThe classification report for the validation data is:')\n",
    "    print(class_rep)\n",
    "    \n",
    "    return classifier"
   ]
  },
  {
   "cell_type": "markdown",
   "metadata": {},
   "source": [
    "## Random Forest - No Dimension Reduction - Regular Dependent Variable"
   ]
  },
  {
   "cell_type": "code",
   "execution_count": 19,
   "metadata": {},
   "outputs": [
    {
     "name": "stdout",
     "output_type": "stream",
     "text": [
      "\n",
      "The accuracy for the training data is:\n",
      "0.9926001821493625\n",
      "\n",
      "The accuracy for the validation data is:\n",
      "0.7390710382513661\n",
      "\n",
      "The confusion matrix for the validation data is:\n",
      "[[1156  163   43]\n",
      " [ 171  234   55]\n",
      " [  88   53  233]]\n",
      "\n",
      "The classification report for the validation data is:\n",
      "              precision    recall  f1-score   support\n",
      "\n",
      "    negative      0.817     0.849     0.833      1362\n",
      "     neutral      0.520     0.509     0.514       460\n",
      "    positive      0.704     0.623     0.661       374\n",
      "\n",
      "    accuracy                          0.739      2196\n",
      "   macro avg      0.680     0.660     0.669      2196\n",
      "weighted avg      0.736     0.739     0.737      2196\n",
      "\n"
     ]
    }
   ],
   "source": [
    "from sklearn.ensemble import RandomForestClassifier\n",
    "\n",
    "\n",
    "# Create a random forest Classifier\n",
    "\n",
    "clf = RandomForestClassifier\n",
    "\n",
    "# run base version of random forrest model \n",
    "\n",
    "rf_classifier = train_score_classifier(sklearn_classifier=clf,\n",
    "                                          X_train=X_train, \n",
    "                                          y_train=y_train, \n",
    "                                          X_val=X_val, \n",
    "                                          y_val=y_val, \n",
    "                                          model_parameters={'n_estimators':100, 'random_state':42})\n",
    "\n",
    "\n"
   ]
  },
  {
   "cell_type": "code",
   "execution_count": 20,
   "metadata": {},
   "outputs": [
    {
     "name": "stderr",
     "output_type": "stream",
     "text": [
      "/Users/andrewgrant/opt/anaconda3/lib/python3.7/site-packages/sklearn/model_selection/_split.py:1978: FutureWarning: The default value of cv will change from 3 to 5 in version 0.22. Specify it explicitly to silence this warning.\n",
      "  warnings.warn(CV_WARNING, FutureWarning)\n"
     ]
    },
    {
     "data": {
      "text/plain": [
       "GridSearchCV(cv='warn', error_score='raise-deprecating',\n",
       "             estimator=RandomForestClassifier(bootstrap=True, class_weight=None,\n",
       "                                              criterion='gini', max_depth=None,\n",
       "                                              max_features='auto',\n",
       "                                              max_leaf_nodes=None,\n",
       "                                              min_impurity_decrease=0.0,\n",
       "                                              min_impurity_split=None,\n",
       "                                              min_samples_leaf=1,\n",
       "                                              min_samples_split=2,\n",
       "                                              min_weight_fraction_leaf=0.0,\n",
       "                                              n_estimators='warn', n_jobs=None,\n",
       "                                              oob_score=False, random_state=42,\n",
       "                                              verbose=0, warm_start=False),\n",
       "             iid='warn', n_jobs=None,\n",
       "             param_grid={'bootstrap': [True, False],\n",
       "                         'max_depth': [12, 15, 18, 21],\n",
       "                         'min_samples_leaf': [1, 2, 3],\n",
       "                         'min_samples_split': [2, 3, 4],\n",
       "                         'n_estimators': [150, 200, 250, 300]},\n",
       "             pre_dispatch='2*n_jobs', refit=True, return_train_score=False,\n",
       "             scoring=None, verbose=0)"
      ]
     },
     "execution_count": 20,
     "metadata": {},
     "output_type": "execute_result"
    }
   ],
   "source": [
    "\n",
    "\n",
    "\n",
    "# assign paramater values for grid search\n",
    "\n",
    "parameters_rf = {'n_estimators': [150, 200, 250, 300],\n",
    "               'max_depth': [12, 15, 18, 21],\n",
    "               'min_samples_split':[2, 3, 4],\n",
    "               'min_samples_leaf': [1, 2, 3],\n",
    "               'bootstrap': [True, False]}\n",
    "\n",
    "\n",
    "# assign random forest classifier to rf\n",
    "rf= RandomForestClassifier(random_state=42)\n",
    "\n",
    "# Initialize GridSearch and fit to training parameters\n",
    "gsc = GridSearchCV(rf, parameters_rf)\n",
    "gsc.fit(X_train,y_train)\n",
    "\n",
    "\n",
    "\n",
    "\n",
    "\n"
   ]
  },
  {
   "cell_type": "code",
   "execution_count": 21,
   "metadata": {},
   "outputs": [
    {
     "data": {
      "text/plain": [
       "{'bootstrap': False,\n",
       " 'class_weight': None,\n",
       " 'criterion': 'gini',\n",
       " 'max_depth': 21,\n",
       " 'max_features': 'auto',\n",
       " 'max_leaf_nodes': None,\n",
       " 'min_impurity_decrease': 0.0,\n",
       " 'min_impurity_split': None,\n",
       " 'min_samples_leaf': 1,\n",
       " 'min_samples_split': 2,\n",
       " 'min_weight_fraction_leaf': 0.0,\n",
       " 'n_estimators': 300,\n",
       " 'n_jobs': None,\n",
       " 'oob_score': False,\n",
       " 'random_state': 42,\n",
       " 'verbose': 0,\n",
       " 'warm_start': False}"
      ]
     },
     "execution_count": 21,
     "metadata": {},
     "output_type": "execute_result"
    }
   ],
   "source": [
    "\n",
    "# Get the optimal hyperparameters from the grid search\n",
    " \n",
    "gsc.best_estimator_.get_params() \n",
    "\n"
   ]
  },
  {
   "cell_type": "code",
   "execution_count": 22,
   "metadata": {},
   "outputs": [
    {
     "name": "stdout",
     "output_type": "stream",
     "text": [
      "\n",
      "The accuracy for the training data is:\n",
      "0.6634790528233151\n",
      "\n",
      "The accuracy for the validation data is:\n",
      "0.6425318761384335\n",
      "\n",
      "The confusion matrix for the validation data is:\n",
      "[[1360    2    0]\n",
      " [ 438   22    0]\n",
      " [ 341    4   29]]\n",
      "\n",
      "The classification report for the validation data is:\n",
      "              precision    recall  f1-score   support\n",
      "\n",
      "    negative      0.636     0.999     0.777      1362\n",
      "     neutral      0.786     0.048     0.090       460\n",
      "    positive      1.000     0.078     0.144       374\n",
      "\n",
      "    accuracy                          0.643      2196\n",
      "   macro avg      0.807     0.375     0.337      2196\n",
      "weighted avg      0.729     0.643     0.525      2196\n",
      "\n"
     ]
    }
   ],
   "source": [
    "\n",
    "# Run the random forest classifier with the optomized hyperparameters\n",
    "\n",
    "rf_classifier_gs = train_score_classifier(sklearn_classifier=clf,\n",
    "                                          X_train=X_train, \n",
    "                                          y_train=y_train, \n",
    "                                          X_val=X_val, \n",
    "                                          y_val=y_val, \n",
    "                                          model_parameters=gsc.best_estimator_.get_params())\n"
   ]
  },
  {
   "cell_type": "markdown",
   "metadata": {},
   "source": [
    "## Random Forrest - SVD Dimension Reduction"
   ]
  },
  {
   "cell_type": "code",
   "execution_count": 23,
   "metadata": {},
   "outputs": [
    {
     "name": "stdout",
     "output_type": "stream",
     "text": [
      "\n",
      "The accuracy for the training data is:\n",
      "0.9926001821493625\n",
      "\n",
      "The accuracy for the validation data is:\n",
      "0.726775956284153\n",
      "\n",
      "The confusion matrix for the validation data is:\n",
      "[[1282   56   24]\n",
      " [ 277  142   41]\n",
      " [ 168   34  172]]\n",
      "\n",
      "The classification report for the validation data is:\n",
      "              precision    recall  f1-score   support\n",
      "\n",
      "    negative      0.742     0.941     0.830      1362\n",
      "     neutral      0.612     0.309     0.410       460\n",
      "    positive      0.726     0.460     0.563       374\n",
      "\n",
      "    accuracy                          0.727      2196\n",
      "   macro avg      0.693     0.570     0.601      2196\n",
      "weighted avg      0.712     0.727     0.697      2196\n",
      "\n"
     ]
    }
   ],
   "source": [
    "\n",
    "# Run a basic random forest classifier\n",
    "\n",
    "rf_classifier_svd = train_score_classifier(sklearn_classifier=clf,\n",
    "                                          X_train=X_train_svd, \n",
    "                                          y_train=y_train_svd, \n",
    "                                          X_val=X_val_svd, \n",
    "                                          y_val=y_val_svd, \n",
    "                                          model_parameters={'n_estimators':100, 'random_state':42})"
   ]
  },
  {
   "cell_type": "code",
   "execution_count": 24,
   "metadata": {},
   "outputs": [
    {
     "name": "stderr",
     "output_type": "stream",
     "text": [
      "/Users/andrewgrant/opt/anaconda3/lib/python3.7/site-packages/sklearn/model_selection/_split.py:1978: FutureWarning: The default value of cv will change from 3 to 5 in version 0.22. Specify it explicitly to silence this warning.\n",
      "  warnings.warn(CV_WARNING, FutureWarning)\n"
     ]
    },
    {
     "data": {
      "text/plain": [
       "GridSearchCV(cv='warn', error_score='raise-deprecating',\n",
       "             estimator=RandomForestClassifier(bootstrap=True, class_weight=None,\n",
       "                                              criterion='gini', max_depth=None,\n",
       "                                              max_features='auto',\n",
       "                                              max_leaf_nodes=None,\n",
       "                                              min_impurity_decrease=0.0,\n",
       "                                              min_impurity_split=None,\n",
       "                                              min_samples_leaf=1,\n",
       "                                              min_samples_split=2,\n",
       "                                              min_weight_fraction_leaf=0.0,\n",
       "                                              n_estimators='warn', n_jobs=None,\n",
       "                                              oob_score=False, random_state=42,\n",
       "                                              verbose=0, warm_start=False),\n",
       "             iid='warn', n_jobs=None,\n",
       "             param_grid={'bootstrap': [True, False],\n",
       "                         'max_depth': [12, 15, 18, 21],\n",
       "                         'min_samples_leaf': [1, 2, 3],\n",
       "                         'min_samples_split': [2, 3, 4],\n",
       "                         'n_estimators': [150, 200, 250, 300]},\n",
       "             pre_dispatch='2*n_jobs', refit=True, return_train_score=False,\n",
       "             scoring=None, verbose=0)"
      ]
     },
     "execution_count": 24,
     "metadata": {},
     "output_type": "execute_result"
    }
   ],
   "source": [
    "\n",
    "# assign paramater values for grid search\n",
    "\n",
    "parameters_rf = {'n_estimators': [150, 200, 250, 300],\n",
    "               'max_depth': [12, 15, 18, 21],\n",
    "               'min_samples_split':[2, 3, 4],\n",
    "               'min_samples_leaf': [1, 2, 3],\n",
    "               'bootstrap': [True, False]}\n",
    "\n",
    "\n",
    "# assign random forest classifier to rf\n",
    "rf= RandomForestClassifier(random_state=42)\n",
    "\n",
    "# Initialize GridSearch and fit to training parameters\n",
    "gsc_svd = GridSearchCV(rf, parameters_rf)\n",
    "gsc_svd.fit(X_train_svd,y_train_svd)\n",
    "\n",
    "\n"
   ]
  },
  {
   "cell_type": "code",
   "execution_count": 25,
   "metadata": {},
   "outputs": [
    {
     "data": {
      "text/plain": [
       "{'bootstrap': False,\n",
       " 'class_weight': None,\n",
       " 'criterion': 'gini',\n",
       " 'max_depth': 18,\n",
       " 'max_features': 'auto',\n",
       " 'max_leaf_nodes': None,\n",
       " 'min_impurity_decrease': 0.0,\n",
       " 'min_impurity_split': None,\n",
       " 'min_samples_leaf': 1,\n",
       " 'min_samples_split': 4,\n",
       " 'min_weight_fraction_leaf': 0.0,\n",
       " 'n_estimators': 300,\n",
       " 'n_jobs': None,\n",
       " 'oob_score': False,\n",
       " 'random_state': 42,\n",
       " 'verbose': 0,\n",
       " 'warm_start': False}"
      ]
     },
     "execution_count": 25,
     "metadata": {},
     "output_type": "execute_result"
    }
   ],
   "source": [
    "\n",
    "# Get the optimal hyperparameters from the grid search\n",
    " \n",
    "gsc_svd.best_estimator_.get_params() \n",
    "\n"
   ]
  },
  {
   "cell_type": "code",
   "execution_count": 26,
   "metadata": {},
   "outputs": [
    {
     "name": "stdout",
     "output_type": "stream",
     "text": [
      "\n",
      "The accuracy for the training data is:\n",
      "0.9890710382513661\n",
      "\n",
      "The accuracy for the validation data is:\n",
      "0.7295081967213115\n",
      "\n",
      "The confusion matrix for the validation data is:\n",
      "[[1278   62   22]\n",
      " [ 275  147   38]\n",
      " [ 163   34  177]]\n",
      "\n",
      "The classification report for the validation data is:\n",
      "              precision    recall  f1-score   support\n",
      "\n",
      "    negative      0.745     0.938     0.830      1362\n",
      "     neutral      0.605     0.320     0.418       460\n",
      "    positive      0.747     0.473     0.579       374\n",
      "\n",
      "    accuracy                          0.730      2196\n",
      "   macro avg      0.699     0.577     0.609      2196\n",
      "weighted avg      0.716     0.730     0.701      2196\n",
      "\n"
     ]
    }
   ],
   "source": [
    "# Run the random forest classifier with the optomized hyperparameters\n",
    "\n",
    "rf_classifier_gs_svd = train_score_classifier(sklearn_classifier=clf,\n",
    "                                          X_train=X_train_svd, \n",
    "                                          y_train=y_train_svd, \n",
    "                                          X_val=X_val_svd, \n",
    "                                          y_val=y_val_svd, \n",
    "                                          model_parameters=gsc_svd.best_estimator_.get_params())\n",
    "\n"
   ]
  },
  {
   "cell_type": "markdown",
   "metadata": {},
   "source": [
    "## Random Forest - No Dimension Reduction - Binary Dependent Variable"
   ]
  },
  {
   "cell_type": "code",
   "execution_count": 45,
   "metadata": {},
   "outputs": [
    {
     "name": "stdout",
     "output_type": "stream",
     "text": [
      "\n",
      "The accuracy for the training data is:\n",
      "0.9964708561020036\n",
      "\n",
      "The accuracy for the validation data is:\n",
      "0.7864298724954463\n",
      "\n",
      "The confusion matrix for the validation data is:\n",
      "[[1117  245]\n",
      " [ 224  610]]\n",
      "\n",
      "The classification report for the validation data is:\n",
      "              precision    recall  f1-score   support\n",
      "\n",
      "    negative      0.833     0.820     0.826      1362\n",
      "not negative      0.713     0.731     0.722       834\n",
      "\n",
      "    accuracy                          0.786      2196\n",
      "   macro avg      0.773     0.776     0.774      2196\n",
      "weighted avg      0.788     0.786     0.787      2196\n",
      "\n"
     ]
    }
   ],
   "source": [
    "from sklearn.ensemble import RandomForestClassifier\n",
    "\n",
    "\n",
    "# Create a random forest Classifier\n",
    "\n",
    "clf = RandomForestClassifier\n",
    "\n",
    "# run base version of random forrest model \n",
    "\n",
    "rf_classifier_bin = train_score_classifier(sklearn_classifier=clf,\n",
    "                                          X_train=X_train_bin, \n",
    "                                          y_train=y_train_bin, \n",
    "                                          X_val=X_val_bin, \n",
    "                                          y_val=y_val_bin, \n",
    "                                          model_parameters={'n_estimators':100, 'random_state':42})"
   ]
  },
  {
   "cell_type": "code",
   "execution_count": 48,
   "metadata": {},
   "outputs": [
    {
     "name": "stderr",
     "output_type": "stream",
     "text": [
      "/Users/andrewgrant/opt/anaconda3/lib/python3.7/site-packages/sklearn/model_selection/_split.py:1978: FutureWarning: The default value of cv will change from 3 to 5 in version 0.22. Specify it explicitly to silence this warning.\n",
      "  warnings.warn(CV_WARNING, FutureWarning)\n"
     ]
    },
    {
     "data": {
      "text/plain": [
       "GridSearchCV(cv='warn', error_score='raise-deprecating',\n",
       "             estimator=RandomForestClassifier(bootstrap=True, class_weight=None,\n",
       "                                              criterion='gini', max_depth=None,\n",
       "                                              max_features='auto',\n",
       "                                              max_leaf_nodes=None,\n",
       "                                              min_impurity_decrease=0.0,\n",
       "                                              min_impurity_split=None,\n",
       "                                              min_samples_leaf=1,\n",
       "                                              min_samples_split=2,\n",
       "                                              min_weight_fraction_leaf=0.0,\n",
       "                                              n_estimators='warn', n_jobs=None,\n",
       "                                              oob_score=False, random_state=42,\n",
       "                                              verbose=0, warm_start=False),\n",
       "             iid='warn', n_jobs=None,\n",
       "             param_grid={'bootstrap': [True, False],\n",
       "                         'max_depth': [12, 15, 18, 21],\n",
       "                         'min_samples_leaf': [1, 2, 3],\n",
       "                         'min_samples_split': [2, 3, 4],\n",
       "                         'n_estimators': [150, 200, 250, 300]},\n",
       "             pre_dispatch='2*n_jobs', refit=True, return_train_score=False,\n",
       "             scoring=None, verbose=0)"
      ]
     },
     "execution_count": 48,
     "metadata": {},
     "output_type": "execute_result"
    }
   ],
   "source": [
    "\n",
    "# assign paramater values for grid search\n",
    "\n",
    "parameters_rf = {'n_estimators': [150, 200, 250, 300],\n",
    "               'max_depth': [12, 15, 18, 21],\n",
    "               'min_samples_split':[2, 3, 4],\n",
    "               'min_samples_leaf': [1, 2, 3],\n",
    "               'bootstrap': [True, False]}\n",
    "\n",
    "\n",
    "# assign random forest classifier to rf\n",
    "rf= RandomForestClassifier(random_state=42)\n",
    "\n",
    "# Initialize GridSearch and fit to training parameters\n",
    "gsc_bin = GridSearchCV(rf, parameters_rf)\n",
    "gsc_bin.fit(X_train_bin,y_train_bin)\n"
   ]
  },
  {
   "cell_type": "code",
   "execution_count": 49,
   "metadata": {},
   "outputs": [
    {
     "data": {
      "text/plain": [
       "{'bootstrap': False,\n",
       " 'class_weight': None,\n",
       " 'criterion': 'gini',\n",
       " 'max_depth': 21,\n",
       " 'max_features': 'auto',\n",
       " 'max_leaf_nodes': None,\n",
       " 'min_impurity_decrease': 0.0,\n",
       " 'min_impurity_split': None,\n",
       " 'min_samples_leaf': 1,\n",
       " 'min_samples_split': 3,\n",
       " 'min_weight_fraction_leaf': 0.0,\n",
       " 'n_estimators': 250,\n",
       " 'n_jobs': None,\n",
       " 'oob_score': False,\n",
       " 'random_state': 42,\n",
       " 'verbose': 0,\n",
       " 'warm_start': False}"
      ]
     },
     "execution_count": 49,
     "metadata": {},
     "output_type": "execute_result"
    }
   ],
   "source": [
    "# Get the optimal hyperparameters from the grid search\n",
    " \n",
    "gsc_bin.best_estimator_.get_params() \n"
   ]
  },
  {
   "cell_type": "code",
   "execution_count": 50,
   "metadata": {},
   "outputs": [
    {
     "name": "stdout",
     "output_type": "stream",
     "text": [
      "\n",
      "The accuracy for the training data is:\n",
      "0.7735655737704918\n",
      "\n",
      "The accuracy for the validation data is:\n",
      "0.7244990892531876\n",
      "\n",
      "The confusion matrix for the validation data is:\n",
      "[[1336   26]\n",
      " [ 579  255]]\n",
      "\n",
      "The classification report for the validation data is:\n",
      "              precision    recall  f1-score   support\n",
      "\n",
      "    negative      0.698     0.981     0.815      1362\n",
      "not negative      0.907     0.306     0.457       834\n",
      "\n",
      "    accuracy                          0.724      2196\n",
      "   macro avg      0.803     0.643     0.636      2196\n",
      "weighted avg      0.777     0.724     0.679      2196\n",
      "\n"
     ]
    }
   ],
   "source": [
    "\n",
    "# Run the random forest classifier with the optomized hyperparameters\n",
    "\n",
    "rf_classifier_gs_bin = train_score_classifier(sklearn_classifier=clf,\n",
    "                                          X_train=X_train_bin, \n",
    "                                          y_train=y_train_bin, \n",
    "                                          X_val=X_val_bin, \n",
    "                                          y_val=y_val_bin, \n",
    "                                          model_parameters=gsc_bin.best_estimator_.get_params())"
   ]
  },
  {
   "cell_type": "markdown",
   "metadata": {},
   "source": [
    "## Random Forest - Dimension Reduction - Binary Dependent Variable"
   ]
  },
  {
   "cell_type": "code",
   "execution_count": 51,
   "metadata": {},
   "outputs": [
    {
     "name": "stdout",
     "output_type": "stream",
     "text": [
      "\n",
      "The accuracy for the training data is:\n",
      "0.9964708561020036\n",
      "\n",
      "The accuracy for the validation data is:\n",
      "0.7759562841530054\n",
      "\n",
      "The confusion matrix for the validation data is:\n",
      "[[1235  127]\n",
      " [ 365  469]]\n",
      "\n",
      "The classification report for the validation data is:\n",
      "              precision    recall  f1-score   support\n",
      "\n",
      "    negative      0.772     0.907     0.834      1362\n",
      "not negative      0.787     0.562     0.656       834\n",
      "\n",
      "    accuracy                          0.776      2196\n",
      "   macro avg      0.779     0.735     0.745      2196\n",
      "weighted avg      0.778     0.776     0.766      2196\n",
      "\n"
     ]
    }
   ],
   "source": [
    "\n",
    "# Run a basic random forest classifier\n",
    "\n",
    "rf_classifier_svd_bin = train_score_classifier(sklearn_classifier=clf,\n",
    "                                          X_train=X_train_svd_bin, \n",
    "                                          y_train=y_train_svd_bin, \n",
    "                                          X_val=X_val_svd_bin, \n",
    "                                          y_val=y_val_svd_bin, \n",
    "                                          model_parameters={'n_estimators':100, 'random_state':42})"
   ]
  },
  {
   "cell_type": "code",
   "execution_count": 52,
   "metadata": {},
   "outputs": [
    {
     "name": "stderr",
     "output_type": "stream",
     "text": [
      "/Users/andrewgrant/opt/anaconda3/lib/python3.7/site-packages/sklearn/model_selection/_split.py:1978: FutureWarning: The default value of cv will change from 3 to 5 in version 0.22. Specify it explicitly to silence this warning.\n",
      "  warnings.warn(CV_WARNING, FutureWarning)\n"
     ]
    },
    {
     "data": {
      "text/plain": [
       "GridSearchCV(cv='warn', error_score='raise-deprecating',\n",
       "             estimator=RandomForestClassifier(bootstrap=True, class_weight=None,\n",
       "                                              criterion='gini', max_depth=None,\n",
       "                                              max_features='auto',\n",
       "                                              max_leaf_nodes=None,\n",
       "                                              min_impurity_decrease=0.0,\n",
       "                                              min_impurity_split=None,\n",
       "                                              min_samples_leaf=1,\n",
       "                                              min_samples_split=2,\n",
       "                                              min_weight_fraction_leaf=0.0,\n",
       "                                              n_estimators='warn', n_jobs=None,\n",
       "                                              oob_score=False, random_state=42,\n",
       "                                              verbose=0, warm_start=False),\n",
       "             iid='warn', n_jobs=None,\n",
       "             param_grid={'bootstrap': [True, False],\n",
       "                         'max_depth': [12, 15, 18, 21],\n",
       "                         'min_samples_leaf': [1, 2, 3],\n",
       "                         'min_samples_split': [2, 3, 4],\n",
       "                         'n_estimators': [150, 200, 250, 300]},\n",
       "             pre_dispatch='2*n_jobs', refit=True, return_train_score=False,\n",
       "             scoring=None, verbose=0)"
      ]
     },
     "execution_count": 52,
     "metadata": {},
     "output_type": "execute_result"
    }
   ],
   "source": [
    "# assign paramater values for grid search\n",
    "\n",
    "parameters_rf = {'n_estimators': [150, 200, 250, 300],\n",
    "               'max_depth': [12, 15, 18, 21],\n",
    "               'min_samples_split':[2, 3, 4],\n",
    "               'min_samples_leaf': [1, 2, 3],\n",
    "               'bootstrap': [True, False]}\n",
    "\n",
    "\n",
    "# assign random forest classifier to rf\n",
    "rf= RandomForestClassifier(random_state=42)\n",
    "\n",
    "# Initialize GridSearch and fit to training parameters\n",
    "gsc_svd_bin = GridSearchCV(rf, parameters_rf)\n",
    "gsc_svd_bin.fit(X_train_svd_bin,y_train_svd_bin)\n"
   ]
  },
  {
   "cell_type": "code",
   "execution_count": 53,
   "metadata": {},
   "outputs": [
    {
     "data": {
      "text/plain": [
       "{'bootstrap': False,\n",
       " 'class_weight': None,\n",
       " 'criterion': 'gini',\n",
       " 'max_depth': 15,\n",
       " 'max_features': 'auto',\n",
       " 'max_leaf_nodes': None,\n",
       " 'min_impurity_decrease': 0.0,\n",
       " 'min_impurity_split': None,\n",
       " 'min_samples_leaf': 1,\n",
       " 'min_samples_split': 4,\n",
       " 'min_weight_fraction_leaf': 0.0,\n",
       " 'n_estimators': 300,\n",
       " 'n_jobs': None,\n",
       " 'oob_score': False,\n",
       " 'random_state': 42,\n",
       " 'verbose': 0,\n",
       " 'warm_start': False}"
      ]
     },
     "execution_count": 53,
     "metadata": {},
     "output_type": "execute_result"
    }
   ],
   "source": [
    "# Get the optimal hyperparameters from the grid search\n",
    " \n",
    "gsc_svd_bin.best_estimator_.get_params() \n"
   ]
  },
  {
   "cell_type": "code",
   "execution_count": 54,
   "metadata": {},
   "outputs": [
    {
     "name": "stdout",
     "output_type": "stream",
     "text": [
      "\n",
      "The accuracy for the training data is:\n",
      "0.9857695810564663\n",
      "\n",
      "The accuracy for the validation data is:\n",
      "0.779143897996357\n",
      "\n",
      "The confusion matrix for the validation data is:\n",
      "[[1222  140]\n",
      " [ 345  489]]\n",
      "\n",
      "The classification report for the validation data is:\n",
      "              precision    recall  f1-score   support\n",
      "\n",
      "    negative      0.780     0.897     0.834      1362\n",
      "not negative      0.777     0.586     0.668       834\n",
      "\n",
      "    accuracy                          0.779      2196\n",
      "   macro avg      0.779     0.742     0.751      2196\n",
      "weighted avg      0.779     0.779     0.771      2196\n",
      "\n"
     ]
    }
   ],
   "source": [
    "# Run the random forest classifier with the optomized hyperparameters\n",
    "\n",
    "rf_classifier_gs_svd_bin = train_score_classifier(sklearn_classifier=clf,\n",
    "                                          X_train=X_train_svd_bin, \n",
    "                                          y_train=y_train_svd_bin, \n",
    "                                          X_val=X_val_svd_bin, \n",
    "                                          y_val=y_val_svd_bin, \n",
    "                                          model_parameters=gsc_svd_bin.best_estimator_.get_params())\n"
   ]
  },
  {
   "cell_type": "markdown",
   "metadata": {},
   "source": [
    "## Support Vector Machine - No Dimension Reduction"
   ]
  },
  {
   "cell_type": "code",
   "execution_count": 27,
   "metadata": {},
   "outputs": [
    {
     "name": "stdout",
     "output_type": "stream",
     "text": [
      "\n",
      "The accuracy for the training data is:\n",
      "0.9264571948998178\n",
      "\n",
      "The accuracy for the validation data is:\n",
      "0.7636612021857924\n",
      "\n",
      "The confusion matrix for the validation data is:\n",
      "[[1155  158   49]\n",
      " [ 149  260   51]\n",
      " [  62   50  262]]\n",
      "\n",
      "The classification report for the validation data is:\n",
      "              precision    recall  f1-score   support\n",
      "\n",
      "    negative      0.846     0.848     0.847      1362\n",
      "     neutral      0.556     0.565     0.560       460\n",
      "    positive      0.724     0.701     0.712       374\n",
      "\n",
      "    accuracy                          0.764      2196\n",
      "   macro avg      0.708     0.705     0.706      2196\n",
      "weighted avg      0.764     0.764     0.764      2196\n",
      "\n"
     ]
    }
   ],
   "source": [
    "from sklearn.svm import SVC\n",
    "\n",
    "\n",
    "#Create a svm Classifier\n",
    "\n",
    "clf_svm = SVC\n",
    "\n",
    "\n",
    "# run a base SVM for a linear kernal\n",
    "\n",
    "lin_svm_classifier = train_score_classifier(sklearn_classifier=clf_svm,\n",
    "                                          X_train=X_train, \n",
    "                                          y_train=y_train, \n",
    "                                          X_val=X_val, \n",
    "                                          y_val=y_val, \n",
    "                                          model_parameters={'random_state':42,\n",
    "                                                            'kernel':'linear'})"
   ]
  },
  {
   "cell_type": "code",
   "execution_count": null,
   "metadata": {},
   "outputs": [
    {
     "name": "stderr",
     "output_type": "stream",
     "text": [
      "/Users/andrewgrant/opt/anaconda3/lib/python3.7/site-packages/sklearn/model_selection/_split.py:1978: FutureWarning: The default value of cv will change from 3 to 5 in version 0.22. Specify it explicitly to silence this warning.\n",
      "  warnings.warn(CV_WARNING, FutureWarning)\n"
     ]
    }
   ],
   "source": [
    "\n",
    "# assign paramater values for grid search\n",
    "\n",
    "parameters_svm = {'C':[1, 3, 5, 7],\n",
    "                  'kernel':['rbf','linear', 'poly', 'sigmoid'],\n",
    "                  'gamma':[1, 3, 5, 7]}\n",
    "\n",
    "\n",
    "# assign SVM classifier to svm_cf\n",
    "\n",
    "svm_cf= SVC(random_state=42)\n",
    "\n",
    "# Initialize GridSearch and fit to training parameters\n",
    "\n",
    "gsc2 = GridSearchCV(svm_cf, parameters_svm)\n",
    "gsc2.fit(X_train,y_train)"
   ]
  },
  {
   "cell_type": "code",
   "execution_count": null,
   "metadata": {},
   "outputs": [],
   "source": [
    "\n",
    "# Get the optimal hyperparameters from the grid search\n",
    "\n",
    "gsc2.best_estimator_.get_params() "
   ]
  },
  {
   "cell_type": "code",
   "execution_count": null,
   "metadata": {},
   "outputs": [],
   "source": [
    "\n",
    "# Run the SVM classifier with the optomized hyperparameters\n",
    "\n",
    "svm_classifier_gs = train_score_classifier(sklearn_classifier=clf_svm,\n",
    "                                          X_train=X_train, \n",
    "                                          y_train=y_train, \n",
    "                                          X_val=X_val, \n",
    "                                          y_val=y_val, \n",
    "                                          model_parameters=gsc2.best_estimator_.get_params())"
   ]
  },
  {
   "cell_type": "markdown",
   "metadata": {},
   "source": [
    "## Support Vector Machine -SVD Dimension Reduction\n",
    "\n"
   ]
  },
  {
   "cell_type": "code",
   "execution_count": 28,
   "metadata": {},
   "outputs": [
    {
     "name": "stdout",
     "output_type": "stream",
     "text": [
      "\n",
      "The accuracy for the training data is:\n",
      "0.6253415300546448\n",
      "\n",
      "The accuracy for the validation data is:\n",
      "0.6202185792349727\n",
      "\n",
      "The confusion matrix for the validation data is:\n",
      "[[1362    0    0]\n",
      " [ 460    0    0]\n",
      " [ 374    0    0]]\n",
      "\n",
      "The classification report for the validation data is:\n",
      "              precision    recall  f1-score   support\n",
      "\n",
      "    negative      0.620     1.000     0.766      1362\n",
      "     neutral      0.000     0.000     0.000       460\n",
      "    positive      0.000     0.000     0.000       374\n",
      "\n",
      "    accuracy                          0.620      2196\n",
      "   macro avg      0.207     0.333     0.255      2196\n",
      "weighted avg      0.385     0.620     0.475      2196\n",
      "\n"
     ]
    },
    {
     "name": "stderr",
     "output_type": "stream",
     "text": [
      "/Users/andrewgrant/opt/anaconda3/lib/python3.7/site-packages/sklearn/metrics/classification.py:1437: UndefinedMetricWarning: Precision and F-score are ill-defined and being set to 0.0 in labels with no predicted samples.\n",
      "  'precision', 'predicted', average, warn_for)\n"
     ]
    }
   ],
   "source": [
    "# run a base SVM for a linear kernal\n",
    "\n",
    "lin_svm_classifier_svd = train_score_classifier(sklearn_classifier=clf_svm,\n",
    "                                          X_train=X_train_svd, \n",
    "                                          y_train=y_train_svd, \n",
    "                                          X_val=X_val_svd, \n",
    "                                          y_val=y_val_svd, \n",
    "                                          model_parameters={'random_state':42,\n",
    "                                                            'kernel':'linear'})\n"
   ]
  },
  {
   "cell_type": "code",
   "execution_count": 29,
   "metadata": {},
   "outputs": [
    {
     "name": "stderr",
     "output_type": "stream",
     "text": [
      "/Users/andrewgrant/opt/anaconda3/lib/python3.7/site-packages/sklearn/model_selection/_split.py:1978: FutureWarning: The default value of cv will change from 3 to 5 in version 0.22. Specify it explicitly to silence this warning.\n",
      "  warnings.warn(CV_WARNING, FutureWarning)\n"
     ]
    },
    {
     "data": {
      "text/plain": [
       "GridSearchCV(cv='warn', error_score='raise-deprecating',\n",
       "             estimator=SVC(C=1.0, cache_size=200, class_weight=None, coef0=0.0,\n",
       "                           decision_function_shape='ovr', degree=3,\n",
       "                           gamma='auto_deprecated', kernel='rbf', max_iter=-1,\n",
       "                           probability=False, random_state=42, shrinking=True,\n",
       "                           tol=0.001, verbose=False),\n",
       "             iid='warn', n_jobs=None,\n",
       "             param_grid={'C': [1, 3, 5, 7], 'gamma': [1, 3, 5, 7],\n",
       "                         'kernel': ['rbf', 'linear', 'poly', 'sigmoid']},\n",
       "             pre_dispatch='2*n_jobs', refit=True, return_train_score=False,\n",
       "             scoring=None, verbose=0)"
      ]
     },
     "execution_count": 29,
     "metadata": {},
     "output_type": "execute_result"
    }
   ],
   "source": [
    "# assign paramater values for grid search\n",
    "\n",
    "parameters_svm = {'C':[1, 3, 5, 7],\n",
    "                  'kernel':['rbf','linear', 'poly', 'sigmoid'],\n",
    "                  'gamma':[1, 3, 5, 7]}\n",
    "\n",
    "\n",
    "# assign SVM classifier to svm_cf\n",
    "\n",
    "svm_cf= SVC(random_state=42)\n",
    "\n",
    "# Initialize GridSearch and fit to training parameters\n",
    "\n",
    "gsc2_svd = GridSearchCV(svm_cf, parameters_svm)\n",
    "gsc2_svd.fit(X_train_svd,y_train_svd)"
   ]
  },
  {
   "cell_type": "code",
   "execution_count": 30,
   "metadata": {},
   "outputs": [
    {
     "data": {
      "text/plain": [
       "{'C': 7,\n",
       " 'cache_size': 200,\n",
       " 'class_weight': None,\n",
       " 'coef0': 0.0,\n",
       " 'decision_function_shape': 'ovr',\n",
       " 'degree': 3,\n",
       " 'gamma': 7,\n",
       " 'kernel': 'rbf',\n",
       " 'max_iter': -1,\n",
       " 'probability': False,\n",
       " 'random_state': 42,\n",
       " 'shrinking': True,\n",
       " 'tol': 0.001,\n",
       " 'verbose': False}"
      ]
     },
     "execution_count": 30,
     "metadata": {},
     "output_type": "execute_result"
    }
   ],
   "source": [
    "\n",
    "# Get the optimal hyperparameters from the grid search\n",
    "\n",
    "gsc2_svd.best_estimator_.get_params() \n",
    "\n",
    "\n"
   ]
  },
  {
   "cell_type": "code",
   "execution_count": 31,
   "metadata": {},
   "outputs": [
    {
     "name": "stdout",
     "output_type": "stream",
     "text": [
      "\n",
      "The accuracy for the training data is:\n",
      "0.742827868852459\n",
      "\n",
      "The accuracy for the validation data is:\n",
      "0.7281420765027322\n",
      "\n",
      "The confusion matrix for the validation data is:\n",
      "[[1251   66   45]\n",
      " [ 272  140   48]\n",
      " [ 136   30  208]]\n",
      "\n",
      "The classification report for the validation data is:\n",
      "              precision    recall  f1-score   support\n",
      "\n",
      "    negative      0.754     0.919     0.828      1362\n",
      "     neutral      0.593     0.304     0.402       460\n",
      "    positive      0.691     0.556     0.616       374\n",
      "\n",
      "    accuracy                          0.728      2196\n",
      "   macro avg      0.679     0.593     0.616      2196\n",
      "weighted avg      0.710     0.728     0.703      2196\n",
      "\n"
     ]
    }
   ],
   "source": [
    "# Run the SVM classifier with the optomized hyperparameters\n",
    "\n",
    "svm_classifier_gs_svd = train_score_classifier(sklearn_classifier=clf_svm,\n",
    "                                          X_train=X_train_svd, \n",
    "                                          y_train=y_train_svd, \n",
    "                                          X_val=X_val_svd, \n",
    "                                          y_val=y_val_svd, \n",
    "                                          model_parameters=gsc2_svd.best_estimator_.get_params())\n",
    "\n"
   ]
  },
  {
   "cell_type": "markdown",
   "metadata": {},
   "source": [
    "## Support Vector Machine - No Dimension Reduction - Binary Dependent Variable"
   ]
  },
  {
   "cell_type": "code",
   "execution_count": 76,
   "metadata": {},
   "outputs": [
    {
     "name": "stdout",
     "output_type": "stream",
     "text": [
      "\n",
      "The accuracy for the training data is:\n",
      "0.9334016393442623\n",
      "\n",
      "The accuracy for the validation data is:\n",
      "0.8123861566484517\n",
      "\n",
      "The confusion matrix for the validation data is:\n",
      "[[1136  226]\n",
      " [ 186  648]]\n",
      "\n",
      "The classification report for the validation data is:\n",
      "              precision    recall  f1-score   support\n",
      "\n",
      "    negative      0.859     0.834     0.846      1362\n",
      "not negative      0.741     0.777     0.759       834\n",
      "\n",
      "    accuracy                          0.812      2196\n",
      "   macro avg      0.800     0.806     0.803      2196\n",
      "weighted avg      0.815     0.812     0.813      2196\n",
      "\n"
     ]
    }
   ],
   "source": [
    "from sklearn.svm import SVC\n",
    "\n",
    "\n",
    "#Create a svm Classifier\n",
    "\n",
    "clf_svm = SVC\n",
    "\n",
    "\n",
    "# run a base SVM for a linear kernal\n",
    "\n",
    "lin_svm_classifier_bin = train_score_classifier(sklearn_classifier=clf_svm,\n",
    "                                          X_train=X_train_bin, \n",
    "                                          y_train=y_train_bin, \n",
    "                                          X_val=X_val_bin, \n",
    "                                          y_val=y_val_bin, \n",
    "                                          model_parameters={'random_state':42,\n",
    "                                                            'kernel':'linear'})"
   ]
  },
  {
   "cell_type": "markdown",
   "metadata": {},
   "source": [
    "## Support Vector Machine -SVD Dimension Reduction - Binary Dependent Variable\n"
   ]
  },
  {
   "cell_type": "code",
   "execution_count": 56,
   "metadata": {},
   "outputs": [
    {
     "name": "stdout",
     "output_type": "stream",
     "text": [
      "\n",
      "The accuracy for the training data is:\n",
      "0.6255692167577414\n",
      "\n",
      "The accuracy for the validation data is:\n",
      "0.6211293260473588\n",
      "\n",
      "The confusion matrix for the validation data is:\n",
      "[[1362    0]\n",
      " [ 832    2]]\n",
      "\n",
      "The classification report for the validation data is:\n",
      "              precision    recall  f1-score   support\n",
      "\n",
      "    negative      0.621     1.000     0.766      1362\n",
      "not negative      1.000     0.002     0.005       834\n",
      "\n",
      "    accuracy                          0.621      2196\n",
      "   macro avg      0.810     0.501     0.385      2196\n",
      "weighted avg      0.765     0.621     0.477      2196\n",
      "\n"
     ]
    }
   ],
   "source": [
    "# run a base SVM for a linear kernal\n",
    "\n",
    "lin_svm_classifier_svd_bin = train_score_classifier(sklearn_classifier=clf_svm,\n",
    "                                          X_train=X_train_svd_bin, \n",
    "                                          y_train=y_train_svd_bin, \n",
    "                                          X_val=X_val_svd_bin, \n",
    "                                          y_val=y_val_svd_bin, \n",
    "                                          model_parameters={'random_state':42,\n",
    "                                                            'kernel':'linear'})\n"
   ]
  },
  {
   "cell_type": "code",
   "execution_count": 57,
   "metadata": {},
   "outputs": [
    {
     "name": "stderr",
     "output_type": "stream",
     "text": [
      "/Users/andrewgrant/opt/anaconda3/lib/python3.7/site-packages/sklearn/model_selection/_split.py:1978: FutureWarning: The default value of cv will change from 3 to 5 in version 0.22. Specify it explicitly to silence this warning.\n",
      "  warnings.warn(CV_WARNING, FutureWarning)\n"
     ]
    },
    {
     "data": {
      "text/plain": [
       "GridSearchCV(cv='warn', error_score='raise-deprecating',\n",
       "             estimator=SVC(C=1.0, cache_size=200, class_weight=None, coef0=0.0,\n",
       "                           decision_function_shape='ovr', degree=3,\n",
       "                           gamma='auto_deprecated', kernel='rbf', max_iter=-1,\n",
       "                           probability=False, random_state=42, shrinking=True,\n",
       "                           tol=0.001, verbose=False),\n",
       "             iid='warn', n_jobs=None,\n",
       "             param_grid={'C': [1, 3, 5, 7], 'gamma': [1, 3, 5, 7],\n",
       "                         'kernel': ['rbf', 'linear', 'poly', 'sigmoid']},\n",
       "             pre_dispatch='2*n_jobs', refit=True, return_train_score=False,\n",
       "             scoring=None, verbose=0)"
      ]
     },
     "execution_count": 57,
     "metadata": {},
     "output_type": "execute_result"
    }
   ],
   "source": [
    "# assign paramater values for grid search\n",
    "\n",
    "parameters_svm = {'C':[1, 3, 5, 7],\n",
    "                  'kernel':['rbf','linear', 'poly', 'sigmoid'],\n",
    "                  'gamma':[1, 3, 5, 7]}\n",
    "\n",
    "\n",
    "# assign SVM classifier to svm_cf\n",
    "\n",
    "svm_cf= SVC(random_state=42)\n",
    "\n",
    "# Initialize GridSearch and fit to training parameters\n",
    "\n",
    "gsc2_svd_bin = GridSearchCV(svm_cf, parameters_svm)\n",
    "gsc2_svd_bin.fit(X_train_svd_bin,y_train_svd_bin)"
   ]
  },
  {
   "cell_type": "code",
   "execution_count": 58,
   "metadata": {},
   "outputs": [
    {
     "data": {
      "text/plain": [
       "{'C': 7,\n",
       " 'cache_size': 200,\n",
       " 'class_weight': None,\n",
       " 'coef0': 0.0,\n",
       " 'decision_function_shape': 'ovr',\n",
       " 'degree': 3,\n",
       " 'gamma': 7,\n",
       " 'kernel': 'rbf',\n",
       " 'max_iter': -1,\n",
       " 'probability': False,\n",
       " 'random_state': 42,\n",
       " 'shrinking': True,\n",
       " 'tol': 0.001,\n",
       " 'verbose': False}"
      ]
     },
     "execution_count": 58,
     "metadata": {},
     "output_type": "execute_result"
    }
   ],
   "source": [
    "\n",
    "# Get the optimal hyperparameters from the grid search\n",
    "\n",
    "gsc2_svd_bin.best_estimator_.get_params() \n"
   ]
  },
  {
   "cell_type": "code",
   "execution_count": 59,
   "metadata": {},
   "outputs": [
    {
     "name": "stdout",
     "output_type": "stream",
     "text": [
      "\n",
      "The accuracy for the training data is:\n",
      "0.7938296903460837\n",
      "\n",
      "The accuracy for the validation data is:\n",
      "0.7827868852459017\n",
      "\n",
      "The confusion matrix for the validation data is:\n",
      "[[1176  186]\n",
      " [ 291  543]]\n",
      "\n",
      "The classification report for the validation data is:\n",
      "              precision    recall  f1-score   support\n",
      "\n",
      "    negative      0.802     0.863     0.831      1362\n",
      "not negative      0.745     0.651     0.695       834\n",
      "\n",
      "    accuracy                          0.783      2196\n",
      "   macro avg      0.773     0.757     0.763      2196\n",
      "weighted avg      0.780     0.783     0.780      2196\n",
      "\n"
     ]
    }
   ],
   "source": [
    "# Run the SVM classifier with the optomized hyperparameters\n",
    "\n",
    "svm_classifier_gs_svd_bin = train_score_classifier(sklearn_classifier=clf_svm,\n",
    "                                          X_train=X_train_svd_bin, \n",
    "                                          y_train=y_train_svd_bin, \n",
    "                                          X_val=X_val_svd_bin, \n",
    "                                          y_val=y_val_svd_bin, \n",
    "                                          model_parameters=gsc2_svd_bin.best_estimator_.get_params())\n",
    "\n"
   ]
  },
  {
   "cell_type": "markdown",
   "metadata": {},
   "source": [
    "## Neural Network - No Dimension Reduction"
   ]
  },
  {
   "cell_type": "code",
   "execution_count": 32,
   "metadata": {},
   "outputs": [
    {
     "name": "stdout",
     "output_type": "stream",
     "text": [
      "\n",
      "The accuracy for the training data is:\n",
      "0.9924863387978142\n",
      "\n",
      "The accuracy for the validation data is:\n",
      "0.7308743169398907\n",
      "\n",
      "The confusion matrix for the validation data is:\n",
      "[[1131  157   74]\n",
      " [ 157  231   72]\n",
      " [  72   59  243]]\n",
      "\n",
      "The classification report for the validation data is:\n",
      "              precision    recall  f1-score   support\n",
      "\n",
      "    negative      0.832     0.830     0.831      1362\n",
      "     neutral      0.517     0.502     0.509       460\n",
      "    positive      0.625     0.650     0.637       374\n",
      "\n",
      "    accuracy                          0.731      2196\n",
      "   macro avg      0.658     0.661     0.659      2196\n",
      "weighted avg      0.730     0.731     0.731      2196\n",
      "\n"
     ]
    }
   ],
   "source": [
    "from sklearn.neural_network import MLPClassifier\n",
    "\n",
    "\n",
    "clf_nn = MLPClassifier\n",
    "\n",
    "# run a basic neural network classifier\n",
    "\n",
    "nn_classifier = train_score_classifier(sklearn_classifier=clf_nn,\n",
    "                                          X_train=X_train, \n",
    "                                          y_train=y_train, \n",
    "                                          X_val=X_val, \n",
    "                                          y_val=y_val, \n",
    "                                          model_parameters={'random_state':42})"
   ]
  },
  {
   "cell_type": "code",
   "execution_count": 33,
   "metadata": {},
   "outputs": [
    {
     "name": "stderr",
     "output_type": "stream",
     "text": [
      "/Users/andrewgrant/opt/anaconda3/lib/python3.7/site-packages/sklearn/model_selection/_split.py:1978: FutureWarning: The default value of cv will change from 3 to 5 in version 0.22. Specify it explicitly to silence this warning.\n",
      "  warnings.warn(CV_WARNING, FutureWarning)\n",
      "/Users/andrewgrant/opt/anaconda3/lib/python3.7/site-packages/sklearn/neural_network/multilayer_perceptron.py:566: ConvergenceWarning: Stochastic Optimizer: Maximum iterations (200) reached and the optimization hasn't converged yet.\n",
      "  % self.max_iter, ConvergenceWarning)\n",
      "/Users/andrewgrant/opt/anaconda3/lib/python3.7/site-packages/sklearn/neural_network/multilayer_perceptron.py:566: ConvergenceWarning: Stochastic Optimizer: Maximum iterations (200) reached and the optimization hasn't converged yet.\n",
      "  % self.max_iter, ConvergenceWarning)\n",
      "/Users/andrewgrant/opt/anaconda3/lib/python3.7/site-packages/sklearn/neural_network/multilayer_perceptron.py:566: ConvergenceWarning: Stochastic Optimizer: Maximum iterations (200) reached and the optimization hasn't converged yet.\n",
      "  % self.max_iter, ConvergenceWarning)\n",
      "/Users/andrewgrant/opt/anaconda3/lib/python3.7/site-packages/sklearn/neural_network/multilayer_perceptron.py:566: ConvergenceWarning: Stochastic Optimizer: Maximum iterations (200) reached and the optimization hasn't converged yet.\n",
      "  % self.max_iter, ConvergenceWarning)\n",
      "/Users/andrewgrant/opt/anaconda3/lib/python3.7/site-packages/sklearn/neural_network/multilayer_perceptron.py:566: ConvergenceWarning: Stochastic Optimizer: Maximum iterations (200) reached and the optimization hasn't converged yet.\n",
      "  % self.max_iter, ConvergenceWarning)\n",
      "/Users/andrewgrant/opt/anaconda3/lib/python3.7/site-packages/sklearn/neural_network/multilayer_perceptron.py:566: ConvergenceWarning: Stochastic Optimizer: Maximum iterations (200) reached and the optimization hasn't converged yet.\n",
      "  % self.max_iter, ConvergenceWarning)\n",
      "/Users/andrewgrant/opt/anaconda3/lib/python3.7/site-packages/sklearn/neural_network/multilayer_perceptron.py:566: ConvergenceWarning: Stochastic Optimizer: Maximum iterations (200) reached and the optimization hasn't converged yet.\n",
      "  % self.max_iter, ConvergenceWarning)\n",
      "/Users/andrewgrant/opt/anaconda3/lib/python3.7/site-packages/sklearn/neural_network/multilayer_perceptron.py:566: ConvergenceWarning: Stochastic Optimizer: Maximum iterations (200) reached and the optimization hasn't converged yet.\n",
      "  % self.max_iter, ConvergenceWarning)\n",
      "/Users/andrewgrant/opt/anaconda3/lib/python3.7/site-packages/sklearn/neural_network/multilayer_perceptron.py:566: ConvergenceWarning: Stochastic Optimizer: Maximum iterations (200) reached and the optimization hasn't converged yet.\n",
      "  % self.max_iter, ConvergenceWarning)\n",
      "/Users/andrewgrant/opt/anaconda3/lib/python3.7/site-packages/sklearn/neural_network/multilayer_perceptron.py:566: ConvergenceWarning: Stochastic Optimizer: Maximum iterations (200) reached and the optimization hasn't converged yet.\n",
      "  % self.max_iter, ConvergenceWarning)\n",
      "/Users/andrewgrant/opt/anaconda3/lib/python3.7/site-packages/sklearn/neural_network/multilayer_perceptron.py:566: ConvergenceWarning: Stochastic Optimizer: Maximum iterations (200) reached and the optimization hasn't converged yet.\n",
      "  % self.max_iter, ConvergenceWarning)\n",
      "/Users/andrewgrant/opt/anaconda3/lib/python3.7/site-packages/sklearn/neural_network/multilayer_perceptron.py:566: ConvergenceWarning: Stochastic Optimizer: Maximum iterations (200) reached and the optimization hasn't converged yet.\n",
      "  % self.max_iter, ConvergenceWarning)\n",
      "/Users/andrewgrant/opt/anaconda3/lib/python3.7/site-packages/sklearn/neural_network/multilayer_perceptron.py:566: ConvergenceWarning: Stochastic Optimizer: Maximum iterations (200) reached and the optimization hasn't converged yet.\n",
      "  % self.max_iter, ConvergenceWarning)\n",
      "/Users/andrewgrant/opt/anaconda3/lib/python3.7/site-packages/sklearn/neural_network/multilayer_perceptron.py:566: ConvergenceWarning: Stochastic Optimizer: Maximum iterations (200) reached and the optimization hasn't converged yet.\n",
      "  % self.max_iter, ConvergenceWarning)\n",
      "/Users/andrewgrant/opt/anaconda3/lib/python3.7/site-packages/sklearn/neural_network/multilayer_perceptron.py:566: ConvergenceWarning: Stochastic Optimizer: Maximum iterations (200) reached and the optimization hasn't converged yet.\n",
      "  % self.max_iter, ConvergenceWarning)\n",
      "/Users/andrewgrant/opt/anaconda3/lib/python3.7/site-packages/sklearn/neural_network/multilayer_perceptron.py:566: ConvergenceWarning: Stochastic Optimizer: Maximum iterations (200) reached and the optimization hasn't converged yet.\n",
      "  % self.max_iter, ConvergenceWarning)\n",
      "/Users/andrewgrant/opt/anaconda3/lib/python3.7/site-packages/sklearn/neural_network/multilayer_perceptron.py:566: ConvergenceWarning: Stochastic Optimizer: Maximum iterations (200) reached and the optimization hasn't converged yet.\n",
      "  % self.max_iter, ConvergenceWarning)\n",
      "/Users/andrewgrant/opt/anaconda3/lib/python3.7/site-packages/sklearn/neural_network/multilayer_perceptron.py:566: ConvergenceWarning: Stochastic Optimizer: Maximum iterations (200) reached and the optimization hasn't converged yet.\n",
      "  % self.max_iter, ConvergenceWarning)\n",
      "/Users/andrewgrant/opt/anaconda3/lib/python3.7/site-packages/sklearn/neural_network/multilayer_perceptron.py:566: ConvergenceWarning: Stochastic Optimizer: Maximum iterations (200) reached and the optimization hasn't converged yet.\n",
      "  % self.max_iter, ConvergenceWarning)\n",
      "/Users/andrewgrant/opt/anaconda3/lib/python3.7/site-packages/sklearn/neural_network/multilayer_perceptron.py:566: ConvergenceWarning: Stochastic Optimizer: Maximum iterations (200) reached and the optimization hasn't converged yet.\n",
      "  % self.max_iter, ConvergenceWarning)\n",
      "/Users/andrewgrant/opt/anaconda3/lib/python3.7/site-packages/sklearn/neural_network/multilayer_perceptron.py:566: ConvergenceWarning: Stochastic Optimizer: Maximum iterations (200) reached and the optimization hasn't converged yet.\n",
      "  % self.max_iter, ConvergenceWarning)\n",
      "/Users/andrewgrant/opt/anaconda3/lib/python3.7/site-packages/sklearn/neural_network/multilayer_perceptron.py:566: ConvergenceWarning: Stochastic Optimizer: Maximum iterations (200) reached and the optimization hasn't converged yet.\n",
      "  % self.max_iter, ConvergenceWarning)\n",
      "/Users/andrewgrant/opt/anaconda3/lib/python3.7/site-packages/sklearn/neural_network/multilayer_perceptron.py:566: ConvergenceWarning: Stochastic Optimizer: Maximum iterations (200) reached and the optimization hasn't converged yet.\n",
      "  % self.max_iter, ConvergenceWarning)\n",
      "/Users/andrewgrant/opt/anaconda3/lib/python3.7/site-packages/sklearn/neural_network/multilayer_perceptron.py:566: ConvergenceWarning: Stochastic Optimizer: Maximum iterations (200) reached and the optimization hasn't converged yet.\n",
      "  % self.max_iter, ConvergenceWarning)\n",
      "/Users/andrewgrant/opt/anaconda3/lib/python3.7/site-packages/sklearn/neural_network/multilayer_perceptron.py:566: ConvergenceWarning: Stochastic Optimizer: Maximum iterations (200) reached and the optimization hasn't converged yet.\n",
      "  % self.max_iter, ConvergenceWarning)\n",
      "/Users/andrewgrant/opt/anaconda3/lib/python3.7/site-packages/sklearn/neural_network/multilayer_perceptron.py:566: ConvergenceWarning: Stochastic Optimizer: Maximum iterations (200) reached and the optimization hasn't converged yet.\n",
      "  % self.max_iter, ConvergenceWarning)\n",
      "/Users/andrewgrant/opt/anaconda3/lib/python3.7/site-packages/sklearn/neural_network/multilayer_perceptron.py:566: ConvergenceWarning: Stochastic Optimizer: Maximum iterations (200) reached and the optimization hasn't converged yet.\n",
      "  % self.max_iter, ConvergenceWarning)\n",
      "/Users/andrewgrant/opt/anaconda3/lib/python3.7/site-packages/sklearn/neural_network/multilayer_perceptron.py:566: ConvergenceWarning: Stochastic Optimizer: Maximum iterations (200) reached and the optimization hasn't converged yet.\n",
      "  % self.max_iter, ConvergenceWarning)\n",
      "/Users/andrewgrant/opt/anaconda3/lib/python3.7/site-packages/sklearn/neural_network/multilayer_perceptron.py:566: ConvergenceWarning: Stochastic Optimizer: Maximum iterations (200) reached and the optimization hasn't converged yet.\n",
      "  % self.max_iter, ConvergenceWarning)\n",
      "/Users/andrewgrant/opt/anaconda3/lib/python3.7/site-packages/sklearn/neural_network/multilayer_perceptron.py:566: ConvergenceWarning: Stochastic Optimizer: Maximum iterations (200) reached and the optimization hasn't converged yet.\n",
      "  % self.max_iter, ConvergenceWarning)\n"
     ]
    },
    {
     "name": "stderr",
     "output_type": "stream",
     "text": [
      "/Users/andrewgrant/opt/anaconda3/lib/python3.7/site-packages/sklearn/neural_network/multilayer_perceptron.py:566: ConvergenceWarning: Stochastic Optimizer: Maximum iterations (200) reached and the optimization hasn't converged yet.\n",
      "  % self.max_iter, ConvergenceWarning)\n",
      "/Users/andrewgrant/opt/anaconda3/lib/python3.7/site-packages/sklearn/neural_network/multilayer_perceptron.py:566: ConvergenceWarning: Stochastic Optimizer: Maximum iterations (200) reached and the optimization hasn't converged yet.\n",
      "  % self.max_iter, ConvergenceWarning)\n",
      "/Users/andrewgrant/opt/anaconda3/lib/python3.7/site-packages/sklearn/neural_network/multilayer_perceptron.py:566: ConvergenceWarning: Stochastic Optimizer: Maximum iterations (200) reached and the optimization hasn't converged yet.\n",
      "  % self.max_iter, ConvergenceWarning)\n",
      "/Users/andrewgrant/opt/anaconda3/lib/python3.7/site-packages/sklearn/neural_network/multilayer_perceptron.py:566: ConvergenceWarning: Stochastic Optimizer: Maximum iterations (200) reached and the optimization hasn't converged yet.\n",
      "  % self.max_iter, ConvergenceWarning)\n"
     ]
    },
    {
     "data": {
      "text/plain": [
       "GridSearchCV(cv='warn', error_score='raise-deprecating',\n",
       "             estimator=MLPClassifier(activation='relu', alpha=0.0001,\n",
       "                                     batch_size='auto', beta_1=0.9,\n",
       "                                     beta_2=0.999, early_stopping=False,\n",
       "                                     epsilon=1e-08, hidden_layer_sizes=(100,),\n",
       "                                     learning_rate='constant',\n",
       "                                     learning_rate_init=0.001, max_iter=200,\n",
       "                                     momentum=0.9, n_iter_no_change=10,\n",
       "                                     nesterovs_momentum=True, power_t=0.5,\n",
       "                                     rando..., shuffle=True,\n",
       "                                     solver='adam', tol=0.0001,\n",
       "                                     validation_fraction=0.1, verbose=False,\n",
       "                                     warm_start=False),\n",
       "             iid='warn', n_jobs=None,\n",
       "             param_grid={'activation': ['identity', 'logistic', 'tanh', 'relu'],\n",
       "                         'learning_rate': ['constant', 'invscaling',\n",
       "                                           'adaptive'],\n",
       "                         'solver': ['lbfgs', 'sgd', 'adam']},\n",
       "             pre_dispatch='2*n_jobs', refit=True, return_train_score=False,\n",
       "             scoring=None, verbose=0)"
      ]
     },
     "execution_count": 33,
     "metadata": {},
     "output_type": "execute_result"
    }
   ],
   "source": [
    "\n",
    "# assign paramater values for grid search\n",
    "\n",
    "parameters_nn = {'activation':['identity', 'logistic', 'tanh', 'relu'],\n",
    "                 'solver':['lbfgs', 'sgd', 'adam'],\n",
    "                 'learning_rate':['constant', 'invscaling', 'adaptive']}\n",
    "\n",
    "\n",
    "\n",
    "# assign neural network classifier to nn\n",
    "\n",
    "nn = MLPClassifier(random_state=42)\n",
    "\n",
    "# Initialize GridSearch and fit to training parameters\n",
    "\n",
    "gsc3 = GridSearchCV(nn, parameters_nn)\n",
    "gsc3.fit(X_train,y_train)"
   ]
  },
  {
   "cell_type": "code",
   "execution_count": 34,
   "metadata": {
    "scrolled": true
   },
   "outputs": [
    {
     "data": {
      "text/plain": [
       "{'activation': 'tanh',\n",
       " 'alpha': 0.0001,\n",
       " 'batch_size': 'auto',\n",
       " 'beta_1': 0.9,\n",
       " 'beta_2': 0.999,\n",
       " 'early_stopping': False,\n",
       " 'epsilon': 1e-08,\n",
       " 'hidden_layer_sizes': (100,),\n",
       " 'learning_rate': 'constant',\n",
       " 'learning_rate_init': 0.001,\n",
       " 'max_iter': 200,\n",
       " 'momentum': 0.9,\n",
       " 'n_iter_no_change': 10,\n",
       " 'nesterovs_momentum': True,\n",
       " 'power_t': 0.5,\n",
       " 'random_state': 42,\n",
       " 'shuffle': True,\n",
       " 'solver': 'sgd',\n",
       " 'tol': 0.0001,\n",
       " 'validation_fraction': 0.1,\n",
       " 'verbose': False,\n",
       " 'warm_start': False}"
      ]
     },
     "execution_count": 34,
     "metadata": {},
     "output_type": "execute_result"
    }
   ],
   "source": [
    "# Get the optimal hyperparameters from the grid search\n",
    "\n",
    "gsc3.best_estimator_.get_params() \n",
    "\n",
    "\n"
   ]
  },
  {
   "cell_type": "code",
   "execution_count": 35,
   "metadata": {},
   "outputs": [
    {
     "name": "stdout",
     "output_type": "stream",
     "text": [
      "\n",
      "The accuracy for the training data is:\n",
      "0.8220628415300546\n",
      "\n",
      "The accuracy for the validation data is:\n",
      "0.7704918032786885\n",
      "\n",
      "The confusion matrix for the validation data is:\n",
      "[[1227   95   40]\n",
      " [ 178  235   47]\n",
      " [  88   56  230]]\n",
      "\n",
      "The classification report for the validation data is:\n",
      "              precision    recall  f1-score   support\n",
      "\n",
      "    negative      0.822     0.901     0.860      1362\n",
      "     neutral      0.609     0.511     0.556       460\n",
      "    positive      0.726     0.615     0.666       374\n",
      "\n",
      "    accuracy                          0.770      2196\n",
      "   macro avg      0.719     0.676     0.694      2196\n",
      "weighted avg      0.761     0.770     0.763      2196\n",
      "\n"
     ]
    },
    {
     "name": "stderr",
     "output_type": "stream",
     "text": [
      "/Users/andrewgrant/opt/anaconda3/lib/python3.7/site-packages/sklearn/neural_network/multilayer_perceptron.py:566: ConvergenceWarning: Stochastic Optimizer: Maximum iterations (200) reached and the optimization hasn't converged yet.\n",
      "  % self.max_iter, ConvergenceWarning)\n"
     ]
    }
   ],
   "source": [
    "\n",
    "# Run the neural network classifier with the optomized hyperparameters\n",
    "\n",
    "nn_classifier_gs = train_score_classifier(sklearn_classifier=clf_nn,\n",
    "                                          X_train=X_train, \n",
    "                                          y_train=y_train, \n",
    "                                          X_val=X_val, \n",
    "                                          y_val=y_val, \n",
    "                                          model_parameters=gsc3.best_estimator_.get_params())"
   ]
  },
  {
   "cell_type": "markdown",
   "metadata": {},
   "source": [
    "## Neural Network - SVD Dimension Reduction"
   ]
  },
  {
   "cell_type": "code",
   "execution_count": 36,
   "metadata": {},
   "outputs": [
    {
     "name": "stdout",
     "output_type": "stream",
     "text": [
      "\n",
      "The accuracy for the training data is:\n",
      "0.7550091074681239\n",
      "\n",
      "The accuracy for the validation data is:\n",
      "0.7349726775956285\n",
      "\n",
      "The confusion matrix for the validation data is:\n",
      "[[1211   99   52]\n",
      " [ 228  187   45]\n",
      " [ 108   50  216]]\n",
      "\n",
      "The classification report for the validation data is:\n",
      "              precision    recall  f1-score   support\n",
      "\n",
      "    negative      0.783     0.889     0.833      1362\n",
      "     neutral      0.557     0.407     0.470       460\n",
      "    positive      0.690     0.578     0.629       374\n",
      "\n",
      "    accuracy                          0.735      2196\n",
      "   macro avg      0.676     0.624     0.644      2196\n",
      "weighted avg      0.720     0.735     0.722      2196\n",
      "\n"
     ]
    },
    {
     "name": "stderr",
     "output_type": "stream",
     "text": [
      "/Users/andrewgrant/opt/anaconda3/lib/python3.7/site-packages/sklearn/neural_network/multilayer_perceptron.py:566: ConvergenceWarning: Stochastic Optimizer: Maximum iterations (200) reached and the optimization hasn't converged yet.\n",
      "  % self.max_iter, ConvergenceWarning)\n"
     ]
    }
   ],
   "source": [
    "# run a basic neural network classifier\n",
    "\n",
    "nn_classifier_svd = train_score_classifier(sklearn_classifier=clf_nn,\n",
    "                                          X_train=X_train_svd, \n",
    "                                          y_train=y_train_svd, \n",
    "                                          X_val=X_val_svd, \n",
    "                                          y_val=y_val_svd, \n",
    "                                          model_parameters={'random_state':42})"
   ]
  },
  {
   "cell_type": "code",
   "execution_count": 37,
   "metadata": {},
   "outputs": [
    {
     "name": "stderr",
     "output_type": "stream",
     "text": [
      "/Users/andrewgrant/opt/anaconda3/lib/python3.7/site-packages/sklearn/model_selection/_split.py:1978: FutureWarning: The default value of cv will change from 3 to 5 in version 0.22. Specify it explicitly to silence this warning.\n",
      "  warnings.warn(CV_WARNING, FutureWarning)\n",
      "/Users/andrewgrant/opt/anaconda3/lib/python3.7/site-packages/sklearn/neural_network/multilayer_perceptron.py:566: ConvergenceWarning: Stochastic Optimizer: Maximum iterations (200) reached and the optimization hasn't converged yet.\n",
      "  % self.max_iter, ConvergenceWarning)\n",
      "/Users/andrewgrant/opt/anaconda3/lib/python3.7/site-packages/sklearn/neural_network/multilayer_perceptron.py:566: ConvergenceWarning: Stochastic Optimizer: Maximum iterations (200) reached and the optimization hasn't converged yet.\n",
      "  % self.max_iter, ConvergenceWarning)\n",
      "/Users/andrewgrant/opt/anaconda3/lib/python3.7/site-packages/sklearn/neural_network/multilayer_perceptron.py:566: ConvergenceWarning: Stochastic Optimizer: Maximum iterations (200) reached and the optimization hasn't converged yet.\n",
      "  % self.max_iter, ConvergenceWarning)\n",
      "/Users/andrewgrant/opt/anaconda3/lib/python3.7/site-packages/sklearn/neural_network/multilayer_perceptron.py:566: ConvergenceWarning: Stochastic Optimizer: Maximum iterations (200) reached and the optimization hasn't converged yet.\n",
      "  % self.max_iter, ConvergenceWarning)\n",
      "/Users/andrewgrant/opt/anaconda3/lib/python3.7/site-packages/sklearn/neural_network/multilayer_perceptron.py:566: ConvergenceWarning: Stochastic Optimizer: Maximum iterations (200) reached and the optimization hasn't converged yet.\n",
      "  % self.max_iter, ConvergenceWarning)\n",
      "/Users/andrewgrant/opt/anaconda3/lib/python3.7/site-packages/sklearn/neural_network/multilayer_perceptron.py:566: ConvergenceWarning: Stochastic Optimizer: Maximum iterations (200) reached and the optimization hasn't converged yet.\n",
      "  % self.max_iter, ConvergenceWarning)\n",
      "/Users/andrewgrant/opt/anaconda3/lib/python3.7/site-packages/sklearn/neural_network/multilayer_perceptron.py:566: ConvergenceWarning: Stochastic Optimizer: Maximum iterations (200) reached and the optimization hasn't converged yet.\n",
      "  % self.max_iter, ConvergenceWarning)\n",
      "/Users/andrewgrant/opt/anaconda3/lib/python3.7/site-packages/sklearn/neural_network/multilayer_perceptron.py:566: ConvergenceWarning: Stochastic Optimizer: Maximum iterations (200) reached and the optimization hasn't converged yet.\n",
      "  % self.max_iter, ConvergenceWarning)\n",
      "/Users/andrewgrant/opt/anaconda3/lib/python3.7/site-packages/sklearn/neural_network/multilayer_perceptron.py:566: ConvergenceWarning: Stochastic Optimizer: Maximum iterations (200) reached and the optimization hasn't converged yet.\n",
      "  % self.max_iter, ConvergenceWarning)\n",
      "/Users/andrewgrant/opt/anaconda3/lib/python3.7/site-packages/sklearn/neural_network/multilayer_perceptron.py:566: ConvergenceWarning: Stochastic Optimizer: Maximum iterations (200) reached and the optimization hasn't converged yet.\n",
      "  % self.max_iter, ConvergenceWarning)\n",
      "/Users/andrewgrant/opt/anaconda3/lib/python3.7/site-packages/sklearn/neural_network/multilayer_perceptron.py:566: ConvergenceWarning: Stochastic Optimizer: Maximum iterations (200) reached and the optimization hasn't converged yet.\n",
      "  % self.max_iter, ConvergenceWarning)\n",
      "/Users/andrewgrant/opt/anaconda3/lib/python3.7/site-packages/sklearn/neural_network/multilayer_perceptron.py:566: ConvergenceWarning: Stochastic Optimizer: Maximum iterations (200) reached and the optimization hasn't converged yet.\n",
      "  % self.max_iter, ConvergenceWarning)\n",
      "/Users/andrewgrant/opt/anaconda3/lib/python3.7/site-packages/sklearn/neural_network/multilayer_perceptron.py:566: ConvergenceWarning: Stochastic Optimizer: Maximum iterations (200) reached and the optimization hasn't converged yet.\n",
      "  % self.max_iter, ConvergenceWarning)\n",
      "/Users/andrewgrant/opt/anaconda3/lib/python3.7/site-packages/sklearn/neural_network/multilayer_perceptron.py:568: UserWarning: Training interrupted by user.\n",
      "  warnings.warn(\"Training interrupted by user.\")\n",
      "/Users/andrewgrant/opt/anaconda3/lib/python3.7/site-packages/sklearn/neural_network/multilayer_perceptron.py:566: ConvergenceWarning: Stochastic Optimizer: Maximum iterations (200) reached and the optimization hasn't converged yet.\n",
      "  % self.max_iter, ConvergenceWarning)\n",
      "/Users/andrewgrant/opt/anaconda3/lib/python3.7/site-packages/sklearn/neural_network/multilayer_perceptron.py:566: ConvergenceWarning: Stochastic Optimizer: Maximum iterations (200) reached and the optimization hasn't converged yet.\n",
      "  % self.max_iter, ConvergenceWarning)\n",
      "/Users/andrewgrant/opt/anaconda3/lib/python3.7/site-packages/sklearn/neural_network/multilayer_perceptron.py:566: ConvergenceWarning: Stochastic Optimizer: Maximum iterations (200) reached and the optimization hasn't converged yet.\n",
      "  % self.max_iter, ConvergenceWarning)\n",
      "/Users/andrewgrant/opt/anaconda3/lib/python3.7/site-packages/sklearn/neural_network/multilayer_perceptron.py:566: ConvergenceWarning: Stochastic Optimizer: Maximum iterations (200) reached and the optimization hasn't converged yet.\n",
      "  % self.max_iter, ConvergenceWarning)\n",
      "/Users/andrewgrant/opt/anaconda3/lib/python3.7/site-packages/sklearn/neural_network/multilayer_perceptron.py:566: ConvergenceWarning: Stochastic Optimizer: Maximum iterations (200) reached and the optimization hasn't converged yet.\n",
      "  % self.max_iter, ConvergenceWarning)\n",
      "/Users/andrewgrant/opt/anaconda3/lib/python3.7/site-packages/sklearn/neural_network/multilayer_perceptron.py:566: ConvergenceWarning: Stochastic Optimizer: Maximum iterations (200) reached and the optimization hasn't converged yet.\n",
      "  % self.max_iter, ConvergenceWarning)\n",
      "/Users/andrewgrant/opt/anaconda3/lib/python3.7/site-packages/sklearn/neural_network/multilayer_perceptron.py:566: ConvergenceWarning: Stochastic Optimizer: Maximum iterations (200) reached and the optimization hasn't converged yet.\n",
      "  % self.max_iter, ConvergenceWarning)\n"
     ]
    },
    {
     "data": {
      "text/plain": [
       "GridSearchCV(cv='warn', error_score='raise-deprecating',\n",
       "             estimator=MLPClassifier(activation='relu', alpha=0.0001,\n",
       "                                     batch_size='auto', beta_1=0.9,\n",
       "                                     beta_2=0.999, early_stopping=False,\n",
       "                                     epsilon=1e-08, hidden_layer_sizes=(100,),\n",
       "                                     learning_rate='constant',\n",
       "                                     learning_rate_init=0.001, max_iter=200,\n",
       "                                     momentum=0.9, n_iter_no_change=10,\n",
       "                                     nesterovs_momentum=True, power_t=0.5,\n",
       "                                     rando..., shuffle=True,\n",
       "                                     solver='adam', tol=0.0001,\n",
       "                                     validation_fraction=0.1, verbose=False,\n",
       "                                     warm_start=False),\n",
       "             iid='warn', n_jobs=None,\n",
       "             param_grid={'activation': ['identity', 'logistic', 'tanh', 'relu'],\n",
       "                         'learning_rate': ['constant', 'invscaling',\n",
       "                                           'adaptive'],\n",
       "                         'solver': ['lbfgs', 'sgd', 'adam']},\n",
       "             pre_dispatch='2*n_jobs', refit=True, return_train_score=False,\n",
       "             scoring=None, verbose=0)"
      ]
     },
     "execution_count": 37,
     "metadata": {},
     "output_type": "execute_result"
    }
   ],
   "source": [
    "# assign paramater values for grid search\n",
    "\n",
    "parameters_nn = {'activation':['identity', 'logistic', 'tanh', 'relu'],\n",
    "                 'solver':['lbfgs', 'sgd', 'adam'],\n",
    "                 'learning_rate':['constant', 'invscaling', 'adaptive']}\n",
    "\n",
    "\n",
    "\n",
    "# assign neural network classifier to nn\n",
    "\n",
    "nn = MLPClassifier(random_state=42)\n",
    "\n",
    "# Initialize GridSearch and fit to training parameters\n",
    "\n",
    "gsc3_svd = GridSearchCV(nn, parameters_nn)\n",
    "gsc3_svd.fit(X_train_svd,y_train_svd)"
   ]
  },
  {
   "cell_type": "code",
   "execution_count": 38,
   "metadata": {},
   "outputs": [
    {
     "data": {
      "text/plain": [
       "{'activation': 'identity',\n",
       " 'alpha': 0.0001,\n",
       " 'batch_size': 'auto',\n",
       " 'beta_1': 0.9,\n",
       " 'beta_2': 0.999,\n",
       " 'early_stopping': False,\n",
       " 'epsilon': 1e-08,\n",
       " 'hidden_layer_sizes': (100,),\n",
       " 'learning_rate': 'constant',\n",
       " 'learning_rate_init': 0.001,\n",
       " 'max_iter': 200,\n",
       " 'momentum': 0.9,\n",
       " 'n_iter_no_change': 10,\n",
       " 'nesterovs_momentum': True,\n",
       " 'power_t': 0.5,\n",
       " 'random_state': 42,\n",
       " 'shuffle': True,\n",
       " 'solver': 'lbfgs',\n",
       " 'tol': 0.0001,\n",
       " 'validation_fraction': 0.1,\n",
       " 'verbose': False,\n",
       " 'warm_start': False}"
      ]
     },
     "execution_count": 38,
     "metadata": {},
     "output_type": "execute_result"
    }
   ],
   "source": [
    "# Get the optimal hyperparameters from the grid search\n",
    "\n",
    "gsc3_svd.best_estimator_.get_params() \n"
   ]
  },
  {
   "cell_type": "code",
   "execution_count": 39,
   "metadata": {},
   "outputs": [
    {
     "name": "stdout",
     "output_type": "stream",
     "text": [
      "\n",
      "The accuracy for the training data is:\n",
      "0.7489754098360656\n",
      "\n",
      "The accuracy for the validation data is:\n",
      "0.7290528233151184\n",
      "\n",
      "The confusion matrix for the validation data is:\n",
      "[[1201  110   51]\n",
      " [ 225  194   41]\n",
      " [ 116   52  206]]\n",
      "\n",
      "The classification report for the validation data is:\n",
      "              precision    recall  f1-score   support\n",
      "\n",
      "    negative      0.779     0.882     0.827      1362\n",
      "     neutral      0.545     0.422     0.475       460\n",
      "    positive      0.691     0.551     0.613       374\n",
      "\n",
      "    accuracy                          0.729      2196\n",
      "   macro avg      0.672     0.618     0.639      2196\n",
      "weighted avg      0.715     0.729     0.717      2196\n",
      "\n"
     ]
    }
   ],
   "source": [
    "# Run the neural network classifier with the optomized hyperparameters\n",
    "\n",
    "nn_classifier_gs_svd = train_score_classifier(sklearn_classifier=clf_nn,\n",
    "                                          X_train=X_train_svd, \n",
    "                                          y_train=y_train_svd, \n",
    "                                          X_val=X_val_svd, \n",
    "                                          y_val=y_val_svd, \n",
    "                                          model_parameters=gsc3_svd.best_estimator_.get_params())"
   ]
  },
  {
   "cell_type": "markdown",
   "metadata": {},
   "source": [
    "## Neural Network - No Dimension Reduction - Binary Response Variable"
   ]
  },
  {
   "cell_type": "code",
   "execution_count": 60,
   "metadata": {},
   "outputs": [
    {
     "name": "stdout",
     "output_type": "stream",
     "text": [
      "\n",
      "The accuracy for the training data is:\n",
      "0.9964708561020036\n",
      "\n",
      "The accuracy for the validation data is:\n",
      "0.7882513661202186\n",
      "\n",
      "The confusion matrix for the validation data is:\n",
      "[[1138  224]\n",
      " [ 241  593]]\n",
      "\n",
      "The classification report for the validation data is:\n",
      "              precision    recall  f1-score   support\n",
      "\n",
      "    negative      0.825     0.836     0.830      1362\n",
      "not negative      0.726     0.711     0.718       834\n",
      "\n",
      "    accuracy                          0.788      2196\n",
      "   macro avg      0.776     0.773     0.774      2196\n",
      "weighted avg      0.787     0.788     0.788      2196\n",
      "\n"
     ]
    }
   ],
   "source": [
    "from sklearn.neural_network import MLPClassifier\n",
    "\n",
    "\n",
    "clf_nn = MLPClassifier\n",
    "\n",
    "# run a basic neural network classifier\n",
    "\n",
    "nn_classifier_bin = train_score_classifier(sklearn_classifier=clf_nn,\n",
    "                                          X_train=X_train_bin, \n",
    "                                          y_train=y_train_bin, \n",
    "                                          X_val=X_val_bin, \n",
    "                                          y_val=y_val_bin, \n",
    "                                          model_parameters={'random_state':42})"
   ]
  },
  {
   "cell_type": "code",
   "execution_count": 61,
   "metadata": {},
   "outputs": [
    {
     "name": "stderr",
     "output_type": "stream",
     "text": [
      "/Users/andrewgrant/opt/anaconda3/lib/python3.7/site-packages/sklearn/model_selection/_split.py:1978: FutureWarning: The default value of cv will change from 3 to 5 in version 0.22. Specify it explicitly to silence this warning.\n",
      "  warnings.warn(CV_WARNING, FutureWarning)\n",
      "/Users/andrewgrant/opt/anaconda3/lib/python3.7/site-packages/sklearn/neural_network/multilayer_perceptron.py:566: ConvergenceWarning: Stochastic Optimizer: Maximum iterations (200) reached and the optimization hasn't converged yet.\n",
      "  % self.max_iter, ConvergenceWarning)\n",
      "/Users/andrewgrant/opt/anaconda3/lib/python3.7/site-packages/sklearn/neural_network/multilayer_perceptron.py:566: ConvergenceWarning: Stochastic Optimizer: Maximum iterations (200) reached and the optimization hasn't converged yet.\n",
      "  % self.max_iter, ConvergenceWarning)\n",
      "/Users/andrewgrant/opt/anaconda3/lib/python3.7/site-packages/sklearn/neural_network/multilayer_perceptron.py:566: ConvergenceWarning: Stochastic Optimizer: Maximum iterations (200) reached and the optimization hasn't converged yet.\n",
      "  % self.max_iter, ConvergenceWarning)\n",
      "/Users/andrewgrant/opt/anaconda3/lib/python3.7/site-packages/sklearn/neural_network/multilayer_perceptron.py:566: ConvergenceWarning: Stochastic Optimizer: Maximum iterations (200) reached and the optimization hasn't converged yet.\n",
      "  % self.max_iter, ConvergenceWarning)\n",
      "/Users/andrewgrant/opt/anaconda3/lib/python3.7/site-packages/sklearn/neural_network/multilayer_perceptron.py:566: ConvergenceWarning: Stochastic Optimizer: Maximum iterations (200) reached and the optimization hasn't converged yet.\n",
      "  % self.max_iter, ConvergenceWarning)\n",
      "/Users/andrewgrant/opt/anaconda3/lib/python3.7/site-packages/sklearn/neural_network/multilayer_perceptron.py:566: ConvergenceWarning: Stochastic Optimizer: Maximum iterations (200) reached and the optimization hasn't converged yet.\n",
      "  % self.max_iter, ConvergenceWarning)\n",
      "/Users/andrewgrant/opt/anaconda3/lib/python3.7/site-packages/sklearn/neural_network/multilayer_perceptron.py:566: ConvergenceWarning: Stochastic Optimizer: Maximum iterations (200) reached and the optimization hasn't converged yet.\n",
      "  % self.max_iter, ConvergenceWarning)\n",
      "/Users/andrewgrant/opt/anaconda3/lib/python3.7/site-packages/sklearn/neural_network/multilayer_perceptron.py:566: ConvergenceWarning: Stochastic Optimizer: Maximum iterations (200) reached and the optimization hasn't converged yet.\n",
      "  % self.max_iter, ConvergenceWarning)\n",
      "/Users/andrewgrant/opt/anaconda3/lib/python3.7/site-packages/sklearn/neural_network/multilayer_perceptron.py:566: ConvergenceWarning: Stochastic Optimizer: Maximum iterations (200) reached and the optimization hasn't converged yet.\n",
      "  % self.max_iter, ConvergenceWarning)\n",
      "/Users/andrewgrant/opt/anaconda3/lib/python3.7/site-packages/sklearn/neural_network/multilayer_perceptron.py:566: ConvergenceWarning: Stochastic Optimizer: Maximum iterations (200) reached and the optimization hasn't converged yet.\n",
      "  % self.max_iter, ConvergenceWarning)\n",
      "/Users/andrewgrant/opt/anaconda3/lib/python3.7/site-packages/sklearn/neural_network/multilayer_perceptron.py:566: ConvergenceWarning: Stochastic Optimizer: Maximum iterations (200) reached and the optimization hasn't converged yet.\n",
      "  % self.max_iter, ConvergenceWarning)\n",
      "/Users/andrewgrant/opt/anaconda3/lib/python3.7/site-packages/sklearn/neural_network/multilayer_perceptron.py:566: ConvergenceWarning: Stochastic Optimizer: Maximum iterations (200) reached and the optimization hasn't converged yet.\n",
      "  % self.max_iter, ConvergenceWarning)\n",
      "/Users/andrewgrant/opt/anaconda3/lib/python3.7/site-packages/sklearn/neural_network/multilayer_perceptron.py:566: ConvergenceWarning: Stochastic Optimizer: Maximum iterations (200) reached and the optimization hasn't converged yet.\n",
      "  % self.max_iter, ConvergenceWarning)\n",
      "/Users/andrewgrant/opt/anaconda3/lib/python3.7/site-packages/sklearn/neural_network/multilayer_perceptron.py:566: ConvergenceWarning: Stochastic Optimizer: Maximum iterations (200) reached and the optimization hasn't converged yet.\n",
      "  % self.max_iter, ConvergenceWarning)\n",
      "/Users/andrewgrant/opt/anaconda3/lib/python3.7/site-packages/sklearn/neural_network/multilayer_perceptron.py:566: ConvergenceWarning: Stochastic Optimizer: Maximum iterations (200) reached and the optimization hasn't converged yet.\n",
      "  % self.max_iter, ConvergenceWarning)\n",
      "/Users/andrewgrant/opt/anaconda3/lib/python3.7/site-packages/sklearn/neural_network/multilayer_perceptron.py:566: ConvergenceWarning: Stochastic Optimizer: Maximum iterations (200) reached and the optimization hasn't converged yet.\n",
      "  % self.max_iter, ConvergenceWarning)\n",
      "/Users/andrewgrant/opt/anaconda3/lib/python3.7/site-packages/sklearn/neural_network/multilayer_perceptron.py:566: ConvergenceWarning: Stochastic Optimizer: Maximum iterations (200) reached and the optimization hasn't converged yet.\n",
      "  % self.max_iter, ConvergenceWarning)\n",
      "/Users/andrewgrant/opt/anaconda3/lib/python3.7/site-packages/sklearn/neural_network/multilayer_perceptron.py:566: ConvergenceWarning: Stochastic Optimizer: Maximum iterations (200) reached and the optimization hasn't converged yet.\n",
      "  % self.max_iter, ConvergenceWarning)\n",
      "/Users/andrewgrant/opt/anaconda3/lib/python3.7/site-packages/sklearn/neural_network/multilayer_perceptron.py:566: ConvergenceWarning: Stochastic Optimizer: Maximum iterations (200) reached and the optimization hasn't converged yet.\n",
      "  % self.max_iter, ConvergenceWarning)\n",
      "/Users/andrewgrant/opt/anaconda3/lib/python3.7/site-packages/sklearn/neural_network/multilayer_perceptron.py:566: ConvergenceWarning: Stochastic Optimizer: Maximum iterations (200) reached and the optimization hasn't converged yet.\n",
      "  % self.max_iter, ConvergenceWarning)\n",
      "/Users/andrewgrant/opt/anaconda3/lib/python3.7/site-packages/sklearn/neural_network/multilayer_perceptron.py:566: ConvergenceWarning: Stochastic Optimizer: Maximum iterations (200) reached and the optimization hasn't converged yet.\n",
      "  % self.max_iter, ConvergenceWarning)\n",
      "/Users/andrewgrant/opt/anaconda3/lib/python3.7/site-packages/sklearn/neural_network/multilayer_perceptron.py:566: ConvergenceWarning: Stochastic Optimizer: Maximum iterations (200) reached and the optimization hasn't converged yet.\n",
      "  % self.max_iter, ConvergenceWarning)\n",
      "/Users/andrewgrant/opt/anaconda3/lib/python3.7/site-packages/sklearn/neural_network/multilayer_perceptron.py:566: ConvergenceWarning: Stochastic Optimizer: Maximum iterations (200) reached and the optimization hasn't converged yet.\n",
      "  % self.max_iter, ConvergenceWarning)\n",
      "/Users/andrewgrant/opt/anaconda3/lib/python3.7/site-packages/sklearn/neural_network/multilayer_perceptron.py:566: ConvergenceWarning: Stochastic Optimizer: Maximum iterations (200) reached and the optimization hasn't converged yet.\n",
      "  % self.max_iter, ConvergenceWarning)\n",
      "/Users/andrewgrant/opt/anaconda3/lib/python3.7/site-packages/sklearn/neural_network/multilayer_perceptron.py:566: ConvergenceWarning: Stochastic Optimizer: Maximum iterations (200) reached and the optimization hasn't converged yet.\n",
      "  % self.max_iter, ConvergenceWarning)\n",
      "/Users/andrewgrant/opt/anaconda3/lib/python3.7/site-packages/sklearn/neural_network/multilayer_perceptron.py:566: ConvergenceWarning: Stochastic Optimizer: Maximum iterations (200) reached and the optimization hasn't converged yet.\n",
      "  % self.max_iter, ConvergenceWarning)\n",
      "/Users/andrewgrant/opt/anaconda3/lib/python3.7/site-packages/sklearn/neural_network/multilayer_perceptron.py:566: ConvergenceWarning: Stochastic Optimizer: Maximum iterations (200) reached and the optimization hasn't converged yet.\n",
      "  % self.max_iter, ConvergenceWarning)\n",
      "/Users/andrewgrant/opt/anaconda3/lib/python3.7/site-packages/sklearn/neural_network/multilayer_perceptron.py:566: ConvergenceWarning: Stochastic Optimizer: Maximum iterations (200) reached and the optimization hasn't converged yet.\n",
      "  % self.max_iter, ConvergenceWarning)\n",
      "/Users/andrewgrant/opt/anaconda3/lib/python3.7/site-packages/sklearn/neural_network/multilayer_perceptron.py:566: ConvergenceWarning: Stochastic Optimizer: Maximum iterations (200) reached and the optimization hasn't converged yet.\n",
      "  % self.max_iter, ConvergenceWarning)\n",
      "/Users/andrewgrant/opt/anaconda3/lib/python3.7/site-packages/sklearn/neural_network/multilayer_perceptron.py:566: ConvergenceWarning: Stochastic Optimizer: Maximum iterations (200) reached and the optimization hasn't converged yet.\n",
      "  % self.max_iter, ConvergenceWarning)\n"
     ]
    },
    {
     "name": "stderr",
     "output_type": "stream",
     "text": [
      "/Users/andrewgrant/opt/anaconda3/lib/python3.7/site-packages/sklearn/neural_network/multilayer_perceptron.py:566: ConvergenceWarning: Stochastic Optimizer: Maximum iterations (200) reached and the optimization hasn't converged yet.\n",
      "  % self.max_iter, ConvergenceWarning)\n",
      "/Users/andrewgrant/opt/anaconda3/lib/python3.7/site-packages/sklearn/neural_network/multilayer_perceptron.py:566: ConvergenceWarning: Stochastic Optimizer: Maximum iterations (200) reached and the optimization hasn't converged yet.\n",
      "  % self.max_iter, ConvergenceWarning)\n",
      "/Users/andrewgrant/opt/anaconda3/lib/python3.7/site-packages/sklearn/neural_network/multilayer_perceptron.py:566: ConvergenceWarning: Stochastic Optimizer: Maximum iterations (200) reached and the optimization hasn't converged yet.\n",
      "  % self.max_iter, ConvergenceWarning)\n",
      "/Users/andrewgrant/opt/anaconda3/lib/python3.7/site-packages/sklearn/neural_network/multilayer_perceptron.py:566: ConvergenceWarning: Stochastic Optimizer: Maximum iterations (200) reached and the optimization hasn't converged yet.\n",
      "  % self.max_iter, ConvergenceWarning)\n"
     ]
    },
    {
     "data": {
      "text/plain": [
       "GridSearchCV(cv='warn', error_score='raise-deprecating',\n",
       "             estimator=MLPClassifier(activation='relu', alpha=0.0001,\n",
       "                                     batch_size='auto', beta_1=0.9,\n",
       "                                     beta_2=0.999, early_stopping=False,\n",
       "                                     epsilon=1e-08, hidden_layer_sizes=(100,),\n",
       "                                     learning_rate='constant',\n",
       "                                     learning_rate_init=0.001, max_iter=200,\n",
       "                                     momentum=0.9, n_iter_no_change=10,\n",
       "                                     nesterovs_momentum=True, power_t=0.5,\n",
       "                                     rando..., shuffle=True,\n",
       "                                     solver='adam', tol=0.0001,\n",
       "                                     validation_fraction=0.1, verbose=False,\n",
       "                                     warm_start=False),\n",
       "             iid='warn', n_jobs=None,\n",
       "             param_grid={'activation': ['identity', 'logistic', 'tanh', 'relu'],\n",
       "                         'learning_rate': ['constant', 'invscaling',\n",
       "                                           'adaptive'],\n",
       "                         'solver': ['lbfgs', 'sgd', 'adam']},\n",
       "             pre_dispatch='2*n_jobs', refit=True, return_train_score=False,\n",
       "             scoring=None, verbose=0)"
      ]
     },
     "execution_count": 61,
     "metadata": {},
     "output_type": "execute_result"
    }
   ],
   "source": [
    "\n",
    "# assign paramater values for grid search\n",
    "\n",
    "parameters_nn = {'activation':['identity', 'logistic', 'tanh', 'relu'],\n",
    "                 'solver':['lbfgs', 'sgd', 'adam'],\n",
    "                 'learning_rate':['constant', 'invscaling', 'adaptive']}\n",
    "\n",
    "\n",
    "\n",
    "# assign neural network classifier to nn\n",
    "\n",
    "nn = MLPClassifier(random_state=42)\n",
    "\n",
    "# Initialize GridSearch and fit to training parameters\n",
    "\n",
    "gsc3_bin = GridSearchCV(nn, parameters_nn)\n",
    "gsc3_bin.fit(X_train_bin,y_train_bin)"
   ]
  },
  {
   "cell_type": "code",
   "execution_count": 62,
   "metadata": {},
   "outputs": [
    {
     "data": {
      "text/plain": [
       "{'activation': 'identity',\n",
       " 'alpha': 0.0001,\n",
       " 'batch_size': 'auto',\n",
       " 'beta_1': 0.9,\n",
       " 'beta_2': 0.999,\n",
       " 'early_stopping': False,\n",
       " 'epsilon': 1e-08,\n",
       " 'hidden_layer_sizes': (100,),\n",
       " 'learning_rate': 'constant',\n",
       " 'learning_rate_init': 0.001,\n",
       " 'max_iter': 200,\n",
       " 'momentum': 0.9,\n",
       " 'n_iter_no_change': 10,\n",
       " 'nesterovs_momentum': True,\n",
       " 'power_t': 0.5,\n",
       " 'random_state': 42,\n",
       " 'shuffle': True,\n",
       " 'solver': 'sgd',\n",
       " 'tol': 0.0001,\n",
       " 'validation_fraction': 0.1,\n",
       " 'verbose': False,\n",
       " 'warm_start': False}"
      ]
     },
     "execution_count": 62,
     "metadata": {},
     "output_type": "execute_result"
    }
   ],
   "source": [
    "# Get the optimal hyperparameters from the grid search\n",
    "\n",
    "gsc3_bin.best_estimator_.get_params() "
   ]
  },
  {
   "cell_type": "code",
   "execution_count": 63,
   "metadata": {},
   "outputs": [
    {
     "name": "stdout",
     "output_type": "stream",
     "text": [
      "\n",
      "The accuracy for the training data is:\n",
      "0.8542805100182149\n",
      "\n",
      "The accuracy for the validation data is:\n",
      "0.8219489981785064\n",
      "\n",
      "The confusion matrix for the validation data is:\n",
      "[[1183  179]\n",
      " [ 212  622]]\n",
      "\n",
      "The classification report for the validation data is:\n",
      "              precision    recall  f1-score   support\n",
      "\n",
      "    negative      0.848     0.869     0.858      1362\n",
      "not negative      0.777     0.746     0.761       834\n",
      "\n",
      "    accuracy                          0.822      2196\n",
      "   macro avg      0.812     0.807     0.810      2196\n",
      "weighted avg      0.821     0.822     0.821      2196\n",
      "\n"
     ]
    },
    {
     "name": "stderr",
     "output_type": "stream",
     "text": [
      "/Users/andrewgrant/opt/anaconda3/lib/python3.7/site-packages/sklearn/neural_network/multilayer_perceptron.py:566: ConvergenceWarning: Stochastic Optimizer: Maximum iterations (200) reached and the optimization hasn't converged yet.\n",
      "  % self.max_iter, ConvergenceWarning)\n"
     ]
    }
   ],
   "source": [
    "\n",
    "# Run the neural network classifier with the optomized hyperparameters\n",
    "\n",
    "nn_classifier_gs_bin = train_score_classifier(sklearn_classifier=clf_nn,\n",
    "                                          X_train=X_train_bin, \n",
    "                                          y_train=y_train_bin, \n",
    "                                          X_val=X_val_bin, \n",
    "                                          y_val=y_val_bin, \n",
    "                                          model_parameters=gsc3_bin.best_estimator_.get_params())"
   ]
  },
  {
   "cell_type": "markdown",
   "metadata": {},
   "source": [
    "## Neural Network - SVD Dimension Reduction - Binary Response Variable"
   ]
  },
  {
   "cell_type": "code",
   "execution_count": 64,
   "metadata": {},
   "outputs": [
    {
     "name": "stdout",
     "output_type": "stream",
     "text": [
      "\n",
      "The accuracy for the training data is:\n",
      "0.7987249544626593\n",
      "\n",
      "The accuracy for the validation data is:\n",
      "0.7900728597449909\n",
      "\n",
      "The confusion matrix for the validation data is:\n",
      "[[1171  191]\n",
      " [ 270  564]]\n",
      "\n",
      "The classification report for the validation data is:\n",
      "              precision    recall  f1-score   support\n",
      "\n",
      "    negative      0.813     0.860     0.836      1362\n",
      "not negative      0.747     0.676     0.710       834\n",
      "\n",
      "    accuracy                          0.790      2196\n",
      "   macro avg      0.780     0.768     0.773      2196\n",
      "weighted avg      0.788     0.790     0.788      2196\n",
      "\n"
     ]
    },
    {
     "name": "stderr",
     "output_type": "stream",
     "text": [
      "/Users/andrewgrant/opt/anaconda3/lib/python3.7/site-packages/sklearn/neural_network/multilayer_perceptron.py:566: ConvergenceWarning: Stochastic Optimizer: Maximum iterations (200) reached and the optimization hasn't converged yet.\n",
      "  % self.max_iter, ConvergenceWarning)\n"
     ]
    }
   ],
   "source": [
    "# run a basic neural network classifier\n",
    "\n",
    "nn_classifier_svd_bin = train_score_classifier(sklearn_classifier=clf_nn,\n",
    "                                          X_train=X_train_svd_bin, \n",
    "                                          y_train=y_train_svd_bin, \n",
    "                                          X_val=X_val_svd_bin, \n",
    "                                          y_val=y_val_svd_bin, \n",
    "                                          model_parameters={'random_state':42})"
   ]
  },
  {
   "cell_type": "code",
   "execution_count": 65,
   "metadata": {},
   "outputs": [
    {
     "name": "stderr",
     "output_type": "stream",
     "text": [
      "/Users/andrewgrant/opt/anaconda3/lib/python3.7/site-packages/sklearn/model_selection/_split.py:1978: FutureWarning: The default value of cv will change from 3 to 5 in version 0.22. Specify it explicitly to silence this warning.\n",
      "  warnings.warn(CV_WARNING, FutureWarning)\n",
      "/Users/andrewgrant/opt/anaconda3/lib/python3.7/site-packages/sklearn/neural_network/multilayer_perceptron.py:566: ConvergenceWarning: Stochastic Optimizer: Maximum iterations (200) reached and the optimization hasn't converged yet.\n",
      "  % self.max_iter, ConvergenceWarning)\n",
      "/Users/andrewgrant/opt/anaconda3/lib/python3.7/site-packages/sklearn/neural_network/multilayer_perceptron.py:566: ConvergenceWarning: Stochastic Optimizer: Maximum iterations (200) reached and the optimization hasn't converged yet.\n",
      "  % self.max_iter, ConvergenceWarning)\n",
      "/Users/andrewgrant/opt/anaconda3/lib/python3.7/site-packages/sklearn/neural_network/multilayer_perceptron.py:566: ConvergenceWarning: Stochastic Optimizer: Maximum iterations (200) reached and the optimization hasn't converged yet.\n",
      "  % self.max_iter, ConvergenceWarning)\n",
      "/Users/andrewgrant/opt/anaconda3/lib/python3.7/site-packages/sklearn/neural_network/multilayer_perceptron.py:566: ConvergenceWarning: Stochastic Optimizer: Maximum iterations (200) reached and the optimization hasn't converged yet.\n",
      "  % self.max_iter, ConvergenceWarning)\n",
      "/Users/andrewgrant/opt/anaconda3/lib/python3.7/site-packages/sklearn/neural_network/multilayer_perceptron.py:566: ConvergenceWarning: Stochastic Optimizer: Maximum iterations (200) reached and the optimization hasn't converged yet.\n",
      "  % self.max_iter, ConvergenceWarning)\n",
      "/Users/andrewgrant/opt/anaconda3/lib/python3.7/site-packages/sklearn/neural_network/multilayer_perceptron.py:566: ConvergenceWarning: Stochastic Optimizer: Maximum iterations (200) reached and the optimization hasn't converged yet.\n",
      "  % self.max_iter, ConvergenceWarning)\n",
      "/Users/andrewgrant/opt/anaconda3/lib/python3.7/site-packages/sklearn/neural_network/multilayer_perceptron.py:566: ConvergenceWarning: Stochastic Optimizer: Maximum iterations (200) reached and the optimization hasn't converged yet.\n",
      "  % self.max_iter, ConvergenceWarning)\n",
      "/Users/andrewgrant/opt/anaconda3/lib/python3.7/site-packages/sklearn/neural_network/multilayer_perceptron.py:566: ConvergenceWarning: Stochastic Optimizer: Maximum iterations (200) reached and the optimization hasn't converged yet.\n",
      "  % self.max_iter, ConvergenceWarning)\n",
      "/Users/andrewgrant/opt/anaconda3/lib/python3.7/site-packages/sklearn/neural_network/multilayer_perceptron.py:566: ConvergenceWarning: Stochastic Optimizer: Maximum iterations (200) reached and the optimization hasn't converged yet.\n",
      "  % self.max_iter, ConvergenceWarning)\n",
      "/Users/andrewgrant/opt/anaconda3/lib/python3.7/site-packages/sklearn/neural_network/multilayer_perceptron.py:566: ConvergenceWarning: Stochastic Optimizer: Maximum iterations (200) reached and the optimization hasn't converged yet.\n",
      "  % self.max_iter, ConvergenceWarning)\n",
      "/Users/andrewgrant/opt/anaconda3/lib/python3.7/site-packages/sklearn/neural_network/multilayer_perceptron.py:566: ConvergenceWarning: Stochastic Optimizer: Maximum iterations (200) reached and the optimization hasn't converged yet.\n",
      "  % self.max_iter, ConvergenceWarning)\n",
      "/Users/andrewgrant/opt/anaconda3/lib/python3.7/site-packages/sklearn/neural_network/multilayer_perceptron.py:566: ConvergenceWarning: Stochastic Optimizer: Maximum iterations (200) reached and the optimization hasn't converged yet.\n",
      "  % self.max_iter, ConvergenceWarning)\n",
      "/Users/andrewgrant/opt/anaconda3/lib/python3.7/site-packages/sklearn/neural_network/multilayer_perceptron.py:566: ConvergenceWarning: Stochastic Optimizer: Maximum iterations (200) reached and the optimization hasn't converged yet.\n",
      "  % self.max_iter, ConvergenceWarning)\n",
      "/Users/andrewgrant/opt/anaconda3/lib/python3.7/site-packages/sklearn/neural_network/multilayer_perceptron.py:566: ConvergenceWarning: Stochastic Optimizer: Maximum iterations (200) reached and the optimization hasn't converged yet.\n",
      "  % self.max_iter, ConvergenceWarning)\n",
      "/Users/andrewgrant/opt/anaconda3/lib/python3.7/site-packages/sklearn/neural_network/multilayer_perceptron.py:566: ConvergenceWarning: Stochastic Optimizer: Maximum iterations (200) reached and the optimization hasn't converged yet.\n",
      "  % self.max_iter, ConvergenceWarning)\n",
      "/Users/andrewgrant/opt/anaconda3/lib/python3.7/site-packages/sklearn/neural_network/multilayer_perceptron.py:566: ConvergenceWarning: Stochastic Optimizer: Maximum iterations (200) reached and the optimization hasn't converged yet.\n",
      "  % self.max_iter, ConvergenceWarning)\n",
      "/Users/andrewgrant/opt/anaconda3/lib/python3.7/site-packages/sklearn/neural_network/multilayer_perceptron.py:566: ConvergenceWarning: Stochastic Optimizer: Maximum iterations (200) reached and the optimization hasn't converged yet.\n",
      "  % self.max_iter, ConvergenceWarning)\n",
      "/Users/andrewgrant/opt/anaconda3/lib/python3.7/site-packages/sklearn/neural_network/multilayer_perceptron.py:566: ConvergenceWarning: Stochastic Optimizer: Maximum iterations (200) reached and the optimization hasn't converged yet.\n",
      "  % self.max_iter, ConvergenceWarning)\n"
     ]
    },
    {
     "data": {
      "text/plain": [
       "GridSearchCV(cv='warn', error_score='raise-deprecating',\n",
       "             estimator=MLPClassifier(activation='relu', alpha=0.0001,\n",
       "                                     batch_size='auto', beta_1=0.9,\n",
       "                                     beta_2=0.999, early_stopping=False,\n",
       "                                     epsilon=1e-08, hidden_layer_sizes=(100,),\n",
       "                                     learning_rate='constant',\n",
       "                                     learning_rate_init=0.001, max_iter=200,\n",
       "                                     momentum=0.9, n_iter_no_change=10,\n",
       "                                     nesterovs_momentum=True, power_t=0.5,\n",
       "                                     rando..., shuffle=True,\n",
       "                                     solver='adam', tol=0.0001,\n",
       "                                     validation_fraction=0.1, verbose=False,\n",
       "                                     warm_start=False),\n",
       "             iid='warn', n_jobs=None,\n",
       "             param_grid={'activation': ['identity', 'logistic', 'tanh', 'relu'],\n",
       "                         'learning_rate': ['constant', 'invscaling',\n",
       "                                           'adaptive'],\n",
       "                         'solver': ['lbfgs', 'sgd', 'adam']},\n",
       "             pre_dispatch='2*n_jobs', refit=True, return_train_score=False,\n",
       "             scoring=None, verbose=0)"
      ]
     },
     "execution_count": 65,
     "metadata": {},
     "output_type": "execute_result"
    }
   ],
   "source": [
    "# assign paramater values for grid search\n",
    "\n",
    "parameters_nn = {'activation':['identity', 'logistic', 'tanh', 'relu'],\n",
    "                 'solver':['lbfgs', 'sgd', 'adam'],\n",
    "                 'learning_rate':['constant', 'invscaling', 'adaptive']}\n",
    "\n",
    "\n",
    "\n",
    "# assign neural network classifier to nn\n",
    "\n",
    "nn = MLPClassifier(random_state=42)\n",
    "\n",
    "# Initialize GridSearch and fit to training parameters\n",
    "\n",
    "gsc3_svd_bin = GridSearchCV(nn, parameters_nn)\n",
    "gsc3_svd_bin.fit(X_train_svd_bin,y_train_svd_bin)"
   ]
  },
  {
   "cell_type": "code",
   "execution_count": 66,
   "metadata": {},
   "outputs": [
    {
     "data": {
      "text/plain": [
       "{'activation': 'identity',\n",
       " 'alpha': 0.0001,\n",
       " 'batch_size': 'auto',\n",
       " 'beta_1': 0.9,\n",
       " 'beta_2': 0.999,\n",
       " 'early_stopping': False,\n",
       " 'epsilon': 1e-08,\n",
       " 'hidden_layer_sizes': (100,),\n",
       " 'learning_rate': 'constant',\n",
       " 'learning_rate_init': 0.001,\n",
       " 'max_iter': 200,\n",
       " 'momentum': 0.9,\n",
       " 'n_iter_no_change': 10,\n",
       " 'nesterovs_momentum': True,\n",
       " 'power_t': 0.5,\n",
       " 'random_state': 42,\n",
       " 'shuffle': True,\n",
       " 'solver': 'lbfgs',\n",
       " 'tol': 0.0001,\n",
       " 'validation_fraction': 0.1,\n",
       " 'verbose': False,\n",
       " 'warm_start': False}"
      ]
     },
     "execution_count": 66,
     "metadata": {},
     "output_type": "execute_result"
    }
   ],
   "source": [
    "# Get the optimal hyperparameters from the grid search\n",
    "\n",
    "gsc3_svd_bin.best_estimator_.get_params() \n"
   ]
  },
  {
   "cell_type": "code",
   "execution_count": 67,
   "metadata": {},
   "outputs": [
    {
     "name": "stdout",
     "output_type": "stream",
     "text": [
      "\n",
      "The accuracy for the training data is:\n",
      "0.7652550091074681\n",
      "\n",
      "The accuracy for the validation data is:\n",
      "0.7627504553734062\n",
      "\n",
      "The confusion matrix for the validation data is:\n",
      "[[1072  290]\n",
      " [ 231  603]]\n",
      "\n",
      "The classification report for the validation data is:\n",
      "              precision    recall  f1-score   support\n",
      "\n",
      "    negative      0.823     0.787     0.805      1362\n",
      "not negative      0.675     0.723     0.698       834\n",
      "\n",
      "    accuracy                          0.763      2196\n",
      "   macro avg      0.749     0.755     0.751      2196\n",
      "weighted avg      0.767     0.763     0.764      2196\n",
      "\n"
     ]
    }
   ],
   "source": [
    "# Run the neural network classifier with the optomized hyperparameters\n",
    "\n",
    "nn_classifier_gs_svd_bin = train_score_classifier(sklearn_classifier=clf_nn,\n",
    "                                          X_train=X_train_svd_bin, \n",
    "                                          y_train=y_train_svd_bin, \n",
    "                                          X_val=X_val_svd_bin, \n",
    "                                          y_val=y_val_svd_bin, \n",
    "                                          model_parameters=gsc3_svd_bin.best_estimator_.get_params())"
   ]
  },
  {
   "cell_type": "markdown",
   "metadata": {},
   "source": [
    "## Ada Boost- No Dimension Reduction"
   ]
  },
  {
   "cell_type": "code",
   "execution_count": 40,
   "metadata": {},
   "outputs": [
    {
     "name": "stdout",
     "output_type": "stream",
     "text": [
      "\n",
      "The accuracy for the training data is:\n",
      "0.7126593806921676\n",
      "\n",
      "The accuracy for the validation data is:\n",
      "0.7053734061930783\n",
      "\n",
      "The confusion matrix for the validation data is:\n",
      "[[1274   29   59]\n",
      " [ 358   50   52]\n",
      " [ 138   11  225]]\n",
      "\n",
      "The classification report for the validation data is:\n",
      "              precision    recall  f1-score   support\n",
      "\n",
      "    negative      0.720     0.935     0.814      1362\n",
      "     neutral      0.556     0.109     0.182       460\n",
      "    positive      0.670     0.602     0.634       374\n",
      "\n",
      "    accuracy                          0.705      2196\n",
      "   macro avg      0.648     0.549     0.543      2196\n",
      "weighted avg      0.677     0.705     0.651      2196\n",
      "\n"
     ]
    }
   ],
   "source": [
    "from sklearn.ensemble import AdaBoostClassifier\n",
    "\n",
    "clf_adab = AdaBoostClassifier\n",
    "\n",
    "# run a basic Ada Boost classifier\n",
    "\n",
    "adab_classifier = train_score_classifier(sklearn_classifier=clf_adab,\n",
    "                                          X_train=X_train, \n",
    "                                          y_train=y_train, \n",
    "                                          X_val=X_val, \n",
    "                                          y_val=y_val, \n",
    "                                          model_parameters={'random_state':42})"
   ]
  },
  {
   "cell_type": "code",
   "execution_count": 41,
   "metadata": {},
   "outputs": [
    {
     "name": "stderr",
     "output_type": "stream",
     "text": [
      "/Users/andrewgrant/opt/anaconda3/lib/python3.7/site-packages/sklearn/model_selection/_split.py:1978: FutureWarning: The default value of cv will change from 3 to 5 in version 0.22. Specify it explicitly to silence this warning.\n",
      "  warnings.warn(CV_WARNING, FutureWarning)\n"
     ]
    },
    {
     "data": {
      "text/plain": [
       "GridSearchCV(cv='warn', error_score='raise-deprecating',\n",
       "             estimator=AdaBoostClassifier(algorithm='SAMME.R',\n",
       "                                          base_estimator=None,\n",
       "                                          learning_rate=1.0, n_estimators=50,\n",
       "                                          random_state=42),\n",
       "             iid='warn', n_jobs=None,\n",
       "             param_grid={'algorithm': ['SAMME', 'SAMME.R'],\n",
       "                         'n_estimators': [30, 50, 80, 100]},\n",
       "             pre_dispatch='2*n_jobs', refit=True, return_train_score=False,\n",
       "             scoring=None, verbose=0)"
      ]
     },
     "execution_count": 41,
     "metadata": {},
     "output_type": "execute_result"
    }
   ],
   "source": [
    "\n",
    "# assign paramater values for grid search\n",
    "\n",
    "parameters_adab = {'n_estimators':[30,50,80,100],\n",
    "                  'algorithm':['SAMME', 'SAMME.R']}\n",
    "\n",
    "\n",
    "\n",
    "# assign Ada Boost classifier to abad\n",
    "\n",
    "adab = AdaBoostClassifier(random_state=42)\n",
    "\n",
    "# Initialize GridSearch and fit to training parameters\n",
    "\n",
    "gsc5 = GridSearchCV(adab, parameters_adab)\n",
    "gsc5.fit(X_train,y_train)"
   ]
  },
  {
   "cell_type": "code",
   "execution_count": 42,
   "metadata": {},
   "outputs": [
    {
     "data": {
      "text/plain": [
       "{'algorithm': 'SAMME.R',\n",
       " 'base_estimator': None,\n",
       " 'learning_rate': 1.0,\n",
       " 'n_estimators': 100,\n",
       " 'random_state': 42}"
      ]
     },
     "execution_count": 42,
     "metadata": {},
     "output_type": "execute_result"
    }
   ],
   "source": [
    "# Get the optimal hyperparameters from the grid search\n",
    "\n",
    "gsc5.best_estimator_.get_params() \n",
    "\n",
    "\n"
   ]
  },
  {
   "cell_type": "code",
   "execution_count": 43,
   "metadata": {},
   "outputs": [
    {
     "name": "stdout",
     "output_type": "stream",
     "text": [
      "\n",
      "The accuracy for the training data is:\n",
      "0.7486338797814208\n",
      "\n",
      "The accuracy for the validation data is:\n",
      "0.7299635701275046\n",
      "\n",
      "The confusion matrix for the validation data is:\n",
      "[[1200   94   68]\n",
      " [ 226  182   52]\n",
      " [  97   56  221]]\n",
      "\n",
      "The classification report for the validation data is:\n",
      "              precision    recall  f1-score   support\n",
      "\n",
      "    negative      0.788     0.881     0.832      1362\n",
      "     neutral      0.548     0.396     0.460       460\n",
      "    positive      0.648     0.591     0.618       374\n",
      "\n",
      "    accuracy                          0.730      2196\n",
      "   macro avg      0.661     0.623     0.637      2196\n",
      "weighted avg      0.714     0.730     0.718      2196\n",
      "\n"
     ]
    }
   ],
   "source": [
    "\n",
    "# Run the basic Ada Boost classifier with the optomized hyperparameters\n",
    "\n",
    "adab_classifier_gs = train_score_classifier(sklearn_classifier=clf_adab,\n",
    "                                          X_train=X_train, \n",
    "                                          y_train=y_train, \n",
    "                                          X_val=X_val, \n",
    "                                          y_val=y_val, \n",
    "                                          model_parameters=gsc5.best_estimator_.get_params())"
   ]
  },
  {
   "cell_type": "markdown",
   "metadata": {},
   "source": [
    "## Ada Boost Classifier - SVD Dimension Reduction"
   ]
  },
  {
   "cell_type": "code",
   "execution_count": 44,
   "metadata": {},
   "outputs": [
    {
     "name": "stdout",
     "output_type": "stream",
     "text": [
      "\n",
      "The accuracy for the training data is:\n",
      "0.7248406193078324\n",
      "\n",
      "The accuracy for the validation data is:\n",
      "0.7117486338797814\n",
      "\n",
      "The confusion matrix for the validation data is:\n",
      "[[1199  110   53]\n",
      " [ 252  162   46]\n",
      " [ 119   53  202]]\n",
      "\n",
      "The classification report for the validation data is:\n",
      "              precision    recall  f1-score   support\n",
      "\n",
      "    negative      0.764     0.880     0.818      1362\n",
      "     neutral      0.498     0.352     0.413       460\n",
      "    positive      0.671     0.540     0.599       374\n",
      "\n",
      "    accuracy                          0.712      2196\n",
      "   macro avg      0.644     0.591     0.610      2196\n",
      "weighted avg      0.692     0.712     0.696      2196\n",
      "\n"
     ]
    }
   ],
   "source": [
    "# run a Ada Boost classifier with SVD dimension reduction \n",
    "\n",
    "adab_classifier_svd = train_score_classifier(sklearn_classifier=clf_adab,\n",
    "                                          X_train=X_train_svd, \n",
    "                                          y_train=y_train_svd, \n",
    "                                          X_val=X_val_svd, \n",
    "                                          y_val=y_val_svd, \n",
    "                                          model_parameters={'random_state':42})"
   ]
  },
  {
   "cell_type": "code",
   "execution_count": 45,
   "metadata": {},
   "outputs": [
    {
     "name": "stderr",
     "output_type": "stream",
     "text": [
      "/Users/andrewgrant/opt/anaconda3/lib/python3.7/site-packages/sklearn/model_selection/_split.py:1978: FutureWarning: The default value of cv will change from 3 to 5 in version 0.22. Specify it explicitly to silence this warning.\n",
      "  warnings.warn(CV_WARNING, FutureWarning)\n"
     ]
    },
    {
     "data": {
      "text/plain": [
       "GridSearchCV(cv='warn', error_score='raise-deprecating',\n",
       "             estimator=AdaBoostClassifier(algorithm='SAMME.R',\n",
       "                                          base_estimator=None,\n",
       "                                          learning_rate=1.0, n_estimators=50,\n",
       "                                          random_state=42),\n",
       "             iid='warn', n_jobs=None,\n",
       "             param_grid={'algorithm': ['SAMME', 'SAMME.R'],\n",
       "                         'n_estimators': [30, 50, 80, 100]},\n",
       "             pre_dispatch='2*n_jobs', refit=True, return_train_score=False,\n",
       "             scoring=None, verbose=0)"
      ]
     },
     "execution_count": 45,
     "metadata": {},
     "output_type": "execute_result"
    }
   ],
   "source": [
    "# assign paramater values for grid search\n",
    "\n",
    "parameters_adab = {'n_estimators':[30,50,80,100],\n",
    "                  'algorithm':['SAMME', 'SAMME.R']}\n",
    "\n",
    "\n",
    "\n",
    "# assign Ada Boost classifier to abad\n",
    "\n",
    "adab = AdaBoostClassifier(random_state=42)\n",
    "\n",
    "# Initialize GridSearch and fit to training parameters\n",
    "\n",
    "gsc5_svd = GridSearchCV(adab, parameters_adab)\n",
    "gsc5_svd.fit(X_train_svd,y_train_svd)"
   ]
  },
  {
   "cell_type": "code",
   "execution_count": 46,
   "metadata": {},
   "outputs": [
    {
     "data": {
      "text/plain": [
       "{'algorithm': 'SAMME',\n",
       " 'base_estimator': None,\n",
       " 'learning_rate': 1.0,\n",
       " 'n_estimators': 100,\n",
       " 'random_state': 42}"
      ]
     },
     "execution_count": 46,
     "metadata": {},
     "output_type": "execute_result"
    }
   ],
   "source": [
    "# Get the optimal hyperparameters from the grid search\n",
    "\n",
    "gsc5_svd.best_estimator_.get_params() \n"
   ]
  },
  {
   "cell_type": "code",
   "execution_count": 47,
   "metadata": {},
   "outputs": [
    {
     "name": "stdout",
     "output_type": "stream",
     "text": [
      "\n",
      "The accuracy for the training data is:\n",
      "0.7231329690346083\n",
      "\n",
      "The accuracy for the validation data is:\n",
      "0.7112932604735883\n",
      "\n",
      "The confusion matrix for the validation data is:\n",
      "[[1232  100   30]\n",
      " [ 271  148   41]\n",
      " [ 145   47  182]]\n",
      "\n",
      "The classification report for the validation data is:\n",
      "              precision    recall  f1-score   support\n",
      "\n",
      "    negative      0.748     0.905     0.819      1362\n",
      "     neutral      0.502     0.322     0.392       460\n",
      "    positive      0.719     0.487     0.581       374\n",
      "\n",
      "    accuracy                          0.711      2196\n",
      "   macro avg      0.656     0.571     0.597      2196\n",
      "weighted avg      0.691     0.711     0.689      2196\n",
      "\n"
     ]
    }
   ],
   "source": [
    "# Run the Ada Boost classifier with the optomized hyperparameters\n",
    "\n",
    "adab_classifier_gs_svd = train_score_classifier(sklearn_classifier=clf_adab,\n",
    "                                          X_train=X_train_svd, \n",
    "                                          y_train=y_train_svd, \n",
    "                                          X_val=X_val_svd, \n",
    "                                          y_val=y_val_svd, \n",
    "                                          model_parameters=gsc5_svd.best_estimator_.get_params())"
   ]
  },
  {
   "cell_type": "markdown",
   "metadata": {},
   "source": [
    "## Ada Boost- No Dimension Reduction - Binary Dependent Variable"
   ]
  },
  {
   "cell_type": "code",
   "execution_count": 68,
   "metadata": {},
   "outputs": [
    {
     "name": "stdout",
     "output_type": "stream",
     "text": [
      "\n",
      "The accuracy for the training data is:\n",
      "0.7807377049180327\n",
      "\n",
      "The accuracy for the validation data is:\n",
      "0.773224043715847\n",
      "\n",
      "The confusion matrix for the validation data is:\n",
      "[[1183  179]\n",
      " [ 319  515]]\n",
      "\n",
      "The classification report for the validation data is:\n",
      "              precision    recall  f1-score   support\n",
      "\n",
      "    negative      0.788     0.869     0.826      1362\n",
      "not negative      0.742     0.618     0.674       834\n",
      "\n",
      "    accuracy                          0.773      2196\n",
      "   macro avg      0.765     0.743     0.750      2196\n",
      "weighted avg      0.770     0.773     0.768      2196\n",
      "\n"
     ]
    }
   ],
   "source": [
    "from sklearn.ensemble import AdaBoostClassifier\n",
    "\n",
    "clf_adab = AdaBoostClassifier\n",
    "\n",
    "# run a basic Ada Boost classifier\n",
    "\n",
    "adab_classifier_bin = train_score_classifier(sklearn_classifier=clf_adab,\n",
    "                                          X_train=X_train_bin, \n",
    "                                          y_train=y_train_bin, \n",
    "                                          X_val=X_val_bin, \n",
    "                                          y_val=y_val_bin, \n",
    "                                          model_parameters={'random_state':42})"
   ]
  },
  {
   "cell_type": "code",
   "execution_count": 69,
   "metadata": {},
   "outputs": [
    {
     "name": "stderr",
     "output_type": "stream",
     "text": [
      "/Users/andrewgrant/opt/anaconda3/lib/python3.7/site-packages/sklearn/model_selection/_split.py:1978: FutureWarning: The default value of cv will change from 3 to 5 in version 0.22. Specify it explicitly to silence this warning.\n",
      "  warnings.warn(CV_WARNING, FutureWarning)\n"
     ]
    },
    {
     "data": {
      "text/plain": [
       "GridSearchCV(cv='warn', error_score='raise-deprecating',\n",
       "             estimator=AdaBoostClassifier(algorithm='SAMME.R',\n",
       "                                          base_estimator=None,\n",
       "                                          learning_rate=1.0, n_estimators=50,\n",
       "                                          random_state=42),\n",
       "             iid='warn', n_jobs=None,\n",
       "             param_grid={'algorithm': ['SAMME', 'SAMME.R'],\n",
       "                         'n_estimators': [30, 50, 80, 100]},\n",
       "             pre_dispatch='2*n_jobs', refit=True, return_train_score=False,\n",
       "             scoring=None, verbose=0)"
      ]
     },
     "execution_count": 69,
     "metadata": {},
     "output_type": "execute_result"
    }
   ],
   "source": [
    "\n",
    "# assign paramater values for grid search\n",
    "\n",
    "parameters_adab = {'n_estimators':[30,50,80,100],\n",
    "                  'algorithm':['SAMME', 'SAMME.R']}\n",
    "\n",
    "\n",
    "\n",
    "# assign Ada Boost classifier to abad\n",
    "\n",
    "adab = AdaBoostClassifier(random_state=42)\n",
    "\n",
    "# Initialize GridSearch and fit to training parameters\n",
    "\n",
    "gsc5_bin = GridSearchCV(adab, parameters_adab)\n",
    "gsc5_bin.fit(X_train_bin,y_train_bin)"
   ]
  },
  {
   "cell_type": "code",
   "execution_count": 70,
   "metadata": {},
   "outputs": [
    {
     "data": {
      "text/plain": [
       "{'algorithm': 'SAMME.R',\n",
       " 'base_estimator': None,\n",
       " 'learning_rate': 1.0,\n",
       " 'n_estimators': 100,\n",
       " 'random_state': 42}"
      ]
     },
     "execution_count": 70,
     "metadata": {},
     "output_type": "execute_result"
    }
   ],
   "source": [
    "# Get the optimal hyperparameters from the grid search\n",
    "\n",
    "gsc5_bin.best_estimator_.get_params() \n",
    "\n"
   ]
  },
  {
   "cell_type": "code",
   "execution_count": 71,
   "metadata": {},
   "outputs": [
    {
     "name": "stdout",
     "output_type": "stream",
     "text": [
      "\n",
      "The accuracy for the training data is:\n",
      "0.7967896174863388\n",
      "\n",
      "The accuracy for the validation data is:\n",
      "0.7855191256830601\n",
      "\n",
      "The confusion matrix for the validation data is:\n",
      "[[1212  150]\n",
      " [ 321  513]]\n",
      "\n",
      "The classification report for the validation data is:\n",
      "              precision    recall  f1-score   support\n",
      "\n",
      "    negative      0.791     0.890     0.837      1362\n",
      "not negative      0.774     0.615     0.685       834\n",
      "\n",
      "    accuracy                          0.786      2196\n",
      "   macro avg      0.782     0.752     0.761      2196\n",
      "weighted avg      0.784     0.786     0.780      2196\n",
      "\n"
     ]
    }
   ],
   "source": [
    "\n",
    "# Run the basic Ada Boost classifier with the optomized hyperparameters\n",
    "\n",
    "adab_classifier_gs_bin = train_score_classifier(sklearn_classifier=clf_adab,\n",
    "                                          X_train=X_train_bin, \n",
    "                                          y_train=y_train_bin, \n",
    "                                          X_val=X_val_bin, \n",
    "                                          y_val=y_val_bin, \n",
    "                                          model_parameters=gsc5_bin.best_estimator_.get_params())"
   ]
  },
  {
   "cell_type": "markdown",
   "metadata": {},
   "source": [
    "## Ada Boost- SVD Dimension Reduction - Binary Dependent Variable"
   ]
  },
  {
   "cell_type": "code",
   "execution_count": 72,
   "metadata": {},
   "outputs": [
    {
     "name": "stdout",
     "output_type": "stream",
     "text": [
      "\n",
      "The accuracy for the training data is:\n",
      "0.7856329690346083\n",
      "\n",
      "The accuracy for the validation data is:\n",
      "0.7531876138433515\n",
      "\n",
      "The confusion matrix for the validation data is:\n",
      "[[1114  248]\n",
      " [ 294  540]]\n",
      "\n",
      "The classification report for the validation data is:\n",
      "              precision    recall  f1-score   support\n",
      "\n",
      "    negative      0.791     0.818     0.804      1362\n",
      "not negative      0.685     0.647     0.666       834\n",
      "\n",
      "    accuracy                          0.753      2196\n",
      "   macro avg      0.738     0.733     0.735      2196\n",
      "weighted avg      0.751     0.753     0.752      2196\n",
      "\n"
     ]
    }
   ],
   "source": [
    "# run a Ada Boost classifier with SVD dimension reduction \n",
    "\n",
    "adab_classifier_svd_bin = train_score_classifier(sklearn_classifier=clf_adab,\n",
    "                                          X_train=X_train_svd_bin, \n",
    "                                          y_train=y_train_svd_bin, \n",
    "                                          X_val=X_val_svd_bin, \n",
    "                                          y_val=y_val_svd_bin, \n",
    "                                          model_parameters={'random_state':42})"
   ]
  },
  {
   "cell_type": "code",
   "execution_count": 73,
   "metadata": {},
   "outputs": [
    {
     "name": "stderr",
     "output_type": "stream",
     "text": [
      "/Users/andrewgrant/opt/anaconda3/lib/python3.7/site-packages/sklearn/model_selection/_split.py:1978: FutureWarning: The default value of cv will change from 3 to 5 in version 0.22. Specify it explicitly to silence this warning.\n",
      "  warnings.warn(CV_WARNING, FutureWarning)\n"
     ]
    },
    {
     "data": {
      "text/plain": [
       "GridSearchCV(cv='warn', error_score='raise-deprecating',\n",
       "             estimator=AdaBoostClassifier(algorithm='SAMME.R',\n",
       "                                          base_estimator=None,\n",
       "                                          learning_rate=1.0, n_estimators=50,\n",
       "                                          random_state=42),\n",
       "             iid='warn', n_jobs=None,\n",
       "             param_grid={'algorithm': ['SAMME', 'SAMME.R'],\n",
       "                         'n_estimators': [30, 50, 80, 100]},\n",
       "             pre_dispatch='2*n_jobs', refit=True, return_train_score=False,\n",
       "             scoring=None, verbose=0)"
      ]
     },
     "execution_count": 73,
     "metadata": {},
     "output_type": "execute_result"
    }
   ],
   "source": [
    "# assign paramater values for grid search\n",
    "\n",
    "parameters_adab = {'n_estimators':[30,50,80,100],\n",
    "                  'algorithm':['SAMME', 'SAMME.R']}\n",
    "\n",
    "\n",
    "\n",
    "# assign Ada Boost classifier to abad\n",
    "\n",
    "adab = AdaBoostClassifier(random_state=42)\n",
    "\n",
    "# Initialize GridSearch and fit to training parameters\n",
    "\n",
    "gsc5_svd_bin = GridSearchCV(adab, parameters_adab)\n",
    "gsc5_svd_bin.fit(X_train_svd_bin,y_train_svd_bin)"
   ]
  },
  {
   "cell_type": "code",
   "execution_count": 74,
   "metadata": {},
   "outputs": [
    {
     "data": {
      "text/plain": [
       "{'algorithm': 'SAMME.R',\n",
       " 'base_estimator': None,\n",
       " 'learning_rate': 1.0,\n",
       " 'n_estimators': 80,\n",
       " 'random_state': 42}"
      ]
     },
     "execution_count": 74,
     "metadata": {},
     "output_type": "execute_result"
    }
   ],
   "source": [
    "# Get the optimal hyperparameters from the grid search\n",
    "\n",
    "gsc5_svd_bin.best_estimator_.get_params() \n"
   ]
  },
  {
   "cell_type": "code",
   "execution_count": 75,
   "metadata": {},
   "outputs": [
    {
     "name": "stdout",
     "output_type": "stream",
     "text": [
      "\n",
      "The accuracy for the training data is:\n",
      "0.7949681238615665\n",
      "\n",
      "The accuracy for the validation data is:\n",
      "0.7581967213114754\n",
      "\n",
      "The confusion matrix for the validation data is:\n",
      "[[1116  246]\n",
      " [ 285  549]]\n",
      "\n",
      "The classification report for the validation data is:\n",
      "              precision    recall  f1-score   support\n",
      "\n",
      "    negative      0.797     0.819     0.808      1362\n",
      "not negative      0.691     0.658     0.674       834\n",
      "\n",
      "    accuracy                          0.758      2196\n",
      "   macro avg      0.744     0.739     0.741      2196\n",
      "weighted avg      0.756     0.758     0.757      2196\n",
      "\n"
     ]
    }
   ],
   "source": [
    "# Run the Ada Boost classifier with the optomized hyperparameters\n",
    "\n",
    "adab_classifier_gs_svd_bin = train_score_classifier(sklearn_classifier=clf_adab,\n",
    "                                          X_train=X_train_svd_bin, \n",
    "                                          y_train=y_train_svd_bin, \n",
    "                                          X_val=X_val_svd_bin, \n",
    "                                          y_val=y_val_svd_bin, \n",
    "                                          model_parameters=gsc5_svd_bin.best_estimator_.get_params())"
   ]
  },
  {
   "cell_type": "markdown",
   "metadata": {},
   "source": [
    "## Selecting the Optimal Sentiment Analysis Model - Regular Dependent Variable"
   ]
  },
  {
   "cell_type": "markdown",
   "metadata": {},
   "source": [
    "### Based on the accuracies and F1 Scores of the above models the Neural Network with no dimension reduction model was the best in terms of being the most accurate overall as well as the best at predicting negative sentiment tweets"
   ]
  },
  {
   "cell_type": "code",
   "execution_count": 48,
   "metadata": {},
   "outputs": [
    {
     "name": "stderr",
     "output_type": "stream",
     "text": [
      "/Users/andrewgrant/opt/anaconda3/lib/python3.7/site-packages/sklearn/neural_network/multilayer_perceptron.py:566: ConvergenceWarning: Stochastic Optimizer: Maximum iterations (200) reached and the optimization hasn't converged yet.\n",
      "  % self.max_iter, ConvergenceWarning)\n"
     ]
    },
    {
     "name": "stdout",
     "output_type": "stream",
     "text": [
      "\n",
      "The accuracy for the training data is:\n",
      "0.8220628415300546\n",
      "\n",
      "The accuracy for the validation data is:\n",
      "0.7633879781420765\n",
      "\n",
      "The confusion matrix for the validation data is:\n",
      "[[2083  180   64]\n",
      " [ 334  381   57]\n",
      " [ 133   98  330]]\n",
      "\n",
      "The classification report for the validation data is:\n",
      "              precision    recall  f1-score   support\n",
      "\n",
      "    negative      0.817     0.895     0.854      2327\n",
      "     neutral      0.578     0.494     0.532       772\n",
      "    positive      0.732     0.588     0.652       561\n",
      "\n",
      "    accuracy                          0.763      3660\n",
      "   macro avg      0.709     0.659     0.680      3660\n",
      "weighted avg      0.753     0.763     0.755      3660\n",
      "\n"
     ]
    }
   ],
   "source": [
    "# running the Neural Network with no dimension reduction model on the test data set\n",
    "\n",
    "nn_classifier_gs_test = train_score_classifier(sklearn_classifier=clf_nn,\n",
    "                                          X_train=X_train, \n",
    "                                          y_train=y_train, \n",
    "                                          X_val=X_test, \n",
    "                                          y_val=y_test, \n",
    "                                          model_parameters=gsc3.best_estimator_.get_params())"
   ]
  },
  {
   "cell_type": "markdown",
   "metadata": {},
   "source": [
    "## Selecting the Optimal Sentiment Analysis Model - Binary Dependent Variable"
   ]
  },
  {
   "cell_type": "markdown",
   "metadata": {},
   "source": [
    "### Based on the accuracies of the above binary dependent variable models the Neural Network with no dimension reduction model was the best in terms of being the most accurate overall at predicting negative sentiment tweets"
   ]
  },
  {
   "cell_type": "code",
   "execution_count": 77,
   "metadata": {},
   "outputs": [
    {
     "name": "stderr",
     "output_type": "stream",
     "text": [
      "/Users/andrewgrant/opt/anaconda3/lib/python3.7/site-packages/sklearn/neural_network/multilayer_perceptron.py:566: ConvergenceWarning: Stochastic Optimizer: Maximum iterations (200) reached and the optimization hasn't converged yet.\n",
      "  % self.max_iter, ConvergenceWarning)\n"
     ]
    },
    {
     "name": "stdout",
     "output_type": "stream",
     "text": [
      "\n",
      "The accuracy for the training data is:\n",
      "0.8542805100182149\n",
      "\n",
      "The accuracy for the validation data is:\n",
      "0.8062841530054645\n",
      "\n",
      "The confusion matrix for the validation data is:\n",
      "[[2004  323]\n",
      " [ 386  947]]\n",
      "\n",
      "The classification report for the validation data is:\n",
      "              precision    recall  f1-score   support\n",
      "\n",
      "    negative      0.838     0.861     0.850      2327\n",
      "not negative      0.746     0.710     0.728      1333\n",
      "\n",
      "    accuracy                          0.806      3660\n",
      "   macro avg      0.792     0.786     0.789      3660\n",
      "weighted avg      0.805     0.806     0.805      3660\n",
      "\n"
     ]
    }
   ],
   "source": [
    "nn_classifier_gs_test_bin = train_score_classifier(sklearn_classifier=clf_nn,\n",
    "                                          X_train=X_train_bin, \n",
    "                                          y_train=y_train_bin, \n",
    "                                          X_val=X_test_bin, \n",
    "                                          y_val=y_test_bin, \n",
    "                                          model_parameters=gsc3_bin.best_estimator_.get_params())"
   ]
  }
 ],
 "metadata": {
  "kernelspec": {
   "display_name": "Python 3",
   "language": "python",
   "name": "python3"
  },
  "language_info": {
   "codemirror_mode": {
    "name": "ipython",
    "version": 3
   },
   "file_extension": ".py",
   "mimetype": "text/x-python",
   "name": "python",
   "nbconvert_exporter": "python",
   "pygments_lexer": "ipython3",
   "version": "3.7.4"
  }
 },
 "nbformat": 4,
 "nbformat_minor": 2
}
